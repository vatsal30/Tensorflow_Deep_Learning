{
  "nbformat": 4,
  "nbformat_minor": 0,
  "metadata": {
    "colab": {
      "name": "00_TensorFlow_Basics.ipynb",
      "provenance": [],
      "collapsed_sections": [],
      "authorship_tag": "ABX9TyPQIvZxpGzdYeGCAFF9nBmg",
      "include_colab_link": true
    },
    "kernelspec": {
      "name": "python3",
      "display_name": "Python 3"
    },
    "language_info": {
      "name": "python"
    },
    "accelerator": "GPU"
  },
  "cells": [
    {
      "cell_type": "markdown",
      "metadata": {
        "id": "view-in-github",
        "colab_type": "text"
      },
      "source": [
        "<a href=\"https://colab.research.google.com/github/vatsal30/Tensorflow_Deep_Learning/blob/main/notebooks/00_TensorFlow_Basics.ipynb\" target=\"_parent\"><img src=\"https://colab.research.google.com/assets/colab-badge.svg\" alt=\"Open In Colab\"/></a>"
      ]
    },
    {
      "cell_type": "markdown",
      "metadata": {
        "id": "JCXkOyQJ280N"
      },
      "source": [
        "# Getting started with TensorFlow\n",
        "\n",
        "## What is TensorFlow?\n",
        "\n",
        "[TensorFlow](https://www.tensorflow.org/) is an end-to-end open source platform for machine learning. It has a comprehensive, flexible ecosystem of tools, libraries and community resources that lets researchers push the state-of-the-art in ML and developers easily build and deploy ML powered applications.\n",
        "\n",
        "\n",
        "\n"
      ]
    },
    {
      "cell_type": "markdown",
      "metadata": {
        "id": "uk8kvY0zCF-a"
      },
      "source": [
        "## Why TensorFlow?\n",
        "![Tensorflow_Advantages](https://raw.githubusercontent.com/vatsal30/Tensorflow_Deep_Learning/main/notebooks/images/why_tensorflow.PNG)\n",
        "Source: [TensorFlow](https://www.tensorflow.org/)"
      ]
    },
    {
      "cell_type": "markdown",
      "metadata": {
        "id": "Q3myihyICENJ"
      },
      "source": [
        "## Topics In this notebook\n",
        "\n",
        "* Intro to Tensor\n",
        "* Basic Tensor Operations\n",
        "* Creating Variable ( tf.Variable())\n",
        "* Basic Tensor Opearaions\n",
        "* Getting Information From Tensor\n",
        "* Tensor Manipulation\n",
        "* Tensor and NumPy Array \n",
        "* Using @tf.function\n",
        "* Using GPU\n",
        "\n"
      ]
    },
    {
      "cell_type": "markdown",
      "metadata": {
        "id": "7p4TcjlUCHlI"
      },
      "source": [
        "## Note\n",
        " I am learning from the Daniel Bourke's Github [Repo](https://github.com/mrdbourke/tensorflow-deep-learning) and all things are covered in this notebooks are from his notebooks. Please Checkout his course on tensorflow on [Udemy](https://www.udemy.com/course/tensorflow-developer-certificate-machine-learning-zero-to-mastery/)\n",
        "\n",
        "  Also Many things are from official [Tensorflow Documentation](https://www.tensorflow.org/guide)."
      ]
    },
    {
      "cell_type": "markdown",
      "metadata": {
        "id": "3K4f8UGJR1B1"
      },
      "source": [
        "## Introduction to Tensors\n",
        " [Tensors](https://www.tensorflow.org/guide/tensor) are multi-dimensional arrays with a uniform type. It's Like Numpy [arrays](https://numpy.org/doc/stable/reference/generated/numpy.array.html)\n",
        "\n",
        " All tensors are immutable like Python numbers and strings: you can never update the contents of a tensor, only create a new one.\n",
        "\n",
        " Main difference between tensors and NumPy arrays is that a tensor can be run of GPUs and TPUs.\n"
      ]
    },
    {
      "cell_type": "code",
      "metadata": {
        "colab": {
          "base_uri": "https://localhost:8080/"
        },
        "id": "ACruG3-bRm_v",
        "outputId": "04ab18c8-1de1-40f4-f484-59ec995a104a"
      },
      "source": [
        "import tensorflow as tf\n",
        "print(tf.__version__)"
      ],
      "execution_count": 1,
      "outputs": [
        {
          "output_type": "stream",
          "text": [
            "2.4.1\n"
          ],
          "name": "stdout"
        }
      ]
    },
    {
      "cell_type": "markdown",
      "metadata": {
        "id": "L_vLxtk0i2ha"
      },
      "source": [
        "### Creating Tensor With [`tf.constant()`](https://www.tensorflow.org/guide/tensor)"
      ]
    },
    {
      "cell_type": "code",
      "metadata": {
        "colab": {
          "base_uri": "https://localhost:8080/"
        },
        "id": "u44KBzZwSE9P",
        "outputId": "e0178f4f-4bc3-467e-f3d8-33d13395c8cc"
      },
      "source": [
        "#create tensor with tf.constant()\n",
        "rank_0_tensor = tf.constant(30)\n",
        "rank_0_tensor"
      ],
      "execution_count": 2,
      "outputs": [
        {
          "output_type": "execute_result",
          "data": {
            "text/plain": [
              "<tf.Tensor: shape=(), dtype=int32, numpy=30>"
            ]
          },
          "metadata": {
            "tags": []
          },
          "execution_count": 2
        }
      ]
    },
    {
      "cell_type": "markdown",
      "metadata": {
        "id": "4ZKg1qnI_eVc"
      },
      "source": [
        "This rank_0_tensor also known as scalar. A scalar tensor has no axis."
      ]
    },
    {
      "cell_type": "code",
      "metadata": {
        "colab": {
          "base_uri": "https://localhost:8080/"
        },
        "id": "1Yk4-hWlSRLE",
        "outputId": "8f32972c-6c97-4cfd-e277-d5d8942d8728"
      },
      "source": [
        "#check dimension of tensor\n",
        "rank_0_tensor.ndim"
      ],
      "execution_count": 3,
      "outputs": [
        {
          "output_type": "execute_result",
          "data": {
            "text/plain": [
              "0"
            ]
          },
          "metadata": {
            "tags": []
          },
          "execution_count": 3
        }
      ]
    },
    {
      "cell_type": "code",
      "metadata": {
        "colab": {
          "base_uri": "https://localhost:8080/"
        },
        "id": "pNAJ0ILwVgUV",
        "outputId": "e44807cd-1363-4162-80b8-f18ac171560f"
      },
      "source": [
        "#Create a rank_1_tensor\n",
        "rank_1_tensor = tf.constant([10,20,30])\n",
        "rank_1_tensor"
      ],
      "execution_count": 4,
      "outputs": [
        {
          "output_type": "execute_result",
          "data": {
            "text/plain": [
              "<tf.Tensor: shape=(3,), dtype=int32, numpy=array([10, 20, 30], dtype=int32)>"
            ]
          },
          "metadata": {
            "tags": []
          },
          "execution_count": 4
        }
      ]
    },
    {
      "cell_type": "markdown",
      "metadata": {
        "id": "cc_kFI8F_7iZ"
      },
      "source": [
        "This rank_1_tensor is known as vector. A vector as one axis."
      ]
    },
    {
      "cell_type": "code",
      "metadata": {
        "colab": {
          "base_uri": "https://localhost:8080/"
        },
        "id": "xmUteiDlVmvq",
        "outputId": "3982d723-e8e7-4ddb-b3c5-5dfca346baad"
      },
      "source": [
        "rank_1_tensor.ndim"
      ],
      "execution_count": 5,
      "outputs": [
        {
          "output_type": "execute_result",
          "data": {
            "text/plain": [
              "1"
            ]
          },
          "metadata": {
            "tags": []
          },
          "execution_count": 5
        }
      ]
    },
    {
      "cell_type": "code",
      "metadata": {
        "colab": {
          "base_uri": "https://localhost:8080/"
        },
        "id": "8RgiB85mVrCd",
        "outputId": "65ef59a4-f6fd-4163-dcd5-9e106bc397fa"
      },
      "source": [
        "rank_2_tensor  = tf.constant([[10,20],\n",
        "                     [20,30]])\n",
        "rank_2_tensor "
      ],
      "execution_count": 6,
      "outputs": [
        {
          "output_type": "execute_result",
          "data": {
            "text/plain": [
              "<tf.Tensor: shape=(2, 2), dtype=int32, numpy=\n",
              "array([[10, 20],\n",
              "       [20, 30]], dtype=int32)>"
            ]
          },
          "metadata": {
            "tags": []
          },
          "execution_count": 6
        }
      ]
    },
    {
      "cell_type": "markdown",
      "metadata": {
        "id": "oUC89sWLAM67"
      },
      "source": [
        "This rank_2_tensor is known as matrix and it has 2 axis."
      ]
    },
    {
      "cell_type": "code",
      "metadata": {
        "colab": {
          "base_uri": "https://localhost:8080/"
        },
        "id": "osatlYyaVxWO",
        "outputId": "23055305-d638-4f9c-e53c-0064e12309db"
      },
      "source": [
        "rank_2_tensor.ndim"
      ],
      "execution_count": 7,
      "outputs": [
        {
          "output_type": "execute_result",
          "data": {
            "text/plain": [
              "2"
            ]
          },
          "metadata": {
            "tags": []
          },
          "execution_count": 7
        }
      ]
    },
    {
      "cell_type": "code",
      "metadata": {
        "colab": {
          "base_uri": "https://localhost:8080/"
        },
        "id": "tzaOv2yRV4_F",
        "outputId": "e807e1e2-b565-46ee-e93a-c5a30baa5544"
      },
      "source": [
        "matrix_2 = tf.constant([[1.0,2.4],\n",
        "                        [3.2,3.4],\n",
        "                        [4.5,6.7]], dtype=tf.float16)\n",
        "matrix_2"
      ],
      "execution_count": 8,
      "outputs": [
        {
          "output_type": "execute_result",
          "data": {
            "text/plain": [
              "<tf.Tensor: shape=(3, 2), dtype=float16, numpy=\n",
              "array([[1. , 2.4],\n",
              "       [3.2, 3.4],\n",
              "       [4.5, 6.7]], dtype=float16)>"
            ]
          },
          "metadata": {
            "tags": []
          },
          "execution_count": 8
        }
      ]
    },
    {
      "cell_type": "code",
      "metadata": {
        "colab": {
          "base_uri": "https://localhost:8080/"
        },
        "id": "OHPTm-_FWDwT",
        "outputId": "f8c032cc-0916-412f-d832-e1d3060ded1c"
      },
      "source": [
        "matrix_2.ndim"
      ],
      "execution_count": 9,
      "outputs": [
        {
          "output_type": "execute_result",
          "data": {
            "text/plain": [
              "2"
            ]
          },
          "metadata": {
            "tags": []
          },
          "execution_count": 9
        }
      ]
    },
    {
      "cell_type": "code",
      "metadata": {
        "colab": {
          "base_uri": "https://localhost:8080/"
        },
        "id": "KqfMYRdfWHz2",
        "outputId": "fea7c8bc-4c75-4cee-ddd2-f9cbfc3f78f3"
      },
      "source": [
        "rank_3_tensor = tf.constant([[[1,2,3],\n",
        "                       [3,4,5]],\n",
        "                      [[6,7,8],\n",
        "                       [7,8,9]],\n",
        "                      [[1,2,3],\n",
        "                       [3,4,5]],\n",
        "                      [[6,7,8],\n",
        "                       [7,8,9]]])\n",
        "rank_3_tensor"
      ],
      "execution_count": 10,
      "outputs": [
        {
          "output_type": "execute_result",
          "data": {
            "text/plain": [
              "<tf.Tensor: shape=(4, 2, 3), dtype=int32, numpy=\n",
              "array([[[1, 2, 3],\n",
              "        [3, 4, 5]],\n",
              "\n",
              "       [[6, 7, 8],\n",
              "        [7, 8, 9]],\n",
              "\n",
              "       [[1, 2, 3],\n",
              "        [3, 4, 5]],\n",
              "\n",
              "       [[6, 7, 8],\n",
              "        [7, 8, 9]]], dtype=int32)>"
            ]
          },
          "metadata": {
            "tags": []
          },
          "execution_count": 10
        }
      ]
    },
    {
      "cell_type": "markdown",
      "metadata": {
        "id": "WJO7OGZ5AgV-"
      },
      "source": [
        "The tensor can also have more than 2 dimensions. All above scalar, vector, matrix are all tensors."
      ]
    },
    {
      "cell_type": "code",
      "metadata": {
        "colab": {
          "base_uri": "https://localhost:8080/"
        },
        "id": "MgY2w7RaWlAo",
        "outputId": "ef9be8fb-b118-49a3-97bb-4eaf469f16cc"
      },
      "source": [
        "rank_3_tensor.ndim"
      ],
      "execution_count": 11,
      "outputs": [
        {
          "output_type": "execute_result",
          "data": {
            "text/plain": [
              "3"
            ]
          },
          "metadata": {
            "tags": []
          },
          "execution_count": 11
        }
      ]
    },
    {
      "cell_type": "markdown",
      "metadata": {
        "id": "dCfM9pF1X7cZ"
      },
      "source": [
        "* **Scalar**: a single number\n",
        "* **Vector**: a 1D array of numbers \n",
        "* **Matrix**: a 2D array of numbers\n",
        "* **Tensor**: a n-dimensional array of numbers.(n can be 0, 1, 2 or more than 2)"
      ]
    },
    {
      "cell_type": "markdown",
      "metadata": {
        "id": "eTq6eQZVjCI-"
      },
      "source": [
        "### Creating Tensors with [`tf.Varaible()`](https://www.tensorflow.org/guide/variable)\n",
        "  We can create tensor with `tf.Varaible()`. This tensor can changes and we can assign values to this tensors.\n",
        "\n",
        "  The main differnce between `tf.constant()` and `tf.Variable()` is tensor created by `tf.constant()` are immutable(can't be change) and tensor created by `tf.Variable()` are mutable (can be changed). "
      ]
    },
    {
      "cell_type": "code",
      "metadata": {
        "colab": {
          "base_uri": "https://localhost:8080/"
        },
        "id": "uWHkgYNtiGuU",
        "outputId": "440c0777-3944-4525-c02c-746cc09e6b28"
      },
      "source": [
        "# Cerate Tensors with tf.variable()\n",
        "# A variable here is look like tensor and it is backed by tensor and have same methods as tensors\n",
        "my_tensor = tf.constant([[1,2,3],[3,4,5]])\n",
        "my_variable = tf.Variable([[1,2,3],[3,4,5]])\n",
        "\n",
        "print(my_tensor)\n",
        "print(my_variable)"
      ],
      "execution_count": 12,
      "outputs": [
        {
          "output_type": "stream",
          "text": [
            "tf.Tensor(\n",
            "[[1 2 3]\n",
            " [3 4 5]], shape=(2, 3), dtype=int32)\n",
            "<tf.Variable 'Variable:0' shape=(2, 3) dtype=int32, numpy=\n",
            "array([[1, 2, 3],\n",
            "       [3, 4, 5]], dtype=int32)>\n"
          ],
          "name": "stdout"
        }
      ]
    },
    {
      "cell_type": "markdown",
      "metadata": {
        "id": "CCPHcNxfDRG2"
      },
      "source": [
        "Changing Constant Tensor"
      ]
    },
    {
      "cell_type": "code",
      "metadata": {
        "colab": {
          "base_uri": "https://localhost:8080/",
          "height": 210
        },
        "id": "R2Rxm9DyzgRv",
        "outputId": "75e919da-a71c-4084-a81c-b2149ceedeb1"
      },
      "source": [
        "# you cannot change tensor created by tf.constant\n",
        "# This line will generate an error\n",
        "my_tensor[1,0] = 6 "
      ],
      "execution_count": 13,
      "outputs": [
        {
          "output_type": "error",
          "ename": "TypeError",
          "evalue": "ignored",
          "traceback": [
            "\u001b[0;31m---------------------------------------------------------------------------\u001b[0m",
            "\u001b[0;31mTypeError\u001b[0m                                 Traceback (most recent call last)",
            "\u001b[0;32m<ipython-input-13-ede8497fa15a>\u001b[0m in \u001b[0;36m<module>\u001b[0;34m()\u001b[0m\n\u001b[1;32m      1\u001b[0m \u001b[0;31m# you cannot change tensor created by tf.constant\u001b[0m\u001b[0;34m\u001b[0m\u001b[0;34m\u001b[0m\u001b[0;34m\u001b[0m\u001b[0m\n\u001b[1;32m      2\u001b[0m \u001b[0;31m# This line will generate an error\u001b[0m\u001b[0;34m\u001b[0m\u001b[0;34m\u001b[0m\u001b[0;34m\u001b[0m\u001b[0m\n\u001b[0;32m----> 3\u001b[0;31m \u001b[0mmy_tensor\u001b[0m\u001b[0;34m[\u001b[0m\u001b[0;36m1\u001b[0m\u001b[0;34m,\u001b[0m\u001b[0;36m0\u001b[0m\u001b[0;34m]\u001b[0m \u001b[0;34m=\u001b[0m \u001b[0;36m6\u001b[0m\u001b[0;34m\u001b[0m\u001b[0;34m\u001b[0m\u001b[0m\n\u001b[0m",
            "\u001b[0;31mTypeError\u001b[0m: 'tensorflow.python.framework.ops.EagerTensor' object does not support item assignment"
          ]
        }
      ]
    },
    {
      "cell_type": "markdown",
      "metadata": {
        "id": "322VyenmDWSh"
      },
      "source": [
        "Changing elements of Variable"
      ]
    },
    {
      "cell_type": "code",
      "metadata": {
        "id": "WMTfGPbH0lL6"
      },
      "source": [
        "#If you try to assign Variable\n",
        "# It will generate an error we need .assign() function\n",
        "my_variable[1,0] = 6"
      ],
      "execution_count": null,
      "outputs": []
    },
    {
      "cell_type": "markdown",
      "metadata": {
        "id": "QivefIdfDcTo"
      },
      "source": [
        "To change tensors created by `tf.Variable()` we need to use `tf.assign()` method."
      ]
    },
    {
      "cell_type": "code",
      "metadata": {
        "id": "edgGGXpf0Ewf"
      },
      "source": [
        "# For assign any value in variable you need to use assign function\n",
        "my_variable[1,0].assign(6)\n",
        "my_variable"
      ],
      "execution_count": null,
      "outputs": []
    },
    {
      "cell_type": "markdown",
      "metadata": {
        "id": "PZflKf_qD19U"
      },
      "source": [
        "### Creating Random Tensors\n",
        "\n",
        "Random Tensors are tenosrs of  some arbitrary size  which contain some random numbers.\n",
        "\n",
        "We can create random tensors by using the [`tf.random.Generator`](https://www.tensorflow.org/api_docs/python/tf/random/Generator) class."
      ]
    },
    {
      "cell_type": "code",
      "metadata": {
        "id": "eQr6NymE4ksx"
      },
      "source": [
        "random_1 = tf.random.Generator.from_seed(42)\n",
        "random_1 = random_1.normal(shape=(3,2))\n",
        "print(random_1)\n",
        "random_2 = tf.random.normal(shape=(3,2))\n",
        "print(random_2)"
      ],
      "execution_count": null,
      "outputs": []
    },
    {
      "cell_type": "markdown",
      "metadata": {
        "id": "dHY8ikAiT1ZW"
      },
      "source": [
        "Here [`tf.random.normal`](https://www.tensorflow.org/api_docs/python/tf/random/normal) gives return random values from a normal distribution.\n",
        "\n",
        "To know more about normal distribution check this [video](https://www.youtube.com/watch?v=iYiOVISWXS4)"
      ]
    },
    {
      "cell_type": "code",
      "metadata": {
        "id": "DC9NlyPCQ_MG"
      },
      "source": [
        "random_uniform = tf.random.Generator.from_seed(42)\n",
        "random_uniform = random_uniform.uniform(shape=(3,2), minval = 0, maxval= 16, dtype=tf.int32)\n",
        "random_uniform"
      ],
      "execution_count": null,
      "outputs": []
    },
    {
      "cell_type": "markdown",
      "metadata": {
        "id": "QN-on5U_RWZ-"
      },
      "source": [
        "Here [`tf.random.uniform`](https://www.tensorflow.org/api_docs/python/tf/random/uniform) return random values from a uniform distribution.\n",
        "\n",
        "To know more about uniform distribution check this videos.\n",
        "\n",
        "Discrete: https://www.youtube.com/watch?v=cyIEhL92wiw\n",
        "\n",
        "Continuous: https://www.youtube.com/watch?v=-qt8CPIadWQ"
      ]
    },
    {
      "cell_type": "markdown",
      "metadata": {
        "id": "aqqnKzsnNKVM"
      },
      "source": [
        "The random tensors we've made are actually [pseudorandom numbers](https://www.computerhope.com/jargon/p/pseudo-random.htm) (they appear as random, but really aren't).\n",
        "\n",
        "If we set a seed we'll get the same random numbers (it  similar to `np.random.seed(42)`). \n"
      ]
    },
    {
      "cell_type": "markdown",
      "metadata": {
        "id": "OqjvouNgN6jj"
      },
      "source": [
        "If we change the seed than we get different numbers."
      ]
    },
    {
      "cell_type": "markdown",
      "metadata": {
        "id": "HCwnNBWWOD3k"
      },
      "source": [
        "### Shuffle Tensor\n",
        "\n",
        "Why we need to shuffle?\n",
        "\n",
        "If we are training any classififcation modal and we have data by category than we need to shuffle that data before giving it to the modal to train."
      ]
    },
    {
      "cell_type": "code",
      "metadata": {
        "id": "_hSFv_hGcyxS"
      },
      "source": [
        "not_shuffled = tf.constant([[10, 7],\n",
        "                            [20, 4],\n",
        "                            [30, 5]])\n",
        "not_shuffled.ndim "
      ],
      "execution_count": null,
      "outputs": []
    },
    {
      "cell_type": "code",
      "metadata": {
        "id": "cESeMMFReyNQ"
      },
      "source": [
        "# we get different result every time we run this cell.\n",
        "tf.random.shuffle(not_shuffled)"
      ],
      "execution_count": null,
      "outputs": []
    },
    {
      "cell_type": "code",
      "metadata": {
        "id": "b3gCB1KlPAqM"
      },
      "source": [
        "# Now setting seed paramer to get same result every time\n",
        "# But this not work in practical\n",
        "tf.random.shuffle(not_shuffled, seed=42)"
      ],
      "execution_count": null,
      "outputs": []
    },
    {
      "cell_type": "markdown",
      "metadata": {
        "id": "F5k5VLBPPRbh"
      },
      "source": [
        "Why this not working? \n",
        "\n",
        "For Understandin this we need to under stand how seed works in tensorflow.\n",
        "\n",
        "`tf.random.set_seed()` is explained below with its rules and example but we can find solution of our problem from the rule 4 of [1tf.random.set_seed()`](https://www.tensorflow.org/api_docs/python/tf/random/set_seed) the documentation."
      ]
    },
    {
      "cell_type": "code",
      "metadata": {
        "id": "72lvNcCwP_av"
      },
      "source": [
        "# Shuffle in the same order every time\n",
        "\n",
        "# Set the global seed\n",
        "tf.random.set_seed(42)\n",
        "\n",
        "# set the operation level seed\n",
        "tf.random.shuffle(not_shuffled, seed=7)"
      ],
      "execution_count": null,
      "outputs": []
    },
    {
      "cell_type": "markdown",
      "metadata": {
        "id": "xfczVnxDQiqs"
      },
      "source": [
        "`tf.random.set_seed(42)` sets the global seed, and the `seed` parameter in `tf.random.shuffle(seed=7)` sets the operation seed.\n",
        "\n",
        "Because, \"Operations that rely on a random seed actually derive it from two seeds: the global and operation-level seeds\""
      ]
    },
    {
      "cell_type": "markdown",
      "metadata": {
        "id": "bb-qPyxag-uk"
      },
      "source": [
        "#### [`tf.random.set_seed()`](https://www.tensorflow.org/api_docs/python/tf/random/set_seed)\n",
        "Operations that rely on a random seed actually derive it from two seeds: the global and operation-level seeds. This sets the global seed.\n",
        "\n",
        "Its interactions with operation-level seeds is as follows:\n",
        "\n",
        "> 1. If neither the global seed nor the operation seed is set: A randomly picked seed is used for this op.\n",
        "2. If the graph-level seed is set, but the operation seed is not: The system deterministically picks an operation seed in conjunction with the graph-level seed so that it gets a unique random sequence. Within the same version of tensorflow and user code, this sequence is deterministic. However across different versions, this sequence might change. If the code depends on particular seeds to work, specify both graph-level and operation-level seeds explicitly.\n",
        "3. If the operation seed is set, but the global seed is not set: A default global seed and the specified operation seed are used to determine the random sequence.\n",
        "4. If both the global and the operation seed are set: Both seeds are used in conjunction to determine the random sequence.\n",
        "\n",
        "\n"
      ]
    },
    {
      "cell_type": "code",
      "metadata": {
        "id": "fAb04C6zfhyF",
        "colab": {
          "base_uri": "https://localhost:8080/"
        },
        "outputId": "d836eabd-0f34-4c00-d627-ca9135b2ca99"
      },
      "source": [
        "# If neither the global seed nor the operation seed is set, \n",
        "# we get different results for every call to the random op and every re-run of the program:\n",
        "print(tf.random.uniform([1]))  # generates 'A1'\n",
        "print(tf.random.uniform([1]))  # generates 'A2'"
      ],
      "execution_count": 14,
      "outputs": [
        {
          "output_type": "stream",
          "text": [
            "tf.Tensor([0.593308], shape=(1,), dtype=float32)\n",
            "tf.Tensor([0.59961057], shape=(1,), dtype=float32)\n"
          ],
          "name": "stdout"
        }
      ]
    },
    {
      "cell_type": "code",
      "metadata": {
        "id": "Gm9WOZE4h8jh",
        "colab": {
          "base_uri": "https://localhost:8080/"
        },
        "outputId": "a7a93d01-7c9a-401f-d4b2-8082d01d5236"
      },
      "source": [
        "# If the global seed is set but the operation seed is not set, \n",
        "# we get different results for every call to the random op, but the same sequence for every re-run of the program:\n",
        "tf.random.set_seed(1234)\n",
        "print(tf.random.uniform([1]))  # generates 'A1'\n",
        "print(tf.random.uniform([1]))  # generates 'A2'"
      ],
      "execution_count": 15,
      "outputs": [
        {
          "output_type": "stream",
          "text": [
            "tf.Tensor([0.5380393], shape=(1,), dtype=float32)\n",
            "tf.Tensor([0.3253647], shape=(1,), dtype=float32)\n"
          ],
          "name": "stdout"
        }
      ]
    },
    {
      "cell_type": "code",
      "metadata": {
        "id": "cO882sIoiIZ0",
        "colab": {
          "base_uri": "https://localhost:8080/"
        },
        "outputId": "61b6ec0f-e312-45e8-e5f4-bbaf72c36357"
      },
      "source": [
        "# Rerun the program and run below lines it shows same results as above\n",
        "tf.random.set_seed(1234)\n",
        "print(tf.random.uniform([1]))  # generates 'A1'\n",
        "print(tf.random.uniform([1]))  # generates 'A2'"
      ],
      "execution_count": 16,
      "outputs": [
        {
          "output_type": "stream",
          "text": [
            "tf.Tensor([0.5380393], shape=(1,), dtype=float32)\n",
            "tf.Tensor([0.3253647], shape=(1,), dtype=float32)\n"
          ],
          "name": "stdout"
        }
      ]
    },
    {
      "cell_type": "code",
      "metadata": {
        "id": "8uT8462wiSjc",
        "colab": {
          "base_uri": "https://localhost:8080/"
        },
        "outputId": "d37abb2c-f727-4df5-a7a6-df07e8ad5da3"
      },
      "source": [
        "# If the operation seed is set,\n",
        "# we get different results for every call to the random op, but the same sequence for every re-run of the program:\n",
        "print(tf.random.uniform([1], seed=1))  # generates 'A1'\n",
        "print(tf.random.uniform([1], seed=1))  # generates 'A2'"
      ],
      "execution_count": 17,
      "outputs": [
        {
          "output_type": "stream",
          "text": [
            "tf.Tensor([0.1689806], shape=(1,), dtype=float32)\n",
            "tf.Tensor([0.7539084], shape=(1,), dtype=float32)\n"
          ],
          "name": "stdout"
        }
      ]
    },
    {
      "cell_type": "code",
      "metadata": {
        "id": "qaKoJVxnjUNG",
        "colab": {
          "base_uri": "https://localhost:8080/"
        },
        "outputId": "db6c264a-452a-4bdd-ff00-61dfefbe33f2"
      },
      "source": [
        "# Rerun the program and run below lines it shows same results as above\n",
        "print(tf.random.uniform([1], seed=1))  # generates 'A1'\n",
        "print(tf.random.uniform([1], seed=1))  # generates 'A2'"
      ],
      "execution_count": 18,
      "outputs": [
        {
          "output_type": "stream",
          "text": [
            "tf.Tensor([0.4243431], shape=(1,), dtype=float32)\n",
            "tf.Tensor([0.92531705], shape=(1,), dtype=float32)\n"
          ],
          "name": "stdout"
        }
      ]
    },
    {
      "cell_type": "code",
      "metadata": {
        "id": "DoBu9UCKjZPG",
        "colab": {
          "base_uri": "https://localhost:8080/"
        },
        "outputId": "b1756713-e85a-4666-faad-61c94e83e98f"
      },
      "source": [
        "# If both global and operation level seed are set we get same results for every run\n",
        "tf.random.set_seed(1234)\n",
        "print(tf.random.normal((3,2), seed=1234))"
      ],
      "execution_count": 19,
      "outputs": [
        {
          "output_type": "stream",
          "text": [
            "tf.Tensor(\n",
            "[[-0.12297685 -0.76935077]\n",
            " [-0.13165176  0.08304894]\n",
            " [-3.0015008   0.7919886 ]], shape=(3, 2), dtype=float32)\n"
          ],
          "name": "stdout"
        }
      ]
    },
    {
      "cell_type": "code",
      "metadata": {
        "id": "EWu2ZX7vjfZ2",
        "colab": {
          "base_uri": "https://localhost:8080/"
        },
        "outputId": "195be7b5-79de-4740-c4f3-4f097a7d6cda"
      },
      "source": [
        "# If You restart and run below cell than also it will return same result\n",
        "tf.random.set_seed(1234)\n",
        "print(tf.random.normal((3,2), seed=1234))"
      ],
      "execution_count": 20,
      "outputs": [
        {
          "output_type": "stream",
          "text": [
            "tf.Tensor(\n",
            "[[-0.12297685 -0.76935077]\n",
            " [-0.13165176  0.08304894]\n",
            " [-3.0015008   0.7919886 ]], shape=(3, 2), dtype=float32)\n"
          ],
          "name": "stdout"
        }
      ]
    },
    {
      "cell_type": "markdown",
      "metadata": {
        "id": "5Eb7_51CUspl"
      },
      "source": [
        "### Create Tensors of All ones and All zeros\n",
        "\n",
        "We can use [`tf.ones()`](https://www.tensorflow.org/api_docs/python/tf/ones) to create tensor of all ones and [`tf.zeros()`](https://www.tensorflow.org/api_docs/python/tf/zeros) to create tensor of all zeros."
      ]
    },
    {
      "cell_type": "code",
      "metadata": {
        "id": "xh_2QrT7kta0",
        "colab": {
          "base_uri": "https://localhost:8080/"
        },
        "outputId": "d595f3af-e04c-441f-8fae-463f68147081"
      },
      "source": [
        "# creating tensors of all ones\n",
        "tf.ones((10,7))"
      ],
      "execution_count": 21,
      "outputs": [
        {
          "output_type": "execute_result",
          "data": {
            "text/plain": [
              "<tf.Tensor: shape=(10, 7), dtype=float32, numpy=\n",
              "array([[1., 1., 1., 1., 1., 1., 1.],\n",
              "       [1., 1., 1., 1., 1., 1., 1.],\n",
              "       [1., 1., 1., 1., 1., 1., 1.],\n",
              "       [1., 1., 1., 1., 1., 1., 1.],\n",
              "       [1., 1., 1., 1., 1., 1., 1.],\n",
              "       [1., 1., 1., 1., 1., 1., 1.],\n",
              "       [1., 1., 1., 1., 1., 1., 1.],\n",
              "       [1., 1., 1., 1., 1., 1., 1.],\n",
              "       [1., 1., 1., 1., 1., 1., 1.],\n",
              "       [1., 1., 1., 1., 1., 1., 1.]], dtype=float32)>"
            ]
          },
          "metadata": {
            "tags": []
          },
          "execution_count": 21
        }
      ]
    },
    {
      "cell_type": "code",
      "metadata": {
        "id": "I-zMB7KClgH7",
        "colab": {
          "base_uri": "https://localhost:8080/"
        },
        "outputId": "52c0b655-d3d5-4ff3-ca19-81b07bc21a0c"
      },
      "source": [
        "# creating tensors of all zeros\n",
        "tf.zeros((10, 7))"
      ],
      "execution_count": 22,
      "outputs": [
        {
          "output_type": "execute_result",
          "data": {
            "text/plain": [
              "<tf.Tensor: shape=(10, 7), dtype=float32, numpy=\n",
              "array([[0., 0., 0., 0., 0., 0., 0.],\n",
              "       [0., 0., 0., 0., 0., 0., 0.],\n",
              "       [0., 0., 0., 0., 0., 0., 0.],\n",
              "       [0., 0., 0., 0., 0., 0., 0.],\n",
              "       [0., 0., 0., 0., 0., 0., 0.],\n",
              "       [0., 0., 0., 0., 0., 0., 0.],\n",
              "       [0., 0., 0., 0., 0., 0., 0.],\n",
              "       [0., 0., 0., 0., 0., 0., 0.],\n",
              "       [0., 0., 0., 0., 0., 0., 0.],\n",
              "       [0., 0., 0., 0., 0., 0., 0.]], dtype=float32)>"
            ]
          },
          "metadata": {
            "tags": []
          },
          "execution_count": 22
        }
      ]
    },
    {
      "cell_type": "markdown",
      "metadata": {
        "id": "0EYOU2NaV-Y7"
      },
      "source": [
        "### Create Tensors from Numpy Arrays\n",
        "The main difference between NumPy arrays and Tensorflow tensors is that tensors can run on GPUs or TPUs (Faster Computing).\n",
        "\n",
        "( You can use Jax to use NumPy array direcly to run on GPUs)"
      ]
    },
    {
      "cell_type": "code",
      "metadata": {
        "id": "jFMG6z-7l-Wo",
        "colab": {
          "base_uri": "https://localhost:8080/"
        },
        "outputId": "b4195a90-da06-4781-a967-d34a718067ec"
      },
      "source": [
        "import numpy as np\n",
        "numpy_A = np.arange(1, 25, dtype=np.int32) \n",
        "numpy_A"
      ],
      "execution_count": 23,
      "outputs": [
        {
          "output_type": "execute_result",
          "data": {
            "text/plain": [
              "array([ 1,  2,  3,  4,  5,  6,  7,  8,  9, 10, 11, 12, 13, 14, 15, 16, 17,\n",
              "       18, 19, 20, 21, 22, 23, 24], dtype=int32)"
            ]
          },
          "metadata": {
            "tags": []
          },
          "execution_count": 23
        }
      ]
    },
    {
      "cell_type": "markdown",
      "metadata": {
        "id": "gUjdcN8gW8AB"
      },
      "source": [
        "To convert Numpy array we have two ways we can use `tf.constant()` and pass Numpy Array as arguemnt.\n",
        "\n",
        "Also we can directly convert Numoy arrays using `tf.conver_to_tensor()` "
      ]
    },
    {
      "cell_type": "code",
      "metadata": {
        "id": "eoB9cnSvnFmm",
        "colab": {
          "base_uri": "https://localhost:8080/"
        },
        "outputId": "05dcba94-7614-47d7-daed-c180a1b5d007"
      },
      "source": [
        "A = tf.constant(numpy_A, shape = (2,3,4)) # 2 * 3 * 4 = 24\n",
        "B = tf.constant (numpy_A, shape = (3,8)) # 8 * 3 = 24\n",
        "A, B"
      ],
      "execution_count": 24,
      "outputs": [
        {
          "output_type": "execute_result",
          "data": {
            "text/plain": [
              "(<tf.Tensor: shape=(2, 3, 4), dtype=int32, numpy=\n",
              " array([[[ 1,  2,  3,  4],\n",
              "         [ 5,  6,  7,  8],\n",
              "         [ 9, 10, 11, 12]],\n",
              " \n",
              "        [[13, 14, 15, 16],\n",
              "         [17, 18, 19, 20],\n",
              "         [21, 22, 23, 24]]], dtype=int32)>,\n",
              " <tf.Tensor: shape=(3, 8), dtype=int32, numpy=\n",
              " array([[ 1,  2,  3,  4,  5,  6,  7,  8],\n",
              "        [ 9, 10, 11, 12, 13, 14, 15, 16],\n",
              "        [17, 18, 19, 20, 21, 22, 23, 24]], dtype=int32)>)"
            ]
          },
          "metadata": {
            "tags": []
          },
          "execution_count": 24
        }
      ]
    },
    {
      "cell_type": "markdown",
      "metadata": {
        "id": "QQ6RtdRxXY5K"
      },
      "source": [
        "### Create Tensor Using [`tf.convert_to_tensor()`](https://www.tensorflow.org/api_docs/python/tf/convert_to_tensor)\n",
        "\n",
        "We can  Python objects of various types to Tensor objects. It accepts Tensor objects, numpy arrays, Python lists, and Python scalars. Also we can `tf.Variable` to tf.Tensor using this function."
      ]
    },
    {
      "cell_type": "code",
      "metadata": {
        "colab": {
          "base_uri": "https://localhost:8080/"
        },
        "id": "DLDcTUSaakdz",
        "outputId": "1d37bf02-abe7-4ab6-b610-6486f66a0214"
      },
      "source": [
        "numpy_arr = np.array([[1,2],[3,4]])\n",
        "print(numpy_arr)\n",
        "python_list = [1,2,3,4,5]\n",
        "print(python_list)\n",
        "scalar = 7\n",
        "print(scalar)\n",
        "tensor_variable = tf.Variable(numpy_arr,shape=(2,2))\n",
        "print(tensor_variable)"
      ],
      "execution_count": 25,
      "outputs": [
        {
          "output_type": "stream",
          "text": [
            "[[1 2]\n",
            " [3 4]]\n",
            "[1, 2, 3, 4, 5]\n",
            "7\n",
            "<tf.Variable 'Variable:0' shape=(2, 2) dtype=int64, numpy=\n",
            "array([[1, 2],\n",
            "       [3, 4]])>\n"
          ],
          "name": "stdout"
        }
      ]
    },
    {
      "cell_type": "code",
      "metadata": {
        "colab": {
          "base_uri": "https://localhost:8080/"
        },
        "id": "18aNJHppXX4P",
        "outputId": "fac20bba-921a-41ba-bd57-fc70b0e37b08"
      },
      "source": [
        "tensor_1 = tf.convert_to_tensor(numpy_arr)\n",
        "print(tensor_1)\n",
        "tensor_2 = tf.convert_to_tensor(python_list)\n",
        "print(tensor_2)\n",
        "tensor_3 = tf.convert_to_tensor(scalar)\n",
        "print(tensor_3)\n",
        "tensor_4 = tf.convert_to_tensor(tensor_variable)\n",
        "print(tensor_4)"
      ],
      "execution_count": 26,
      "outputs": [
        {
          "output_type": "stream",
          "text": [
            "tf.Tensor(\n",
            "[[1 2]\n",
            " [3 4]], shape=(2, 2), dtype=int64)\n",
            "tf.Tensor([1 2 3 4 5], shape=(5,), dtype=int32)\n",
            "tf.Tensor(7, shape=(), dtype=int32)\n",
            "tf.Tensor(\n",
            "[[1 2]\n",
            " [3 4]], shape=(2, 2), dtype=int64)\n"
          ],
          "name": "stdout"
        }
      ]
    },
    {
      "cell_type": "markdown",
      "metadata": {
        "id": "77qU1mcQcGYl"
      },
      "source": [
        "### Ragged Tensor\n",
        "A tensor with variable numbers of elements along some axis is called \"ragged\".\n",
        "Use `tf.ragged.RaggedTensor` for ragged data.\n",
        "\n",
        "If we have variable data for different rows we cannot create tensors."
      ]
    },
    {
      "cell_type": "code",
      "metadata": {
        "colab": {
          "base_uri": "https://localhost:8080/",
          "height": 363
        },
        "id": "5c_hl2FhcTBH",
        "outputId": "94949317-9398-49f8-b8c1-69292b5da49b"
      },
      "source": [
        "# For variable column data tf.constant returns error\n",
        "tf.constant([[1,2,3,4],\n",
        "             [5,6],\n",
        "             [7,8,9],\n",
        "             [10]])"
      ],
      "execution_count": 27,
      "outputs": [
        {
          "output_type": "error",
          "ename": "ValueError",
          "evalue": "ignored",
          "traceback": [
            "\u001b[0;31m---------------------------------------------------------------------------\u001b[0m",
            "\u001b[0;31mValueError\u001b[0m                                Traceback (most recent call last)",
            "\u001b[0;32m<ipython-input-27-7ab0a4d9b570>\u001b[0m in \u001b[0;36m<module>\u001b[0;34m()\u001b[0m\n\u001b[1;32m      3\u001b[0m              \u001b[0;34m[\u001b[0m\u001b[0;36m5\u001b[0m\u001b[0;34m,\u001b[0m\u001b[0;36m6\u001b[0m\u001b[0;34m]\u001b[0m\u001b[0;34m,\u001b[0m\u001b[0;34m\u001b[0m\u001b[0;34m\u001b[0m\u001b[0m\n\u001b[1;32m      4\u001b[0m              \u001b[0;34m[\u001b[0m\u001b[0;36m7\u001b[0m\u001b[0;34m,\u001b[0m\u001b[0;36m8\u001b[0m\u001b[0;34m,\u001b[0m\u001b[0;36m9\u001b[0m\u001b[0;34m]\u001b[0m\u001b[0;34m,\u001b[0m\u001b[0;34m\u001b[0m\u001b[0;34m\u001b[0m\u001b[0m\n\u001b[0;32m----> 5\u001b[0;31m              [10]])\n\u001b[0m",
            "\u001b[0;32m/usr/local/lib/python3.7/dist-packages/tensorflow/python/framework/constant_op.py\u001b[0m in \u001b[0;36mconstant\u001b[0;34m(value, dtype, shape, name)\u001b[0m\n\u001b[1;32m    263\u001b[0m   \"\"\"\n\u001b[1;32m    264\u001b[0m   return _constant_impl(value, dtype, shape, name, verify_shape=False,\n\u001b[0;32m--> 265\u001b[0;31m                         allow_broadcast=True)\n\u001b[0m\u001b[1;32m    266\u001b[0m \u001b[0;34m\u001b[0m\u001b[0m\n\u001b[1;32m    267\u001b[0m \u001b[0;34m\u001b[0m\u001b[0m\n",
            "\u001b[0;32m/usr/local/lib/python3.7/dist-packages/tensorflow/python/framework/constant_op.py\u001b[0m in \u001b[0;36m_constant_impl\u001b[0;34m(value, dtype, shape, name, verify_shape, allow_broadcast)\u001b[0m\n\u001b[1;32m    274\u001b[0m       \u001b[0;32mwith\u001b[0m \u001b[0mtrace\u001b[0m\u001b[0;34m.\u001b[0m\u001b[0mTrace\u001b[0m\u001b[0;34m(\u001b[0m\u001b[0;34m\"tf.constant\"\u001b[0m\u001b[0;34m)\u001b[0m\u001b[0;34m:\u001b[0m\u001b[0;34m\u001b[0m\u001b[0;34m\u001b[0m\u001b[0m\n\u001b[1;32m    275\u001b[0m         \u001b[0;32mreturn\u001b[0m \u001b[0m_constant_eager_impl\u001b[0m\u001b[0;34m(\u001b[0m\u001b[0mctx\u001b[0m\u001b[0;34m,\u001b[0m \u001b[0mvalue\u001b[0m\u001b[0;34m,\u001b[0m \u001b[0mdtype\u001b[0m\u001b[0;34m,\u001b[0m \u001b[0mshape\u001b[0m\u001b[0;34m,\u001b[0m \u001b[0mverify_shape\u001b[0m\u001b[0;34m)\u001b[0m\u001b[0;34m\u001b[0m\u001b[0;34m\u001b[0m\u001b[0m\n\u001b[0;32m--> 276\u001b[0;31m     \u001b[0;32mreturn\u001b[0m \u001b[0m_constant_eager_impl\u001b[0m\u001b[0;34m(\u001b[0m\u001b[0mctx\u001b[0m\u001b[0;34m,\u001b[0m \u001b[0mvalue\u001b[0m\u001b[0;34m,\u001b[0m \u001b[0mdtype\u001b[0m\u001b[0;34m,\u001b[0m \u001b[0mshape\u001b[0m\u001b[0;34m,\u001b[0m \u001b[0mverify_shape\u001b[0m\u001b[0;34m)\u001b[0m\u001b[0;34m\u001b[0m\u001b[0;34m\u001b[0m\u001b[0m\n\u001b[0m\u001b[1;32m    277\u001b[0m \u001b[0;34m\u001b[0m\u001b[0m\n\u001b[1;32m    278\u001b[0m   \u001b[0mg\u001b[0m \u001b[0;34m=\u001b[0m \u001b[0mops\u001b[0m\u001b[0;34m.\u001b[0m\u001b[0mget_default_graph\u001b[0m\u001b[0;34m(\u001b[0m\u001b[0;34m)\u001b[0m\u001b[0;34m\u001b[0m\u001b[0;34m\u001b[0m\u001b[0m\n",
            "\u001b[0;32m/usr/local/lib/python3.7/dist-packages/tensorflow/python/framework/constant_op.py\u001b[0m in \u001b[0;36m_constant_eager_impl\u001b[0;34m(ctx, value, dtype, shape, verify_shape)\u001b[0m\n\u001b[1;32m    299\u001b[0m \u001b[0;32mdef\u001b[0m \u001b[0m_constant_eager_impl\u001b[0m\u001b[0;34m(\u001b[0m\u001b[0mctx\u001b[0m\u001b[0;34m,\u001b[0m \u001b[0mvalue\u001b[0m\u001b[0;34m,\u001b[0m \u001b[0mdtype\u001b[0m\u001b[0;34m,\u001b[0m \u001b[0mshape\u001b[0m\u001b[0;34m,\u001b[0m \u001b[0mverify_shape\u001b[0m\u001b[0;34m)\u001b[0m\u001b[0;34m:\u001b[0m\u001b[0;34m\u001b[0m\u001b[0;34m\u001b[0m\u001b[0m\n\u001b[1;32m    300\u001b[0m   \u001b[0;34m\"\"\"Implementation of eager constant.\"\"\"\u001b[0m\u001b[0;34m\u001b[0m\u001b[0;34m\u001b[0m\u001b[0m\n\u001b[0;32m--> 301\u001b[0;31m   \u001b[0mt\u001b[0m \u001b[0;34m=\u001b[0m \u001b[0mconvert_to_eager_tensor\u001b[0m\u001b[0;34m(\u001b[0m\u001b[0mvalue\u001b[0m\u001b[0;34m,\u001b[0m \u001b[0mctx\u001b[0m\u001b[0;34m,\u001b[0m \u001b[0mdtype\u001b[0m\u001b[0;34m)\u001b[0m\u001b[0;34m\u001b[0m\u001b[0;34m\u001b[0m\u001b[0m\n\u001b[0m\u001b[1;32m    302\u001b[0m   \u001b[0;32mif\u001b[0m \u001b[0mshape\u001b[0m \u001b[0;32mis\u001b[0m \u001b[0;32mNone\u001b[0m\u001b[0;34m:\u001b[0m\u001b[0;34m\u001b[0m\u001b[0;34m\u001b[0m\u001b[0m\n\u001b[1;32m    303\u001b[0m     \u001b[0;32mreturn\u001b[0m \u001b[0mt\u001b[0m\u001b[0;34m\u001b[0m\u001b[0;34m\u001b[0m\u001b[0m\n",
            "\u001b[0;32m/usr/local/lib/python3.7/dist-packages/tensorflow/python/framework/constant_op.py\u001b[0m in \u001b[0;36mconvert_to_eager_tensor\u001b[0;34m(value, ctx, dtype)\u001b[0m\n\u001b[1;32m     96\u001b[0m       \u001b[0mdtype\u001b[0m \u001b[0;34m=\u001b[0m \u001b[0mdtypes\u001b[0m\u001b[0;34m.\u001b[0m\u001b[0mas_dtype\u001b[0m\u001b[0;34m(\u001b[0m\u001b[0mdtype\u001b[0m\u001b[0;34m)\u001b[0m\u001b[0;34m.\u001b[0m\u001b[0mas_datatype_enum\u001b[0m\u001b[0;34m\u001b[0m\u001b[0;34m\u001b[0m\u001b[0m\n\u001b[1;32m     97\u001b[0m   \u001b[0mctx\u001b[0m\u001b[0;34m.\u001b[0m\u001b[0mensure_initialized\u001b[0m\u001b[0;34m(\u001b[0m\u001b[0;34m)\u001b[0m\u001b[0;34m\u001b[0m\u001b[0;34m\u001b[0m\u001b[0m\n\u001b[0;32m---> 98\u001b[0;31m   \u001b[0;32mreturn\u001b[0m \u001b[0mops\u001b[0m\u001b[0;34m.\u001b[0m\u001b[0mEagerTensor\u001b[0m\u001b[0;34m(\u001b[0m\u001b[0mvalue\u001b[0m\u001b[0;34m,\u001b[0m \u001b[0mctx\u001b[0m\u001b[0;34m.\u001b[0m\u001b[0mdevice_name\u001b[0m\u001b[0;34m,\u001b[0m \u001b[0mdtype\u001b[0m\u001b[0;34m)\u001b[0m\u001b[0;34m\u001b[0m\u001b[0;34m\u001b[0m\u001b[0m\n\u001b[0m\u001b[1;32m     99\u001b[0m \u001b[0;34m\u001b[0m\u001b[0m\n\u001b[1;32m    100\u001b[0m \u001b[0;34m\u001b[0m\u001b[0m\n",
            "\u001b[0;31mValueError\u001b[0m: Can't convert non-rectangular Python sequence to Tensor."
          ]
        }
      ]
    },
    {
      "cell_type": "code",
      "metadata": {
        "id": "6EITirVUeNZW"
      },
      "source": [
        "ragged_tensor = tf.ragged.constant([[1,2,3,4],\n",
        "             [5,6],\n",
        "             [7,8,9],\n",
        "             [10]])\n",
        "ragged_tensor"
      ],
      "execution_count": null,
      "outputs": []
    },
    {
      "cell_type": "code",
      "metadata": {
        "colab": {
          "base_uri": "https://localhost:8080/",
          "height": 191
        },
        "id": "DJ8MGKrHh_x2",
        "outputId": "b7b0bebc-8c42-463f-a6e8-f50d59687497"
      },
      "source": [
        "# ragged tensor has some exis with unknown lenght\n",
        "ragged_tensor.shape"
      ],
      "execution_count": 28,
      "outputs": [
        {
          "output_type": "error",
          "ename": "NameError",
          "evalue": "ignored",
          "traceback": [
            "\u001b[0;31m---------------------------------------------------------------------------\u001b[0m",
            "\u001b[0;31mNameError\u001b[0m                                 Traceback (most recent call last)",
            "\u001b[0;32m<ipython-input-28-ecfb8dbba95f>\u001b[0m in \u001b[0;36m<module>\u001b[0;34m()\u001b[0m\n\u001b[1;32m      1\u001b[0m \u001b[0;31m# ragged tensor has some exis with unknown lenght\u001b[0m\u001b[0;34m\u001b[0m\u001b[0;34m\u001b[0m\u001b[0;34m\u001b[0m\u001b[0m\n\u001b[0;32m----> 2\u001b[0;31m \u001b[0mragged_tensor\u001b[0m\u001b[0;34m.\u001b[0m\u001b[0mshape\u001b[0m\u001b[0;34m\u001b[0m\u001b[0;34m\u001b[0m\u001b[0m\n\u001b[0m",
            "\u001b[0;31mNameError\u001b[0m: name 'ragged_tensor' is not defined"
          ]
        }
      ]
    },
    {
      "cell_type": "markdown",
      "metadata": {
        "id": "gpZW8S0BeYvu"
      },
      "source": [
        "### Creating String Tensors\n",
        "\n",
        "We can Create string tensors by providing dtype as `tf.string`\n",
        "\n",
        "The strings are atomic and cannot be indexed the way Python strings are. The length of the string is not one of the axes of the tensor.\n",
        "\n",
        "we can use [`tf.strings`](https://www.tensorflow.org/api_docs/python/tf/strings) functions to manipulate them."
      ]
    },
    {
      "cell_type": "code",
      "metadata": {
        "id": "ILa3D74lid7t"
      },
      "source": [
        "string_tensor = tf.constant([['a','brown', 'fox'],\n",
        "                             ['a','red', 'tree']], dtype=tf.string)\n",
        "string_tensor"
      ],
      "execution_count": null,
      "outputs": []
    },
    {
      "cell_type": "markdown",
      "metadata": {
        "id": "_xF-xFuYi9fa"
      },
      "source": [
        "In the above printout the `b` prefix indicates that `tf.string` dtype is not a unicode string, but a byte-string.\n",
        "\n",
        "See the [Unicode Tutorial](https://www.tensorflow.org/tutorials/load_data/unicode) for more about working with unicode text in TensorFlow."
      ]
    },
    {
      "cell_type": "code",
      "metadata": {
        "colab": {
          "base_uri": "https://localhost:8080/"
        },
        "id": "ppd5jlo1ivIe",
        "outputId": "05e9c797-6da1-475f-d862-b75fb3e228c9"
      },
      "source": [
        "string_tensor = tf.constant(['one piece','naruto', 'Dragon ball super'], dtype=tf.string)\n",
        "string_tensor"
      ],
      "execution_count": 29,
      "outputs": [
        {
          "output_type": "execute_result",
          "data": {
            "text/plain": [
              "<tf.Tensor: shape=(3,), dtype=string, numpy=array([b'one piece', b'naruto', b'Dragon ball super'], dtype=object)>"
            ]
          },
          "metadata": {
            "tags": []
          },
          "execution_count": 29
        }
      ]
    },
    {
      "cell_type": "code",
      "metadata": {
        "colab": {
          "base_uri": "https://localhost:8080/"
        },
        "id": "xIgriQDLjrPs",
        "outputId": "ddddf7e0-daeb-4451-e508-3644ff2e5910"
      },
      "source": [
        "# we can use functions of tf.strings on tf.string type tensors\n",
        "print(tf.strings.split(string_tensor))\n",
        "print(tf.strings.split(string_tensor).shape)"
      ],
      "execution_count": 30,
      "outputs": [
        {
          "output_type": "stream",
          "text": [
            "<tf.RaggedTensor [[b'one', b'piece'], [b'naruto'], [b'Dragon', b'ball', b'super']]>\n",
            "(3, None)\n"
          ],
          "name": "stdout"
        }
      ]
    },
    {
      "cell_type": "markdown",
      "metadata": {
        "id": "rZHIkw7-kK-E"
      },
      "source": [
        "Here if split string tensor it will create new ragged tensor."
      ]
    },
    {
      "cell_type": "code",
      "metadata": {
        "colab": {
          "base_uri": "https://localhost:8080/"
        },
        "id": "GKSp6CqCkiEc",
        "outputId": "1a301a35-e932-4fcf-d431-d3e8b3e5ba45"
      },
      "source": [
        "# Also we can use tf.strings.to_number\n",
        "number_tensor = tf.constant([\"1, 2, 3, 4\"])\n",
        "print(number_tensor)\n",
        "\n",
        "print(tf.strings.to_number(tf.strings.split(number_tensor, sep=\", \")))"
      ],
      "execution_count": 31,
      "outputs": [
        {
          "output_type": "stream",
          "text": [
            "tf.Tensor([b'1, 2, 3, 4'], shape=(1,), dtype=string)\n",
            "<tf.RaggedTensor [[1.0, 2.0, 3.0, 4.0]]>\n"
          ],
          "name": "stdout"
        }
      ]
    },
    {
      "cell_type": "markdown",
      "metadata": {
        "id": "gbF6SvT_icYp"
      },
      "source": [
        "### Creating Sparse Tensor\n",
        "\n",
        "Sometimes, your data is sparse, like a very wide embedding space. TensorFlow supports [`tf.sparse.SparseTensor`](https://www.tensorflow.org/api_docs/python/tf/sparse/SparseTensor) and related operations to store sparse data efficiently."
      ]
    },
    {
      "cell_type": "code",
      "metadata": {
        "colab": {
          "base_uri": "https://localhost:8080/"
        },
        "id": "5i6b5puulXnC",
        "outputId": "3e144ad8-2dee-483f-ae8a-e8a8290e0c10"
      },
      "source": [
        "#  Sparse tensors store values by index in a memory-efficient manner\n",
        "sparse_tensor = tf.sparse.SparseTensor(indices=[[0,2], [3,1]], values=[10,20], dense_shape=(5,3))\n",
        "\n",
        "print(sparse_tensor)\n",
        "print()\n",
        "print(tf.sparse.to_dense(sparse_tensor))"
      ],
      "execution_count": 32,
      "outputs": [
        {
          "output_type": "stream",
          "text": [
            "SparseTensor(indices=tf.Tensor(\n",
            "[[0 2]\n",
            " [3 1]], shape=(2, 2), dtype=int64), values=tf.Tensor([10 20], shape=(2,), dtype=int32), dense_shape=tf.Tensor([5 3], shape=(2,), dtype=int64))\n",
            "\n",
            "tf.Tensor(\n",
            "[[ 0  0 10]\n",
            " [ 0  0  0]\n",
            " [ 0  0  0]\n",
            " [ 0 20  0]\n",
            " [ 0  0  0]], shape=(5, 3), dtype=int32)\n"
          ],
          "name": "stdout"
        }
      ]
    },
    {
      "cell_type": "markdown",
      "metadata": {
        "id": "Hi98RNUfmVK_"
      },
      "source": [
        "Here `tf.sparse.SparseTensor` has 3 arguments.\n",
        "\n",
        "* indices = need to specifie index of elements where we need to store values\n",
        "* values = values to store to locations which we specifies in indices\n",
        "* dense_shape = original shape of sparse tensor"
      ]
    },
    {
      "cell_type": "markdown",
      "metadata": {
        "id": "dYr06r8lnMJO"
      },
      "source": [
        "## Getting information from Tensors\n",
        "\n",
        "  Some times we need some information from the tensors. There is some tensor vocabulory we need to know :\n",
        "\n",
        "\n",
        "* Shape: The length (number of elements) of each of the dimensions of a tensor.\n",
        "* Rank: The number of tensor dimensions. A scalar has rank 0, a vector has rank 1, a matrix is rank 2, a tensor has rank n.\n",
        "* Axis or Dimension: A particular dimension of a tensor.\n",
        "* Size: The total number of items in the tensor.\n",
        "\n",
        "\n",
        "| Attribute | Defination | Code |\n",
        "| :----------: | ---- |---------------- |\n",
        "| Shape | The length (number of elements) of each of the dimensions of a tensor.| tensor.shape |\n",
        "| Rank | The number of tensor dimensions. A scalar has rank 0, a vector has rank 1, a matrix is rank 2, a tensor has rank n. | tensor.ndim |\n",
        "| Axis or dimension | A particular dimension of a tensor | tensor[0], tensor[:,-1]... |\n",
        "| Size | he total number of items in the tensor. | tf.size(tensor) |\n",
        "\n",
        "\n"
      ]
    },
    {
      "cell_type": "code",
      "metadata": {
        "id": "NXjzIFTDn5CX",
        "colab": {
          "base_uri": "https://localhost:8080/"
        },
        "outputId": "b63dcd00-e2fe-4bdc-b73d-43d3b3d312d9"
      },
      "source": [
        "# Creating Rank 4 Tensor \n",
        "rank_4_tensor = tf.zeros(shape = (2,3,4,5))\n",
        "rank_4_tensor"
      ],
      "execution_count": 33,
      "outputs": [
        {
          "output_type": "execute_result",
          "data": {
            "text/plain": [
              "<tf.Tensor: shape=(2, 3, 4, 5), dtype=float32, numpy=\n",
              "array([[[[0., 0., 0., 0., 0.],\n",
              "         [0., 0., 0., 0., 0.],\n",
              "         [0., 0., 0., 0., 0.],\n",
              "         [0., 0., 0., 0., 0.]],\n",
              "\n",
              "        [[0., 0., 0., 0., 0.],\n",
              "         [0., 0., 0., 0., 0.],\n",
              "         [0., 0., 0., 0., 0.],\n",
              "         [0., 0., 0., 0., 0.]],\n",
              "\n",
              "        [[0., 0., 0., 0., 0.],\n",
              "         [0., 0., 0., 0., 0.],\n",
              "         [0., 0., 0., 0., 0.],\n",
              "         [0., 0., 0., 0., 0.]]],\n",
              "\n",
              "\n",
              "       [[[0., 0., 0., 0., 0.],\n",
              "         [0., 0., 0., 0., 0.],\n",
              "         [0., 0., 0., 0., 0.],\n",
              "         [0., 0., 0., 0., 0.]],\n",
              "\n",
              "        [[0., 0., 0., 0., 0.],\n",
              "         [0., 0., 0., 0., 0.],\n",
              "         [0., 0., 0., 0., 0.],\n",
              "         [0., 0., 0., 0., 0.]],\n",
              "\n",
              "        [[0., 0., 0., 0., 0.],\n",
              "         [0., 0., 0., 0., 0.],\n",
              "         [0., 0., 0., 0., 0.],\n",
              "         [0., 0., 0., 0., 0.]]]], dtype=float32)>"
            ]
          },
          "metadata": {
            "tags": []
          },
          "execution_count": 33
        }
      ]
    },
    {
      "cell_type": "code",
      "metadata": {
        "id": "GH62JfFB2ya-",
        "colab": {
          "base_uri": "https://localhost:8080/"
        },
        "outputId": "0b619a01-f18f-4af0-fe3a-765e0b9b2e3f"
      },
      "source": [
        "rank_4_tensor[0]"
      ],
      "execution_count": 34,
      "outputs": [
        {
          "output_type": "execute_result",
          "data": {
            "text/plain": [
              "<tf.Tensor: shape=(3, 4, 5), dtype=float32, numpy=\n",
              "array([[[0., 0., 0., 0., 0.],\n",
              "        [0., 0., 0., 0., 0.],\n",
              "        [0., 0., 0., 0., 0.],\n",
              "        [0., 0., 0., 0., 0.]],\n",
              "\n",
              "       [[0., 0., 0., 0., 0.],\n",
              "        [0., 0., 0., 0., 0.],\n",
              "        [0., 0., 0., 0., 0.],\n",
              "        [0., 0., 0., 0., 0.]],\n",
              "\n",
              "       [[0., 0., 0., 0., 0.],\n",
              "        [0., 0., 0., 0., 0.],\n",
              "        [0., 0., 0., 0., 0.],\n",
              "        [0., 0., 0., 0., 0.]]], dtype=float32)>"
            ]
          },
          "metadata": {
            "tags": []
          },
          "execution_count": 34
        }
      ]
    },
    {
      "cell_type": "code",
      "metadata": {
        "id": "L43wg0un3Dh3",
        "colab": {
          "base_uri": "https://localhost:8080/"
        },
        "outputId": "00121987-c7c4-4d8d-fc89-e7c01a3ee90b"
      },
      "source": [
        "print(\"Shape of Tensor : \", rank_4_tensor.shape)\n",
        "print(\"Number or Dimension or Rank of Tensor : \", rank_4_tensor.ndim)\n",
        "print(\"Total Number of Elements (Size) : \", tf.size(rank_4_tensor).numpy())\n",
        "print(\"Data type of Every Eleemnt: \", rank_4_tensor.dtype)\n",
        "print(\"Elements along 0th axis of Tensor: \", rank_4_tensor.shape[0])\n",
        "print(\"Element along with last axis: \", rank_4_tensor.shape[-1])"
      ],
      "execution_count": 35,
      "outputs": [
        {
          "output_type": "stream",
          "text": [
            "Shape of Tensor :  (2, 3, 4, 5)\n",
            "Number or Dimension or Rank of Tensor :  4\n",
            "Total Number of Elements (Size) :  120\n",
            "Data type of Every Eleemnt:  <dtype: 'float32'>\n",
            "Elements along 0th axis of Tensor:  2\n",
            "Element along with last axis:  5\n"
          ],
          "name": "stdout"
        }
      ]
    },
    {
      "cell_type": "markdown",
      "metadata": {
        "id": "xp6N-AJTqCPb"
      },
      "source": [
        "## Acessing Tensor Elements (Indexing)\n",
        "  We index tensor just like the Python List and access any elements from it.\n",
        "\n"
      ]
    },
    {
      "cell_type": "markdown",
      "metadata": {
        "id": "_q1M0S0lwfEi"
      },
      "source": [
        "> Note: We can use `.numpy()` method to convert tensor to numpy array"
      ]
    },
    {
      "cell_type": "code",
      "metadata": {
        "colab": {
          "base_uri": "https://localhost:8080/"
        },
        "id": "9wjmMsgMdoop",
        "outputId": "f2c94fb6-de6b-472c-d302-da8b2d0a5c44"
      },
      "source": [
        "# Indexing Vector Tensor\n",
        "rank_1_tensor = tf.constant([0, 1, 1, 2, 3, 5, 8, 13, 21, 34])\n",
        "\n",
        "print(\"First Eleemnt: \", rank_1_tensor[0].numpy())\n",
        "print(\"Last Element: \", rank_1_tensor[-1].numpy())\n",
        "print(\"Everything: \", rank_1_tensor[:].numpy())\n",
        "print(\"Reverse: \", rank_1_tensor[::-1].numpy())\n",
        "print(\"Element 2 to 6: \",rank_1_tensor[1:6].numpy())\n",
        "print(\"Upto 5 Element:\", rank_1_tensor[:5].numpy())"
      ],
      "execution_count": 36,
      "outputs": [
        {
          "output_type": "stream",
          "text": [
            "First Eleemnt:  0\n",
            "Last Element:  34\n",
            "Everything:  [ 0  1  1  2  3  5  8 13 21 34]\n",
            "Reverse:  [34 21 13  8  5  3  2  1  1  0]\n",
            "Element 2 to 6:  [1 1 2 3 5]\n",
            "Upto 5 Element: [0 1 1 2 3]\n"
          ],
          "name": "stdout"
        }
      ]
    },
    {
      "cell_type": "code",
      "metadata": {
        "colab": {
          "base_uri": "https://localhost:8080/"
        },
        "id": "joLCUng4eFIJ",
        "outputId": "e04c06a1-82c8-4ce3-c247-0780c7df59a8"
      },
      "source": [
        "# Indexing Matrix Tensor\n",
        "matrix = tf.constant([[1.,2.],\n",
        " [3., 4.],\n",
        " [5., 6.]])\n",
        "print(matrix)\n",
        "print(\"\\nSecond Element of 3rd Row: \", matrix[2,1].numpy())\n",
        "print(\"Second Row: \",matrix[1].numpy())\n",
        "print(\"Second Column: \", matrix[:,1].numpy())\n",
        "print(\"Last Row: \", matrix[-1,:].numpy())"
      ],
      "execution_count": 37,
      "outputs": [
        {
          "output_type": "stream",
          "text": [
            "tf.Tensor(\n",
            "[[1. 2.]\n",
            " [3. 4.]\n",
            " [5. 6.]], shape=(3, 2), dtype=float32)\n",
            "\n",
            "Second Element of 3rd Row:  6.0\n",
            "Second Row:  [3. 4.]\n",
            "Second Column:  [2. 4. 6.]\n",
            "Last Row:  [5. 6.]\n"
          ],
          "name": "stdout"
        }
      ]
    },
    {
      "cell_type": "code",
      "metadata": {
        "id": "jbo6NyY64UWX"
      },
      "source": [
        "# Indexing tensor with n dimension\n",
        "rank_4_tensor = tf.random.uniform(shape=(2,3,4,5), minval=0, maxval=120)"
      ],
      "execution_count": 38,
      "outputs": []
    },
    {
      "cell_type": "code",
      "metadata": {
        "colab": {
          "base_uri": "https://localhost:8080/"
        },
        "id": "3IxuCEE7rALq",
        "outputId": "e2b657a2-4ee3-4633-fdf4-4bd650b8c59b"
      },
      "source": [
        "# Elements along 0th axis:\n",
        "rank_4_tensor[0]"
      ],
      "execution_count": 39,
      "outputs": [
        {
          "output_type": "execute_result",
          "data": {
            "text/plain": [
              "<tf.Tensor: shape=(3, 4, 5), dtype=float32, numpy=\n",
              "array([[[ 64.56472  ,  43.75424  ,  69.795616 ,  29.25941  ,\n",
              "          51.640278 ],\n",
              "        [108.74295  ,  60.86649  ,  43.058136 ,  93.46192  ,\n",
              "          70.23625  ],\n",
              "        [ 92.25759  ,  57.990845 ,  70.48675  ,   2.7240229,\n",
              "          52.27863  ],\n",
              "        [117.38875  , 117.72845  ,  17.577724 , 119.34875  ,\n",
              "          93.763504 ]],\n",
              "\n",
              "       [[ 26.415638 ,  58.679153 ,  75.97488  ,  67.64846  ,\n",
              "          48.439964 ],\n",
              "        [ 47.843956 ,  81.92328  ,  92.8955   ,  53.462463 ,\n",
              "           6.821966 ],\n",
              "        [ 29.514284 ,  36.637802 ,  38.083233 ,  23.161911 ,\n",
              "          99.018776 ],\n",
              "        [ 71.07831  ,  44.927444 , 101.20032  ,  28.850985 ,\n",
              "          98.65455  ]],\n",
              "\n",
              "       [[ 19.498701 ,  32.06696  ,  49.544735 ,  70.94456  ,\n",
              "          77.37473  ],\n",
              "        [ 37.933517 , 119.11529  ,  91.08337  ,  49.296913 ,\n",
              "          24.41557  ],\n",
              "        [ 53.345474 ,   2.813673 , 117.628296 , 102.42418  ,\n",
              "           5.801139 ],\n",
              "        [116.722015 ,  93.289505 ,  70.060455 ,  42.846764 ,\n",
              "          37.55194  ]]], dtype=float32)>"
            ]
          },
          "metadata": {
            "tags": []
          },
          "execution_count": 39
        }
      ]
    },
    {
      "cell_type": "code",
      "metadata": {
        "colab": {
          "base_uri": "https://localhost:8080/"
        },
        "id": "CDjWlnbfrAT5",
        "outputId": "9ae6c5e6-8d88-41f5-95cd-1fd0ba5f59e9"
      },
      "source": [
        "# Element along with last axis:\n",
        "rank_4_tensor[-2]"
      ],
      "execution_count": 40,
      "outputs": [
        {
          "output_type": "execute_result",
          "data": {
            "text/plain": [
              "<tf.Tensor: shape=(3, 4, 5), dtype=float32, numpy=\n",
              "array([[[ 64.56472  ,  43.75424  ,  69.795616 ,  29.25941  ,\n",
              "          51.640278 ],\n",
              "        [108.74295  ,  60.86649  ,  43.058136 ,  93.46192  ,\n",
              "          70.23625  ],\n",
              "        [ 92.25759  ,  57.990845 ,  70.48675  ,   2.7240229,\n",
              "          52.27863  ],\n",
              "        [117.38875  , 117.72845  ,  17.577724 , 119.34875  ,\n",
              "          93.763504 ]],\n",
              "\n",
              "       [[ 26.415638 ,  58.679153 ,  75.97488  ,  67.64846  ,\n",
              "          48.439964 ],\n",
              "        [ 47.843956 ,  81.92328  ,  92.8955   ,  53.462463 ,\n",
              "           6.821966 ],\n",
              "        [ 29.514284 ,  36.637802 ,  38.083233 ,  23.161911 ,\n",
              "          99.018776 ],\n",
              "        [ 71.07831  ,  44.927444 , 101.20032  ,  28.850985 ,\n",
              "          98.65455  ]],\n",
              "\n",
              "       [[ 19.498701 ,  32.06696  ,  49.544735 ,  70.94456  ,\n",
              "          77.37473  ],\n",
              "        [ 37.933517 , 119.11529  ,  91.08337  ,  49.296913 ,\n",
              "          24.41557  ],\n",
              "        [ 53.345474 ,   2.813673 , 117.628296 , 102.42418  ,\n",
              "           5.801139 ],\n",
              "        [116.722015 ,  93.289505 ,  70.060455 ,  42.846764 ,\n",
              "          37.55194  ]]], dtype=float32)>"
            ]
          },
          "metadata": {
            "tags": []
          },
          "execution_count": 40
        }
      ]
    },
    {
      "cell_type": "code",
      "metadata": {
        "id": "ogd_UI4u4Hyg",
        "colab": {
          "base_uri": "https://localhost:8080/"
        },
        "outputId": "304c8056-34e1-46a2-d1b4-9c1b9b0df160"
      },
      "source": [
        "# Get First 2 Elemetns of Each Dimension\n",
        "rank_4_tensor[:2, :2, :2, :2]"
      ],
      "execution_count": 41,
      "outputs": [
        {
          "output_type": "execute_result",
          "data": {
            "text/plain": [
              "<tf.Tensor: shape=(2, 2, 2, 2), dtype=float32, numpy=\n",
              "array([[[[ 64.56472 ,  43.75424 ],\n",
              "         [108.74295 ,  60.86649 ]],\n",
              "\n",
              "        [[ 26.415638,  58.679153],\n",
              "         [ 47.843956,  81.92328 ]]],\n",
              "\n",
              "\n",
              "       [[[ 53.768265,  33.721703],\n",
              "         [ 88.636665,  75.23728 ]],\n",
              "\n",
              "        [[ 33.613785,  77.74585 ],\n",
              "         [ 82.87511 ,  90.18487 ]]]], dtype=float32)>"
            ]
          },
          "metadata": {
            "tags": []
          },
          "execution_count": 41
        }
      ]
    },
    {
      "cell_type": "code",
      "metadata": {
        "id": "RSPKDNk15Aqo",
        "colab": {
          "base_uri": "https://localhost:8080/"
        },
        "outputId": "61f9f679-feac-41d2-aa77-bf1f0168efc9"
      },
      "source": [
        "# Get First Element from Each dimension from each index except the final one\n",
        "rank_4_tensor[ :1, :1, :1, :]"
      ],
      "execution_count": 42,
      "outputs": [
        {
          "output_type": "execute_result",
          "data": {
            "text/plain": [
              "<tf.Tensor: shape=(1, 1, 1, 5), dtype=float32, numpy=\n",
              "array([[[[64.56472 , 43.75424 , 69.795616, 29.25941 , 51.640278]]]],\n",
              "      dtype=float32)>"
            ]
          },
          "metadata": {
            "tags": []
          },
          "execution_count": 42
        }
      ]
    },
    {
      "cell_type": "code",
      "metadata": {
        "id": "5FczR34A5j4B",
        "colab": {
          "base_uri": "https://localhost:8080/"
        },
        "outputId": "535f5aa2-a563-4639-d99a-06d246fa73be"
      },
      "source": [
        "# create rank 2 tensor\n",
        "rank_2_tensor = tf.constant([[10, 20],\n",
        "                             [20, 30]])\n",
        "rank_2_tensor"
      ],
      "execution_count": 43,
      "outputs": [
        {
          "output_type": "execute_result",
          "data": {
            "text/plain": [
              "<tf.Tensor: shape=(2, 2), dtype=int32, numpy=\n",
              "array([[10, 20],\n",
              "       [20, 30]], dtype=int32)>"
            ]
          },
          "metadata": {
            "tags": []
          },
          "execution_count": 43
        }
      ]
    },
    {
      "cell_type": "code",
      "metadata": {
        "id": "w8NuHN7R6afA",
        "colab": {
          "base_uri": "https://localhost:8080/"
        },
        "outputId": "e8f59ea9-f3f4-4d4d-8d5f-1b79851ca096"
      },
      "source": [
        "# Get Last Item of Each Row\n",
        "rank_2_tensor[:, -1].numpy()"
      ],
      "execution_count": 44,
      "outputs": [
        {
          "output_type": "execute_result",
          "data": {
            "text/plain": [
              "array([20, 30], dtype=int32)"
            ]
          },
          "metadata": {
            "tags": []
          },
          "execution_count": 44
        }
      ]
    },
    {
      "cell_type": "markdown",
      "metadata": {
        "id": "3nepD0DR3Y2y"
      },
      "source": [
        "## Manipulating Tensors\n",
        "\n",
        "Finding patterns in tensors (numberical representation of data) requires manipulating them.\n",
        "\n",
        "Again, when building models in TensorFlow, much of this pattern discovery is done for you."
      ]
    },
    {
      "cell_type": "markdown",
      "metadata": {
        "id": "5lZvRF-wyP_5"
      },
      "source": [
        "### Basic Operation\n",
        "\n",
        "We can perform most of the basic mathematical tensor operations directly on tensors using Python operators.\n",
        " `+`, `-`, `*`, `/`."
      ]
    },
    {
      "cell_type": "code",
      "metadata": {
        "id": "pOAMorEU9WN3",
        "colab": {
          "base_uri": "https://localhost:8080/"
        },
        "outputId": "1a71a767-ada7-4e8d-f372-ea69c3cb737f"
      },
      "source": [
        "a = tf.constant([[10, 20],\n",
        "                 [30, 40]])\n",
        "a, a+10"
      ],
      "execution_count": 45,
      "outputs": [
        {
          "output_type": "execute_result",
          "data": {
            "text/plain": [
              "(<tf.Tensor: shape=(2, 2), dtype=int32, numpy=\n",
              " array([[10, 20],\n",
              "        [30, 40]], dtype=int32)>, <tf.Tensor: shape=(2, 2), dtype=int32, numpy=\n",
              " array([[20, 30],\n",
              "        [40, 50]], dtype=int32)>)"
            ]
          },
          "metadata": {
            "tags": []
          },
          "execution_count": 45
        }
      ]
    },
    {
      "cell_type": "markdown",
      "metadata": {
        "id": "34fJzc9i2vnY"
      },
      "source": [
        "Here original tensor is not going to update it will create new copy for resulting tensor."
      ]
    },
    {
      "cell_type": "code",
      "metadata": {
        "colab": {
          "base_uri": "https://localhost:8080/"
        },
        "id": "TghopAdt1ccm",
        "outputId": "016420fa-3d76-40a7-88f8-461c3c20db39"
      },
      "source": [
        "a"
      ],
      "execution_count": 46,
      "outputs": [
        {
          "output_type": "execute_result",
          "data": {
            "text/plain": [
              "<tf.Tensor: shape=(2, 2), dtype=int32, numpy=\n",
              "array([[10, 20],\n",
              "       [30, 40]], dtype=int32)>"
            ]
          },
          "metadata": {
            "tags": []
          },
          "execution_count": 46
        }
      ]
    },
    {
      "cell_type": "code",
      "metadata": {
        "id": "5sA8qzm29w1T",
        "colab": {
          "base_uri": "https://localhost:8080/"
        },
        "outputId": "f3a5cc42-9d12-410b-a63c-817b7eba4ff4"
      },
      "source": [
        "a * 10"
      ],
      "execution_count": 47,
      "outputs": [
        {
          "output_type": "execute_result",
          "data": {
            "text/plain": [
              "<tf.Tensor: shape=(2, 2), dtype=int32, numpy=\n",
              "array([[100, 200],\n",
              "       [300, 400]], dtype=int32)>"
            ]
          },
          "metadata": {
            "tags": []
          },
          "execution_count": 47
        }
      ]
    },
    {
      "cell_type": "code",
      "metadata": {
        "id": "xovepdpS97LB",
        "colab": {
          "base_uri": "https://localhost:8080/"
        },
        "outputId": "3631752d-b28c-4418-cebd-43ee92c94449"
      },
      "source": [
        "a - 10"
      ],
      "execution_count": 48,
      "outputs": [
        {
          "output_type": "execute_result",
          "data": {
            "text/plain": [
              "<tf.Tensor: shape=(2, 2), dtype=int32, numpy=\n",
              "array([[ 0, 10],\n",
              "       [20, 30]], dtype=int32)>"
            ]
          },
          "metadata": {
            "tags": []
          },
          "execution_count": 48
        }
      ]
    },
    {
      "cell_type": "code",
      "metadata": {
        "id": "-R8zlxuY98C8",
        "colab": {
          "base_uri": "https://localhost:8080/"
        },
        "outputId": "5a00cd70-58c1-4738-cc5e-f3145ff90414"
      },
      "source": [
        "a / 10"
      ],
      "execution_count": 49,
      "outputs": [
        {
          "output_type": "execute_result",
          "data": {
            "text/plain": [
              "<tf.Tensor: shape=(2, 2), dtype=float64, numpy=\n",
              "array([[1., 2.],\n",
              "       [3., 4.]])>"
            ]
          },
          "metadata": {
            "tags": []
          },
          "execution_count": 49
        }
      ]
    },
    {
      "cell_type": "markdown",
      "metadata": {
        "id": "nF5QCcxz1hEo"
      },
      "source": [
        "You can also use the equivalent TensorFlow function. Using the TensorFlow function (where possible) has the advantage of being sped up later down the line when running as part of a [TensorFlow graph](https://www.tensorflow.org/tensorboard/graphs)."
      ]
    },
    {
      "cell_type": "code",
      "metadata": {
        "id": "0DX1hDrP98y6",
        "colab": {
          "base_uri": "https://localhost:8080/"
        },
        "outputId": "0e2234e7-2df3-453f-8bcc-3f807d775441"
      },
      "source": [
        "tf.multiply(a, 10)"
      ],
      "execution_count": 50,
      "outputs": [
        {
          "output_type": "execute_result",
          "data": {
            "text/plain": [
              "<tf.Tensor: shape=(2, 2), dtype=int32, numpy=\n",
              "array([[100, 200],\n",
              "       [300, 400]], dtype=int32)>"
            ]
          },
          "metadata": {
            "tags": []
          },
          "execution_count": 50
        }
      ]
    },
    {
      "cell_type": "code",
      "metadata": {
        "id": "Ps5tING7DQgO",
        "colab": {
          "base_uri": "https://localhost:8080/"
        },
        "outputId": "f1c93559-e793-4f62-dde9-a6f55845b836"
      },
      "source": [
        "tf.add(a, 10)"
      ],
      "execution_count": 51,
      "outputs": [
        {
          "output_type": "execute_result",
          "data": {
            "text/plain": [
              "<tf.Tensor: shape=(2, 2), dtype=int32, numpy=\n",
              "array([[20, 30],\n",
              "       [40, 50]], dtype=int32)>"
            ]
          },
          "metadata": {
            "tags": []
          },
          "execution_count": 51
        }
      ]
    },
    {
      "cell_type": "code",
      "metadata": {
        "id": "ObnsfifkDSgz",
        "colab": {
          "base_uri": "https://localhost:8080/"
        },
        "outputId": "94b7b5ef-0e4d-422c-f218-ba4cc0d1e67c"
      },
      "source": [
        "tf.subtract(a, 10)"
      ],
      "execution_count": 52,
      "outputs": [
        {
          "output_type": "execute_result",
          "data": {
            "text/plain": [
              "<tf.Tensor: shape=(2, 2), dtype=int32, numpy=\n",
              "array([[ 0, 10],\n",
              "       [20, 30]], dtype=int32)>"
            ]
          },
          "metadata": {
            "tags": []
          },
          "execution_count": 52
        }
      ]
    },
    {
      "cell_type": "code",
      "metadata": {
        "colab": {
          "base_uri": "https://localhost:8080/"
        },
        "id": "DFQvZxDIX4Lr",
        "outputId": "f4a562ec-a7be-4f9d-aabb-c224bd31c922"
      },
      "source": [
        "a = tf.constant([[1,2],\n",
        "                 [3,4]])\n",
        "b = tf.ones([2,2], dtype=tf.int32)\n",
        "print(a)\n",
        "print(b)"
      ],
      "execution_count": 53,
      "outputs": [
        {
          "output_type": "stream",
          "text": [
            "tf.Tensor(\n",
            "[[1 2]\n",
            " [3 4]], shape=(2, 2), dtype=int32)\n",
            "tf.Tensor(\n",
            "[[1 1]\n",
            " [1 1]], shape=(2, 2), dtype=int32)\n"
          ],
          "name": "stdout"
        }
      ]
    },
    {
      "cell_type": "code",
      "metadata": {
        "colab": {
          "base_uri": "https://localhost:8080/"
        },
        "id": "ina6_DwjXyra",
        "outputId": "64621d18-93b7-4487-c56d-011ceb591e6a"
      },
      "source": [
        "# Addition\n",
        "print((a + b))\n",
        "print(tf.add(a,b))"
      ],
      "execution_count": 54,
      "outputs": [
        {
          "output_type": "stream",
          "text": [
            "tf.Tensor(\n",
            "[[2 3]\n",
            " [4 5]], shape=(2, 2), dtype=int32)\n",
            "tf.Tensor(\n",
            "[[2 3]\n",
            " [4 5]], shape=(2, 2), dtype=int32)\n"
          ],
          "name": "stdout"
        }
      ]
    },
    {
      "cell_type": "code",
      "metadata": {
        "colab": {
          "base_uri": "https://localhost:8080/"
        },
        "id": "B2PNpKvCXPPM",
        "outputId": "1eeb66cc-4be7-40d8-c017-1178f592ff4e"
      },
      "source": [
        "#Element wise multiplication\n",
        "print(a*b)\n",
        "print(tf.multiply(a,b))"
      ],
      "execution_count": 55,
      "outputs": [
        {
          "output_type": "stream",
          "text": [
            "tf.Tensor(\n",
            "[[1 2]\n",
            " [3 4]], shape=(2, 2), dtype=int32)\n",
            "tf.Tensor(\n",
            "[[1 2]\n",
            " [3 4]], shape=(2, 2), dtype=int32)\n"
          ],
          "name": "stdout"
        }
      ]
    },
    {
      "cell_type": "markdown",
      "metadata": {
        "id": "fgZR8QpB14ku"
      },
      "source": [
        "### Matrix mutliplication\n",
        "One of the most common operations in machine learning algorithms is [matrix multiplication](https://www.mathsisfun.com/algebra/matrix-multiplying.html).\n",
        "\n",
        "TensorFlow implements this matrix multiplication functionality in the [`tf.matmul()`](https://www.tensorflow.org/api_docs/python/tf/linalg/matmul) method.\n",
        "\n",
        "In Python we have `@` Operator for matrix multiplication.\n",
        "\n",
        "The main two rules for matrix multiplication to remember are:\n",
        "1. The inner dimensions must match:\n",
        "  * `(3, 5) @ (3, 5)` won't work\n",
        "  * `(5, 3) @ (3, 5)` will work\n",
        "  * `(3, 5) @ (5, 3)` will work\n",
        "2. The resulting matrix has the shape of the outer dimensions:\n",
        " * `(5, 3) @ (3, 5)` -> `(5, 5)`"
      ]
    },
    {
      "cell_type": "code",
      "metadata": {
        "colab": {
          "base_uri": "https://localhost:8080/"
        },
        "id": "I0zSUZosa8vC",
        "outputId": "00c9519a-de0e-47af-8a25-1c41a838cb0c"
      },
      "source": [
        "#Matrix Multiplication\n",
        "print(a@b)\n",
        "print(tf.matmul(a,b))"
      ],
      "execution_count": 56,
      "outputs": [
        {
          "output_type": "stream",
          "text": [
            "tf.Tensor(\n",
            "[[3 3]\n",
            " [7 7]], shape=(2, 2), dtype=int32)\n",
            "tf.Tensor(\n",
            "[[3 3]\n",
            " [7 7]], shape=(2, 2), dtype=int32)\n"
          ],
          "name": "stdout"
        }
      ]
    },
    {
      "cell_type": "code",
      "metadata": {
        "id": "I-hLXI4zDpNA",
        "colab": {
          "base_uri": "https://localhost:8080/"
        },
        "outputId": "1792a8f4-4930-46b8-d5b7-874a5fefa021"
      },
      "source": [
        "tf.matmul(a, a)"
      ],
      "execution_count": 57,
      "outputs": [
        {
          "output_type": "execute_result",
          "data": {
            "text/plain": [
              "<tf.Tensor: shape=(2, 2), dtype=int32, numpy=\n",
              "array([[ 7, 10],\n",
              "       [15, 22]], dtype=int32)>"
            ]
          },
          "metadata": {
            "tags": []
          },
          "execution_count": 57
        }
      ]
    },
    {
      "cell_type": "code",
      "metadata": {
        "id": "hUmngOFuELKM",
        "colab": {
          "base_uri": "https://localhost:8080/"
        },
        "outputId": "5d57de69-84a5-44e4-f5db-453a681b023e"
      },
      "source": [
        "# In Python\n",
        "a @ a"
      ],
      "execution_count": 58,
      "outputs": [
        {
          "output_type": "execute_result",
          "data": {
            "text/plain": [
              "<tf.Tensor: shape=(2, 2), dtype=int32, numpy=\n",
              "array([[ 7, 10],\n",
              "       [15, 22]], dtype=int32)>"
            ]
          },
          "metadata": {
            "tags": []
          },
          "execution_count": 58
        }
      ]
    },
    {
      "cell_type": "markdown",
      "metadata": {
        "id": "bri5V0UU2bdv"
      },
      "source": [
        "Above Example is worked because they have same shape (2,2).\n",
        "\n",
        "But if shapes are mismatched than?"
      ]
    },
    {
      "cell_type": "code",
      "metadata": {
        "id": "b9budUtBEQiZ"
      },
      "source": [
        "X = tf.constant([[1, 2],\n",
        "                 [3, 5],\n",
        "                 [7, 2]])\n",
        "Y = tf.constant([[5, 2],\n",
        "                 [5, 7],\n",
        "                 [8, 9]])"
      ],
      "execution_count": 59,
      "outputs": []
    },
    {
      "cell_type": "code",
      "metadata": {
        "id": "SMI-D57pGBQy",
        "colab": {
          "base_uri": "https://localhost:8080/",
          "height": 252
        },
        "outputId": "09cce2ba-6003-4f9d-f947-beed296699c3"
      },
      "source": [
        "# Matrix multiply will return error\n",
        "tf.matmul(X, Y)"
      ],
      "execution_count": 60,
      "outputs": [
        {
          "output_type": "error",
          "ename": "InvalidArgumentError",
          "evalue": "ignored",
          "traceback": [
            "\u001b[0;31m---------------------------------------------------------------------------\u001b[0m",
            "\u001b[0;31mInvalidArgumentError\u001b[0m                      Traceback (most recent call last)",
            "\u001b[0;32m<ipython-input-60-193c4931319d>\u001b[0m in \u001b[0;36m<module>\u001b[0;34m()\u001b[0m\n\u001b[1;32m      1\u001b[0m \u001b[0;31m# Matrix multiply will return error\u001b[0m\u001b[0;34m\u001b[0m\u001b[0;34m\u001b[0m\u001b[0;34m\u001b[0m\u001b[0m\n\u001b[0;32m----> 2\u001b[0;31m \u001b[0mtf\u001b[0m\u001b[0;34m.\u001b[0m\u001b[0mmatmul\u001b[0m\u001b[0;34m(\u001b[0m\u001b[0mX\u001b[0m\u001b[0;34m,\u001b[0m \u001b[0mY\u001b[0m\u001b[0;34m)\u001b[0m\u001b[0;34m\u001b[0m\u001b[0;34m\u001b[0m\u001b[0m\n\u001b[0m",
            "\u001b[0;32m/usr/local/lib/python3.7/dist-packages/tensorflow/python/util/dispatch.py\u001b[0m in \u001b[0;36mwrapper\u001b[0;34m(*args, **kwargs)\u001b[0m\n\u001b[1;32m    199\u001b[0m     \u001b[0;34m\"\"\"Call target, and fall back on dispatchers if there is a TypeError.\"\"\"\u001b[0m\u001b[0;34m\u001b[0m\u001b[0;34m\u001b[0m\u001b[0m\n\u001b[1;32m    200\u001b[0m     \u001b[0;32mtry\u001b[0m\u001b[0;34m:\u001b[0m\u001b[0;34m\u001b[0m\u001b[0;34m\u001b[0m\u001b[0m\n\u001b[0;32m--> 201\u001b[0;31m       \u001b[0;32mreturn\u001b[0m \u001b[0mtarget\u001b[0m\u001b[0;34m(\u001b[0m\u001b[0;34m*\u001b[0m\u001b[0margs\u001b[0m\u001b[0;34m,\u001b[0m \u001b[0;34m**\u001b[0m\u001b[0mkwargs\u001b[0m\u001b[0;34m)\u001b[0m\u001b[0;34m\u001b[0m\u001b[0;34m\u001b[0m\u001b[0m\n\u001b[0m\u001b[1;32m    202\u001b[0m     \u001b[0;32mexcept\u001b[0m \u001b[0;34m(\u001b[0m\u001b[0mTypeError\u001b[0m\u001b[0;34m,\u001b[0m \u001b[0mValueError\u001b[0m\u001b[0;34m)\u001b[0m\u001b[0;34m:\u001b[0m\u001b[0;34m\u001b[0m\u001b[0;34m\u001b[0m\u001b[0m\n\u001b[1;32m    203\u001b[0m       \u001b[0;31m# Note: convert_to_eager_tensor currently raises a ValueError, not a\u001b[0m\u001b[0;34m\u001b[0m\u001b[0;34m\u001b[0m\u001b[0;34m\u001b[0m\u001b[0m\n",
            "\u001b[0;32m/usr/local/lib/python3.7/dist-packages/tensorflow/python/ops/math_ops.py\u001b[0m in \u001b[0;36mmatmul\u001b[0;34m(a, b, transpose_a, transpose_b, adjoint_a, adjoint_b, a_is_sparse, b_is_sparse, name)\u001b[0m\n\u001b[1;32m   3313\u001b[0m     \u001b[0;32melse\u001b[0m\u001b[0;34m:\u001b[0m\u001b[0;34m\u001b[0m\u001b[0;34m\u001b[0m\u001b[0m\n\u001b[1;32m   3314\u001b[0m       return gen_math_ops.mat_mul(\n\u001b[0;32m-> 3315\u001b[0;31m           a, b, transpose_a=transpose_a, transpose_b=transpose_b, name=name)\n\u001b[0m\u001b[1;32m   3316\u001b[0m \u001b[0;34m\u001b[0m\u001b[0m\n\u001b[1;32m   3317\u001b[0m \u001b[0;34m\u001b[0m\u001b[0m\n",
            "\u001b[0;32m/usr/local/lib/python3.7/dist-packages/tensorflow/python/ops/gen_math_ops.py\u001b[0m in \u001b[0;36mmat_mul\u001b[0;34m(a, b, transpose_a, transpose_b, name)\u001b[0m\n\u001b[1;32m   5530\u001b[0m       \u001b[0;32mreturn\u001b[0m \u001b[0m_result\u001b[0m\u001b[0;34m\u001b[0m\u001b[0;34m\u001b[0m\u001b[0m\n\u001b[1;32m   5531\u001b[0m     \u001b[0;32mexcept\u001b[0m \u001b[0m_core\u001b[0m\u001b[0;34m.\u001b[0m\u001b[0m_NotOkStatusException\u001b[0m \u001b[0;32mas\u001b[0m \u001b[0me\u001b[0m\u001b[0;34m:\u001b[0m\u001b[0;34m\u001b[0m\u001b[0;34m\u001b[0m\u001b[0m\n\u001b[0;32m-> 5532\u001b[0;31m       \u001b[0m_ops\u001b[0m\u001b[0;34m.\u001b[0m\u001b[0mraise_from_not_ok_status\u001b[0m\u001b[0;34m(\u001b[0m\u001b[0me\u001b[0m\u001b[0;34m,\u001b[0m \u001b[0mname\u001b[0m\u001b[0;34m)\u001b[0m\u001b[0;34m\u001b[0m\u001b[0;34m\u001b[0m\u001b[0m\n\u001b[0m\u001b[1;32m   5533\u001b[0m     \u001b[0;32mexcept\u001b[0m \u001b[0m_core\u001b[0m\u001b[0;34m.\u001b[0m\u001b[0m_FallbackException\u001b[0m\u001b[0;34m:\u001b[0m\u001b[0;34m\u001b[0m\u001b[0;34m\u001b[0m\u001b[0m\n\u001b[1;32m   5534\u001b[0m       \u001b[0;32mpass\u001b[0m\u001b[0;34m\u001b[0m\u001b[0;34m\u001b[0m\u001b[0m\n",
            "\u001b[0;32m/usr/local/lib/python3.7/dist-packages/tensorflow/python/framework/ops.py\u001b[0m in \u001b[0;36mraise_from_not_ok_status\u001b[0;34m(e, name)\u001b[0m\n\u001b[1;32m   6860\u001b[0m   \u001b[0mmessage\u001b[0m \u001b[0;34m=\u001b[0m \u001b[0me\u001b[0m\u001b[0;34m.\u001b[0m\u001b[0mmessage\u001b[0m \u001b[0;34m+\u001b[0m \u001b[0;34m(\u001b[0m\u001b[0;34m\" name: \"\u001b[0m \u001b[0;34m+\u001b[0m \u001b[0mname\u001b[0m \u001b[0;32mif\u001b[0m \u001b[0mname\u001b[0m \u001b[0;32mis\u001b[0m \u001b[0;32mnot\u001b[0m \u001b[0;32mNone\u001b[0m \u001b[0;32melse\u001b[0m \u001b[0;34m\"\"\u001b[0m\u001b[0;34m)\u001b[0m\u001b[0;34m\u001b[0m\u001b[0;34m\u001b[0m\u001b[0m\n\u001b[1;32m   6861\u001b[0m   \u001b[0;31m# pylint: disable=protected-access\u001b[0m\u001b[0;34m\u001b[0m\u001b[0;34m\u001b[0m\u001b[0;34m\u001b[0m\u001b[0m\n\u001b[0;32m-> 6862\u001b[0;31m   \u001b[0msix\u001b[0m\u001b[0;34m.\u001b[0m\u001b[0mraise_from\u001b[0m\u001b[0;34m(\u001b[0m\u001b[0mcore\u001b[0m\u001b[0;34m.\u001b[0m\u001b[0m_status_to_exception\u001b[0m\u001b[0;34m(\u001b[0m\u001b[0me\u001b[0m\u001b[0;34m.\u001b[0m\u001b[0mcode\u001b[0m\u001b[0;34m,\u001b[0m \u001b[0mmessage\u001b[0m\u001b[0;34m)\u001b[0m\u001b[0;34m,\u001b[0m \u001b[0;32mNone\u001b[0m\u001b[0;34m)\u001b[0m\u001b[0;34m\u001b[0m\u001b[0;34m\u001b[0m\u001b[0m\n\u001b[0m\u001b[1;32m   6863\u001b[0m   \u001b[0;31m# pylint: enable=protected-access\u001b[0m\u001b[0;34m\u001b[0m\u001b[0;34m\u001b[0m\u001b[0;34m\u001b[0m\u001b[0m\n\u001b[1;32m   6864\u001b[0m \u001b[0;34m\u001b[0m\u001b[0m\n",
            "\u001b[0;32m/usr/local/lib/python3.7/dist-packages/six.py\u001b[0m in \u001b[0;36mraise_from\u001b[0;34m(value, from_value)\u001b[0m\n",
            "\u001b[0;31mInvalidArgumentError\u001b[0m: Matrix size-incompatible: In[0]: [3,2], In[1]: [3,2] [Op:MatMul]"
          ]
        }
      ]
    },
    {
      "cell_type": "markdown",
      "metadata": {
        "id": "mbXa3Afe26iP"
      },
      "source": [
        "Here we are trying to multiply two tensors with shape `(3,2)` which returns error because inner dimension don't match.\n",
        "\n",
        "We need to either:\n",
        "* Reshape X to `(2, 3)`. This will gives  `(2,3) @ (3,2) => (2,2)`\n",
        "* Reshape Y to `(2, 3)`. This will gives  `(3,2) @ (2,3) => (3,3)`\n",
        "\n",
        "We can decide where we need to resize X or Y based on the what shape we want in resultant matrix.\n",
        "\n",
        "We can do this with either:\n",
        "* [`tf.reshape()`](https://www.tensorflow.org/api_docs/python/tf/reshape) - allows us to reshape a tensor into a defined shape.\n",
        "* [`tf.transpose()`](https://www.tensorflow.org/api_docs/python/tf/transpose) - switches the dimensions of a given tensor.\n"
      ]
    },
    {
      "cell_type": "markdown",
      "metadata": {
        "id": "x4n2sJgL4jvQ"
      },
      "source": [
        "**Try with `tf.reshape()`**"
      ]
    },
    {
      "cell_type": "code",
      "metadata": {
        "id": "s0ICaunqGDxs",
        "colab": {
          "base_uri": "https://localhost:8080/"
        },
        "outputId": "e8377ce1-521a-4832-90b4-cd333a40ceb1"
      },
      "source": [
        "# Example of reshape (3, 2) -> (2, 3)\n",
        "X.shape, tf.reshape(Y, shape=(2,3)).shape"
      ],
      "execution_count": 61,
      "outputs": [
        {
          "output_type": "execute_result",
          "data": {
            "text/plain": [
              "(TensorShape([3, 2]), TensorShape([2, 3]))"
            ]
          },
          "metadata": {
            "tags": []
          },
          "execution_count": 61
        }
      ]
    },
    {
      "cell_type": "code",
      "metadata": {
        "id": "810Es-ZgGJQS",
        "colab": {
          "base_uri": "https://localhost:8080/"
        },
        "outputId": "3e41489a-31e7-4887-f7ab-3c61c98fd065"
      },
      "source": [
        "# Matrix Multiplication with reshaped Y and python operator\n",
        "X @ tf.reshape(Y, shape=(2,3))"
      ],
      "execution_count": 62,
      "outputs": [
        {
          "output_type": "execute_result",
          "data": {
            "text/plain": [
              "<tf.Tensor: shape=(3, 3), dtype=int32, numpy=\n",
              "array([[19, 18, 23],\n",
              "       [50, 46, 60],\n",
              "       [49, 30, 53]], dtype=int32)>"
            ]
          },
          "metadata": {
            "tags": []
          },
          "execution_count": 62
        }
      ]
    },
    {
      "cell_type": "code",
      "metadata": {
        "id": "WRZt_46JGIJM",
        "colab": {
          "base_uri": "https://localhost:8080/"
        },
        "outputId": "9ab559c2-e30f-494b-b62b-c18c11db5c55"
      },
      "source": [
        "# Matrix Multiplication with reshaped X and tf.matmul\n",
        "tf.matmul(tf.reshape(X, shape=(2,3)), Y)"
      ],
      "execution_count": 63,
      "outputs": [
        {
          "output_type": "execute_result",
          "data": {
            "text/plain": [
              "<tf.Tensor: shape=(2, 2), dtype=int32, numpy=\n",
              "array([[39, 43],\n",
              "       [76, 77]], dtype=int32)>"
            ]
          },
          "metadata": {
            "tags": []
          },
          "execution_count": 63
        }
      ]
    },
    {
      "cell_type": "markdown",
      "metadata": {
        "id": "fqgq8gsY5ZZ9"
      },
      "source": [
        "**Try with [`tf.transpose()`](https://www.tensorflow.org/api_docs/python/tf/transpose)**"
      ]
    },
    {
      "cell_type": "code",
      "metadata": {
        "id": "msdLxoOTGdOz",
        "colab": {
          "base_uri": "https://localhost:8080/",
          "height": 191
        },
        "outputId": "f900f703-93c2-450f-d5dd-134e631c119e"
      },
      "source": [
        "# Example of transpose (3,2) -> (2,3)\n",
        "y, tf.transpose(y)"
      ],
      "execution_count": 64,
      "outputs": [
        {
          "output_type": "error",
          "ename": "NameError",
          "evalue": "ignored",
          "traceback": [
            "\u001b[0;31m---------------------------------------------------------------------------\u001b[0m",
            "\u001b[0;31mNameError\u001b[0m                                 Traceback (most recent call last)",
            "\u001b[0;32m<ipython-input-64-6c92508b0b99>\u001b[0m in \u001b[0;36m<module>\u001b[0;34m()\u001b[0m\n\u001b[1;32m      1\u001b[0m \u001b[0;31m# Example of transpose (3,2) -> (2,3)\u001b[0m\u001b[0;34m\u001b[0m\u001b[0;34m\u001b[0m\u001b[0;34m\u001b[0m\u001b[0m\n\u001b[0;32m----> 2\u001b[0;31m \u001b[0my\u001b[0m\u001b[0;34m,\u001b[0m \u001b[0mtf\u001b[0m\u001b[0;34m.\u001b[0m\u001b[0mtranspose\u001b[0m\u001b[0;34m(\u001b[0m\u001b[0my\u001b[0m\u001b[0;34m)\u001b[0m\u001b[0;34m\u001b[0m\u001b[0;34m\u001b[0m\u001b[0m\n\u001b[0m",
            "\u001b[0;31mNameError\u001b[0m: name 'y' is not defined"
          ]
        }
      ]
    },
    {
      "cell_type": "code",
      "metadata": {
        "id": "fwZvYPp75uHH"
      },
      "source": [
        "# Try matrix multiplication \n",
        "tf.matmul(tf.transpose(X), Y)"
      ],
      "execution_count": null,
      "outputs": []
    },
    {
      "cell_type": "code",
      "metadata": {
        "colab": {
          "base_uri": "https://localhost:8080/"
        },
        "id": "Bg6kwW3R5vTN",
        "outputId": "b1d10244-8465-41be-ce9c-f5d5b09317b2"
      },
      "source": [
        "# Also we can create same result using parameters of `tf.matmul()`\n",
        "tf.matmul(X, Y, transpose_a=True, transpose_b=False)"
      ],
      "execution_count": 65,
      "outputs": [
        {
          "output_type": "execute_result",
          "data": {
            "text/plain": [
              "<tf.Tensor: shape=(2, 2), dtype=int32, numpy=\n",
              "array([[76, 86],\n",
              "       [51, 57]], dtype=int32)>"
            ]
          },
          "metadata": {
            "tags": []
          },
          "execution_count": 65
        }
      ]
    },
    {
      "cell_type": "markdown",
      "metadata": {
        "id": "xx3JBAaWE8lb"
      },
      "source": [
        "Here we can see that while using `tf.reshape()` and `tf.transpose()` returns different results ."
      ]
    },
    {
      "cell_type": "code",
      "metadata": {
        "colab": {
          "base_uri": "https://localhost:8080/"
        },
        "id": "5OzuGJOAFN5C",
        "outputId": "6762ecc6-d9e5-40ec-cf60-cd1c08707693"
      },
      "source": [
        "# Perform matrix multiplication between X and Y (transposed)\n",
        "tf.matmul(X, tf.transpose(Y))"
      ],
      "execution_count": 66,
      "outputs": [
        {
          "output_type": "execute_result",
          "data": {
            "text/plain": [
              "<tf.Tensor: shape=(3, 3), dtype=int32, numpy=\n",
              "array([[ 9, 19, 26],\n",
              "       [25, 50, 69],\n",
              "       [39, 49, 74]], dtype=int32)>"
            ]
          },
          "metadata": {
            "tags": []
          },
          "execution_count": 66
        }
      ]
    },
    {
      "cell_type": "code",
      "metadata": {
        "colab": {
          "base_uri": "https://localhost:8080/"
        },
        "id": "vYUlCYv_FYr3",
        "outputId": "b23a2883-1500-47e6-fb44-f34cc6be3b75"
      },
      "source": [
        "# Perform matrix multiplication between X and Y (reshaped)\n",
        "tf.matmul(X, tf.reshape(Y, shape=(2,3)))"
      ],
      "execution_count": 67,
      "outputs": [
        {
          "output_type": "execute_result",
          "data": {
            "text/plain": [
              "<tf.Tensor: shape=(3, 3), dtype=int32, numpy=\n",
              "array([[19, 18, 23],\n",
              "       [50, 46, 60],\n",
              "       [49, 30, 53]], dtype=int32)>"
            ]
          },
          "metadata": {
            "tags": []
          },
          "execution_count": 67
        }
      ]
    },
    {
      "cell_type": "markdown",
      "metadata": {
        "id": "EZI1NYZHFvXW"
      },
      "source": [
        "Here we are changing shape of Y to `(2,3)` by using both functions but resulting values of Y is different for both function."
      ]
    },
    {
      "cell_type": "code",
      "metadata": {
        "colab": {
          "base_uri": "https://localhost:8080/"
        },
        "id": "aqPXfMliIIR-",
        "outputId": "d3ac84e7-d951-4bed-d53c-05171d762167"
      },
      "source": [
        "print(f'Original Y : \\n {Y} \\n')\n",
        "print(f'Reshaped Y Shape (2,3) : \\n {tf.reshape(Y, shape=(2,3))} \\n')\n",
        "print(f'Transposed Y Shape (2,3) : \\n {tf.transpose(Y)} \\n')"
      ],
      "execution_count": 68,
      "outputs": [
        {
          "output_type": "stream",
          "text": [
            "Original Y : \n",
            " [[5 2]\n",
            " [5 7]\n",
            " [8 9]] \n",
            "\n",
            "Reshaped Y Shape (2,3) : \n",
            " [[5 2 5]\n",
            " [7 8 9]] \n",
            "\n",
            "Transposed Y Shape (2,3) : \n",
            " [[5 5 8]\n",
            " [2 7 9]] \n",
            "\n"
          ],
          "name": "stdout"
        }
      ]
    },
    {
      "cell_type": "markdown",
      "metadata": {
        "id": "kQ4RmSOKJnZV"
      },
      "source": [
        "As you can see, the outputs of `tf.reshape()` and `tf.transpose()` when called on `Y`, even though they have the same shape, are different.\n",
        "\n",
        "This can be explained by the default behaviour of each method:\n",
        "* [`tf.reshape()`](https://www.tensorflow.org/api_docs/python/tf/reshape) - change the shape of the given tensor (first) and then insert values in order they appear (in our case, 7, 8, 9, 10, 11, 12).\n",
        "* [`tf.transpose()`](https://www.tensorflow.org/api_docs/python/tf/transpose) - swap the order of the axes, by default the last axis becomes the first, however the order can be changed using the [`perm` parameter](https://www.tensorflow.org/api_docs/python/tf/transpose)."
      ]
    },
    {
      "cell_type": "markdown",
      "metadata": {
        "id": "CbF0jVGqEFFX"
      },
      "source": [
        "### The dot product\n",
        "\n",
        "Multiplying matrices by eachother is also referred to as the dot product.\n",
        "\n",
        "You can perform the `tf.matmul()` operation using [`tf.tensordot()`](https://www.tensorflow.org/api_docs/python/tf/tensordot)."
      ]
    },
    {
      "cell_type": "code",
      "metadata": {
        "colab": {
          "base_uri": "https://localhost:8080/"
        },
        "id": "gAqEabWOEPUu",
        "outputId": "d267fd4b-3af7-4b1f-d9b4-44ea65148ca0"
      },
      "source": [
        "tf.tensordot(X, tf.reshape(X, shape=(2,3)), axes=1)"
      ],
      "execution_count": 69,
      "outputs": [
        {
          "output_type": "execute_result",
          "data": {
            "text/plain": [
              "<tf.Tensor: shape=(3, 3), dtype=int32, numpy=\n",
              "array([[11, 16,  7],\n",
              "       [28, 41, 19],\n",
              "       [17, 28, 25]], dtype=int32)>"
            ]
          },
          "metadata": {
            "tags": []
          },
          "execution_count": 69
        }
      ]
    },
    {
      "cell_type": "markdown",
      "metadata": {
        "id": "BXnKuURyKgGc"
      },
      "source": [
        "### Changing the datatype of a tensor\n",
        "\n",
        "Sometimes you'll want to alter the default datatype of your tensor. \n",
        "\n",
        "This is common when you want to compute using less precision (e.g. 16-bit floating point numbers vs. 32-bit floating point numbers). \n",
        "\n",
        "Computing with less precision is useful on devices with less computing capacity such as mobile devices (because the less bits, the less space the computations require).\n",
        "\n",
        "You can change the datatype of a tensor using [`tf.cast()`](https://www.tensorflow.org/api_docs/python/tf/cast)."
      ]
    },
    {
      "cell_type": "code",
      "metadata": {
        "colab": {
          "base_uri": "https://localhost:8080/"
        },
        "id": "-LuVEGfcLOCU",
        "outputId": "c083d23e-f2ba-4be2-e597-47b0e555c214"
      },
      "source": [
        "A =  tf.constant([2.4,3.6,4.2])\n",
        "print(\"Datatype of A : \", A.dtype)\n",
        "B = tf.constant([3, 4, 5])\n",
        "print(\"Datatype of B : \", B.dtype)"
      ],
      "execution_count": 70,
      "outputs": [
        {
          "output_type": "stream",
          "text": [
            "Datatype of A :  <dtype: 'float32'>\n",
            "Datatype of B :  <dtype: 'int32'>\n"
          ],
          "name": "stdout"
        }
      ]
    },
    {
      "cell_type": "code",
      "metadata": {
        "colab": {
          "base_uri": "https://localhost:8080/"
        },
        "id": "3ifYfZ2OfxrH",
        "outputId": "faeb7204-f913-4b25-e267-9029ac8c60ad"
      },
      "source": [
        "# Type Conversion From float32 to float16 (Reduced Precision)\n",
        "C = tf.cast(A, dtype=tf.float16)\n",
        "print(C)\n",
        "\n",
        "# Type Conversion From int32 to int16 (Reduced Precision)\n",
        "D = tf.cast(B, dtype=tf.int16)\n",
        "print(D)\n",
        "\n",
        "# Type Conversion From int32 to float32\n",
        "B = tf.cast(B, dtype=tf.float32)\n",
        "print(B)\n",
        "\n",
        "# Type Conversion from float32 to int32 \n",
        "A = tf.cast(A, dtype=tf.int32)\n",
        "print(A)"
      ],
      "execution_count": 71,
      "outputs": [
        {
          "output_type": "stream",
          "text": [
            "tf.Tensor([2.4 3.6 4.2], shape=(3,), dtype=float16)\n",
            "tf.Tensor([3 4 5], shape=(3,), dtype=int16)\n",
            "tf.Tensor([3. 4. 5.], shape=(3,), dtype=float32)\n",
            "tf.Tensor([2 3 4], shape=(3,), dtype=int32)\n"
          ],
          "name": "stdout"
        }
      ]
    },
    {
      "cell_type": "markdown",
      "metadata": {
        "id": "B4OM3A14OMlC"
      },
      "source": [
        "### Getting the absolute value\n",
        "we can use [`tf.abs()`](https://www.tensorflow.org/api_docs/python/tf/math/abs)."
      ]
    },
    {
      "cell_type": "code",
      "metadata": {
        "colab": {
          "base_uri": "https://localhost:8080/"
        },
        "id": "wsIj1RTUOYSt",
        "outputId": "1816c786-eabc-4ace-e99b-d2407e73cc79"
      },
      "source": [
        "neg_tensor = tf.constant([-4, -5])\n",
        "pos_tensor = tf.abs(neg_tensor)\n",
        "\n",
        "print(neg_tensor)\n",
        "print(pos_tensor)"
      ],
      "execution_count": 72,
      "outputs": [
        {
          "output_type": "stream",
          "text": [
            "tf.Tensor([-4 -5], shape=(2,), dtype=int32)\n",
            "tf.Tensor([4 5], shape=(2,), dtype=int32)\n"
          ],
          "name": "stdout"
        }
      ]
    },
    {
      "cell_type": "markdown",
      "metadata": {
        "id": "oFagr86zPfGA"
      },
      "source": [
        "### Finding the min, max, mean, sum (aggregation)\n",
        "You can quickly aggregate (perform a calculation on a whole tensor) tensors to find things like the minimum value, maximum value, mean and sum of all the elements.\n",
        "\n",
        "To do so, aggregation methods typically have the syntax `reduce()_[action]`, such as:\n",
        "* [`tf.reduce_min()`](https://www.tensorflow.org/api_docs/python/tf/math/reduce_min) - find the minimum value in a tensor.\n",
        "* [`tf.reduce_max()`](https://www.tensorflow.org/api_docs/python/tf/math/reduce_max) - find the maximum value in a tensor (helpful for when you want to find the highest prediction probability).\n",
        "* [`tf.reduce_mean()`](https://www.tensorflow.org/api_docs/python/tf/math/reduce_mean) - find the mean of all elements in a tensor.\n",
        "* [`tf.reduce_sum()`](https://www.tensorflow.org/api_docs/python/tf/math/reduce_sum) - find the sum of all elements in a tensor.\n",
        "*[`tf.reduce_std()`](https://www.tensorflow.org/api_docs/python/tf/math/reduce_std) - find the standard deviation of all elements in a tensor.\n",
        "*[`tf.reduce_variance()`](https://www.tensorflow.org/api_docs/python/tf/math/reduce_variance) - find the variance of the all elements in a tensor.\n",
        "* **Note:** typically, each of these is under the `math` module, e.g. `tf.math.reduce_min()` but you can use the alias `tf.reduce_min()`."
      ]
    },
    {
      "cell_type": "code",
      "metadata": {
        "colab": {
          "base_uri": "https://localhost:8080/"
        },
        "id": "wHHXEB9LbRmn",
        "outputId": "6515bda9-2458-46c4-9464-f313c5b9be16"
      },
      "source": [
        "#Find max Value\n",
        "tensor_30 = tf.constant(np.random.randint(low=0, high=100, size=[30]),shape=(30,1),dtype=tf.float32)\n",
        "\n",
        "print(\"Min value: \", tf.reduce_min(tensor_30))\n",
        "print(\"Max value: \", tf.reduce_max(tensor_30))\n",
        "print(\"Sum: \", tf.reduce_sum(tensor_30))\n",
        "print(\"Mean: \", tf.reduce_mean(tensor_30))\n",
        "print(\"Variance: \", tf.math.reduce_variance(tensor_30))\n",
        "print(\"Standard Deviation: \", tf.math.reduce_std(tensor_30))"
      ],
      "execution_count": 73,
      "outputs": [
        {
          "output_type": "stream",
          "text": [
            "Min value:  tf.Tensor(1.0, shape=(), dtype=float32)\n",
            "Max value:  tf.Tensor(94.0, shape=(), dtype=float32)\n",
            "Sum:  tf.Tensor(1388.0, shape=(), dtype=float32)\n",
            "Mean:  tf.Tensor(46.266666, shape=(), dtype=float32)\n",
            "Variance:  tf.Tensor(692.9289, shape=(), dtype=float32)\n",
            "Standard Deviation:  tf.Tensor(26.323542, shape=(), dtype=float32)\n"
          ],
          "name": "stdout"
        }
      ]
    },
    {
      "cell_type": "markdown",
      "metadata": {
        "id": "NCfJhAptUfwt"
      },
      "source": [
        "### Finding the positional maximum and minimum\n",
        "* [`tf.argmax()`](https://www.tensorflow.org/api_docs/python/tf/math/argmax) - find the position of the maximum element in a given tensor.\n",
        "* [`tf.argmin()`](https://www.tensorflow.org/api_docs/python/tf/math/argmin) - find the position of the minimum element in a given tensor."
      ]
    },
    {
      "cell_type": "code",
      "metadata": {
        "colab": {
          "base_uri": "https://localhost:8080/"
        },
        "id": "p84MS-t1bk9Y",
        "outputId": "3ec2d62f-61ec-4694-ca08-1d81a12214f8"
      },
      "source": [
        "#Find max value location\n",
        "max_idx = tf.argmax(tensor_30)\n",
        "print(max_idx.numpy())\n",
        "print(tensor_30[max_idx[0]].numpy())"
      ],
      "execution_count": 74,
      "outputs": [
        {
          "output_type": "stream",
          "text": [
            "[1]\n",
            "[94.]\n"
          ],
          "name": "stdout"
        }
      ]
    },
    {
      "cell_type": "code",
      "metadata": {
        "colab": {
          "base_uri": "https://localhost:8080/"
        },
        "id": "cHjuVD09VVb0",
        "outputId": "0652fd15-477e-44d2-dc08-2038fc3575d4"
      },
      "source": [
        "#Find min value location\n",
        "min_idx = tf.argmin(tensor_30)\n",
        "print(min_idx.numpy())\n",
        "print(tensor_30[min_idx[0]].numpy())"
      ],
      "execution_count": 75,
      "outputs": [
        {
          "output_type": "stream",
          "text": [
            "[4]\n",
            "[1.]\n"
          ],
          "name": "stdout"
        }
      ]
    },
    {
      "cell_type": "markdown",
      "metadata": {
        "id": "pmiFYeKZViJE"
      },
      "source": [
        "### Squeezing a tensor (removing all single dimensions)\n",
        "\n",
        "If you need to remove single-dimensions from a tensor (dimensions with size 1), you can use `tf.squeeze()`.\n",
        "\n",
        "* [`tf.squeeze()`](https://www.tensorflow.org/api_docs/python/tf/squeeze) - remove all dimensions of 1 from a tensor."
      ]
    },
    {
      "cell_type": "code",
      "metadata": {
        "colab": {
          "base_uri": "https://localhost:8080/"
        },
        "id": "mvrrQ6t7VlZJ",
        "outputId": "b6e1512f-74ba-4904-eab8-dc3f151c29cc"
      },
      "source": [
        "V = tf.fill([1,1,1,1,10],7)\n",
        "print(V)\n",
        "print(V.shape)\n",
        "print(V.ndim)"
      ],
      "execution_count": 76,
      "outputs": [
        {
          "output_type": "stream",
          "text": [
            "tf.Tensor([[[[[7 7 7 7 7 7 7 7 7 7]]]]], shape=(1, 1, 1, 1, 10), dtype=int32)\n",
            "(1, 1, 1, 1, 10)\n",
            "5\n"
          ],
          "name": "stdout"
        }
      ]
    },
    {
      "cell_type": "code",
      "metadata": {
        "colab": {
          "base_uri": "https://localhost:8080/"
        },
        "id": "X4z2gnYnVw2X",
        "outputId": "12db4e92-9b81-4439-ca58-2d51d4ec1a2e"
      },
      "source": [
        "V_squeezed = tf.squeeze(V)\n",
        "print(V_squeezed.shape)\n",
        "print(V_squeezed.ndim)\n",
        "print(V_squeezed)"
      ],
      "execution_count": 77,
      "outputs": [
        {
          "output_type": "stream",
          "text": [
            "(10,)\n",
            "1\n",
            "tf.Tensor([7 7 7 7 7 7 7 7 7 7], shape=(10,), dtype=int32)\n"
          ],
          "name": "stdout"
        }
      ]
    },
    {
      "cell_type": "markdown",
      "metadata": {
        "id": "YmvlrMhUydQK"
      },
      "source": [
        "### Adding New Axis\n",
        "\n",
        "We can also add dimensions to our tensor while keeping the same information present using tf.newaxis. "
      ]
    },
    {
      "cell_type": "code",
      "metadata": {
        "id": "2SnEurUo6jLo",
        "colab": {
          "base_uri": "https://localhost:8080/"
        },
        "outputId": "d93e6abd-61cc-4494-df74-c8df37546fd8"
      },
      "source": [
        "# Adding Extra Diemention to rank 2 tensor\n",
        "rank_3_tensor = rank_2_tensor[..., tf.newaxis]\n",
        "rank_3_tensor"
      ],
      "execution_count": 78,
      "outputs": [
        {
          "output_type": "execute_result",
          "data": {
            "text/plain": [
              "<tf.Tensor: shape=(2, 2, 1), dtype=int32, numpy=\n",
              "array([[[10],\n",
              "        [20]],\n",
              "\n",
              "       [[20],\n",
              "        [30]]], dtype=int32)>"
            ]
          },
          "metadata": {
            "tags": []
          },
          "execution_count": 78
        }
      ]
    },
    {
      "cell_type": "markdown",
      "metadata": {
        "id": "tgfOfKvkyu9T"
      },
      "source": [
        "We can achieve the same using [`tf.expand_dims()`](https://www.tensorflow.org/api_docs/python/tf/expand_dims)."
      ]
    },
    {
      "cell_type": "code",
      "metadata": {
        "id": "Mio8gjZZ60H8",
        "colab": {
          "base_uri": "https://localhost:8080/"
        },
        "outputId": "0d81c742-978e-4e7a-fcd1-acd9cdd38905"
      },
      "source": [
        "tf.expand_dims(rank_2_tensor, axis=-1)"
      ],
      "execution_count": 79,
      "outputs": [
        {
          "output_type": "execute_result",
          "data": {
            "text/plain": [
              "<tf.Tensor: shape=(2, 2, 1), dtype=int32, numpy=\n",
              "array([[[10],\n",
              "        [20]],\n",
              "\n",
              "       [[20],\n",
              "        [30]]], dtype=int32)>"
            ]
          },
          "metadata": {
            "tags": []
          },
          "execution_count": 79
        }
      ]
    },
    {
      "cell_type": "code",
      "metadata": {
        "colab": {
          "base_uri": "https://localhost:8080/"
        },
        "id": "hNIlhJifzESc",
        "outputId": "b2e3bcbc-a586-42fb-9077-32acbe334374"
      },
      "source": [
        "tf.expand_dims(rank_2_tensor, axis=0) #Adding new outer axis"
      ],
      "execution_count": 80,
      "outputs": [
        {
          "output_type": "execute_result",
          "data": {
            "text/plain": [
              "<tf.Tensor: shape=(1, 2, 2), dtype=int32, numpy=\n",
              "array([[[10, 20],\n",
              "        [20, 30]]], dtype=int32)>"
            ]
          },
          "metadata": {
            "tags": []
          },
          "execution_count": 80
        }
      ]
    },
    {
      "cell_type": "markdown",
      "metadata": {
        "id": "AVJ9zCJuWtcO"
      },
      "source": [
        "### BroadCasting\n",
        "This is same as broadcasting in numpy.\n",
        "\n",
        "Under certain conditions, smaller tensors are \"stretched\" automatically to fit larger tensors when running combined operations on them.\n"
      ]
    },
    {
      "cell_type": "code",
      "metadata": {
        "colab": {
          "base_uri": "https://localhost:8080/"
        },
        "id": "hUHCiuEBhNcP",
        "outputId": "33a0dd52-3937-41f4-8ed7-0b56896e57e5"
      },
      "source": [
        "x = tf.constant([[5,4,3],\n",
        "                 [3,4,5],\n",
        "                 [4,5,6]])\n",
        "y = tf.constant([2])\n",
        "z= tf.constant([[2,2,2]])\n",
        "\n",
        "print(x.shape)\n",
        "print(y.shape)\n",
        "print(z.shape)\n",
        "print(tf.multiply(x,2))\n",
        "print(tf.multiply(x,y))\n",
        "print(tf.multiply(x,z))"
      ],
      "execution_count": 81,
      "outputs": [
        {
          "output_type": "stream",
          "text": [
            "(3, 3)\n",
            "(1,)\n",
            "(1, 3)\n",
            "tf.Tensor(\n",
            "[[10  8  6]\n",
            " [ 6  8 10]\n",
            " [ 8 10 12]], shape=(3, 3), dtype=int32)\n",
            "tf.Tensor(\n",
            "[[10  8  6]\n",
            " [ 6  8 10]\n",
            " [ 8 10 12]], shape=(3, 3), dtype=int32)\n",
            "tf.Tensor(\n",
            "[[10  8  6]\n",
            " [ 6  8 10]\n",
            " [ 8 10 12]], shape=(3, 3), dtype=int32)\n"
          ],
          "name": "stdout"
        }
      ]
    },
    {
      "cell_type": "markdown",
      "metadata": {
        "id": "dRnr_E6rXEWz"
      },
      "source": [
        "Here above all 3 results are same.\n",
        "\n",
        "First scalar 2 is scaled to `(3, 3)` matrix. \n",
        "\n",
        "Second Vector is scaled to `(3,3)` matrix.\n",
        "\n",
        "Third Matrix also scaled to `(3,3)` matrix. \n",
        "\n",
        "All Looked Like this:\n",
        "`[[2, 2, 2],\n",
        " [2, 2, 2],\n",
        " [2, 2, 2]]`"
      ]
    },
    {
      "cell_type": "markdown",
      "metadata": {
        "id": "biLkLm-TYNj9"
      },
      "source": [
        "### One-hot encoding\n",
        "\n",
        "If you have a tensor of indicies and would like to one-hot encode it, you can use [`tf.one_hot()`](https://www.tensorflow.org/api_docs/python/tf/one_hot).\n",
        "\n",
        "You should also specify the `depth` parameter (the level which you want to one-hot encode to)."
      ]
    },
    {
      "cell_type": "code",
      "metadata": {
        "colab": {
          "base_uri": "https://localhost:8080/"
        },
        "id": "lpLvCnGxYt-J",
        "outputId": "685c2523-9b0b-4a3d-85d2-90ab44fa77c8"
      },
      "source": [
        "list = [1,2,3,4]\n",
        "\n",
        "one_hot = tf.one_hot(list, depth=4)\n",
        "one_hot"
      ],
      "execution_count": 82,
      "outputs": [
        {
          "output_type": "execute_result",
          "data": {
            "text/plain": [
              "<tf.Tensor: shape=(4, 4), dtype=float32, numpy=\n",
              "array([[0., 1., 0., 0.],\n",
              "       [0., 0., 1., 0.],\n",
              "       [0., 0., 0., 1.],\n",
              "       [0., 0., 0., 0.]], dtype=float32)>"
            ]
          },
          "metadata": {
            "tags": []
          },
          "execution_count": 82
        }
      ]
    },
    {
      "cell_type": "code",
      "metadata": {
        "colab": {
          "base_uri": "https://localhost:8080/"
        },
        "id": "sNJsBfdUZNms",
        "outputId": "364c5b43-bfe2-40c3-deb0-27494474f67e"
      },
      "source": [
        "# Specify on and off values for encoding\n",
        "one_hot = tf.one_hot(list, depth=4, on_value=\"Win\", off_value=\"Lose\")\n",
        "one_hot"
      ],
      "execution_count": 83,
      "outputs": [
        {
          "output_type": "execute_result",
          "data": {
            "text/plain": [
              "<tf.Tensor: shape=(4, 4), dtype=string, numpy=\n",
              "array([[b'Lose', b'Win', b'Lose', b'Lose'],\n",
              "       [b'Lose', b'Lose', b'Win', b'Lose'],\n",
              "       [b'Lose', b'Lose', b'Lose', b'Win'],\n",
              "       [b'Lose', b'Lose', b'Lose', b'Lose']], dtype=object)>"
            ]
          },
          "metadata": {
            "tags": []
          },
          "execution_count": 83
        }
      ]
    },
    {
      "cell_type": "markdown",
      "metadata": {
        "id": "YjacvIg4ZdfA"
      },
      "source": [
        "### Squaring, log, square root\n",
        "\n",
        "Many other common mathematical operations you'd like to perform at some stage, probably exist.\n",
        "\n",
        "Let's take a look at:\n",
        "* [`tf.square()`](https://www.tensorflow.org/api_docs/python/tf/math/square) - get the square of every value in a tensor. \n",
        "* [`tf.sqrt()`](https://www.tensorflow.org/api_docs/python/tf/math/sqrt) - get the squareroot of every value in a tensor (**note:** the elements need to be floats or this will error).\n",
        "* [`tf.math.log()`](https://www.tensorflow.org/api_docs/python/tf/math/log) - get the natural log of every value in a tensor (elements need to floats)."
      ]
    },
    {
      "cell_type": "code",
      "metadata": {
        "colab": {
          "base_uri": "https://localhost:8080/"
        },
        "id": "uYcQdGW8oz78",
        "outputId": "e3bb2963-021f-4eb2-b998-9858f2ed5dd2"
      },
      "source": [
        "tensor = tf.constant([7,8,9])\n",
        "squared_tensor = tf.square(tensor)\n",
        "\n",
        "\n",
        "print(tensor)\n",
        "print(squared_tensor)"
      ],
      "execution_count": 84,
      "outputs": [
        {
          "output_type": "stream",
          "text": [
            "tf.Tensor([7 8 9], shape=(3,), dtype=int32)\n",
            "tf.Tensor([49 64 81], shape=(3,), dtype=int32)\n"
          ],
          "name": "stdout"
        }
      ]
    },
    {
      "cell_type": "code",
      "metadata": {
        "colab": {
          "base_uri": "https://localhost:8080/",
          "height": 289
        },
        "id": "Dt1pn53ApTj6",
        "outputId": "34a03b50-d93f-48ea-af62-2353814b2a4a"
      },
      "source": [
        "# Find the squareroot (will error), needs to be non-integer\n",
        "root_tensor = tf.sqrt(squared_tensor)"
      ],
      "execution_count": 85,
      "outputs": [
        {
          "output_type": "error",
          "ename": "InvalidArgumentError",
          "evalue": "ignored",
          "traceback": [
            "\u001b[0;31m---------------------------------------------------------------------------\u001b[0m",
            "\u001b[0;31mInvalidArgumentError\u001b[0m                      Traceback (most recent call last)",
            "\u001b[0;32m<ipython-input-85-901e3cced69f>\u001b[0m in \u001b[0;36m<module>\u001b[0;34m()\u001b[0m\n\u001b[1;32m      1\u001b[0m \u001b[0;31m# Find the squareroot (will error), needs to be non-integer\u001b[0m\u001b[0;34m\u001b[0m\u001b[0;34m\u001b[0m\u001b[0;34m\u001b[0m\u001b[0m\n\u001b[0;32m----> 2\u001b[0;31m \u001b[0mroot_tensor\u001b[0m \u001b[0;34m=\u001b[0m \u001b[0mtf\u001b[0m\u001b[0;34m.\u001b[0m\u001b[0msqrt\u001b[0m\u001b[0;34m(\u001b[0m\u001b[0msquared_tensor\u001b[0m\u001b[0;34m)\u001b[0m\u001b[0;34m\u001b[0m\u001b[0;34m\u001b[0m\u001b[0m\n\u001b[0m",
            "\u001b[0;32m/usr/local/lib/python3.7/dist-packages/tensorflow/python/util/dispatch.py\u001b[0m in \u001b[0;36mwrapper\u001b[0;34m(*args, **kwargs)\u001b[0m\n\u001b[1;32m    199\u001b[0m     \u001b[0;34m\"\"\"Call target, and fall back on dispatchers if there is a TypeError.\"\"\"\u001b[0m\u001b[0;34m\u001b[0m\u001b[0;34m\u001b[0m\u001b[0m\n\u001b[1;32m    200\u001b[0m     \u001b[0;32mtry\u001b[0m\u001b[0;34m:\u001b[0m\u001b[0;34m\u001b[0m\u001b[0;34m\u001b[0m\u001b[0m\n\u001b[0;32m--> 201\u001b[0;31m       \u001b[0;32mreturn\u001b[0m \u001b[0mtarget\u001b[0m\u001b[0;34m(\u001b[0m\u001b[0;34m*\u001b[0m\u001b[0margs\u001b[0m\u001b[0;34m,\u001b[0m \u001b[0;34m**\u001b[0m\u001b[0mkwargs\u001b[0m\u001b[0;34m)\u001b[0m\u001b[0;34m\u001b[0m\u001b[0;34m\u001b[0m\u001b[0m\n\u001b[0m\u001b[1;32m    202\u001b[0m     \u001b[0;32mexcept\u001b[0m \u001b[0;34m(\u001b[0m\u001b[0mTypeError\u001b[0m\u001b[0;34m,\u001b[0m \u001b[0mValueError\u001b[0m\u001b[0;34m)\u001b[0m\u001b[0;34m:\u001b[0m\u001b[0;34m\u001b[0m\u001b[0;34m\u001b[0m\u001b[0m\n\u001b[1;32m    203\u001b[0m       \u001b[0;31m# Note: convert_to_eager_tensor currently raises a ValueError, not a\u001b[0m\u001b[0;34m\u001b[0m\u001b[0;34m\u001b[0m\u001b[0;34m\u001b[0m\u001b[0m\n",
            "\u001b[0;32m/usr/local/lib/python3.7/dist-packages/tensorflow/python/ops/math_ops.py\u001b[0m in \u001b[0;36msqrt\u001b[0;34m(x, name)\u001b[0m\n\u001b[1;32m   4901\u001b[0m     \u001b[0mA\u001b[0m\u001b[0;31m \u001b[0m\u001b[0;31m`\u001b[0m\u001b[0mtf\u001b[0m\u001b[0;34m.\u001b[0m\u001b[0mTensor\u001b[0m\u001b[0;31m`\u001b[0m \u001b[0mof\u001b[0m \u001b[0msame\u001b[0m \u001b[0msize\u001b[0m\u001b[0;34m,\u001b[0m \u001b[0mtype\u001b[0m \u001b[0;32mand\u001b[0m \u001b[0msparsity\u001b[0m \u001b[0;32mas\u001b[0m\u001b[0;31m \u001b[0m\u001b[0;31m`\u001b[0m\u001b[0mx\u001b[0m\u001b[0;31m`\u001b[0m\u001b[0;34m.\u001b[0m\u001b[0;34m\u001b[0m\u001b[0;34m\u001b[0m\u001b[0m\n\u001b[1;32m   4902\u001b[0m   \"\"\"\n\u001b[0;32m-> 4903\u001b[0;31m   \u001b[0;32mreturn\u001b[0m \u001b[0mgen_math_ops\u001b[0m\u001b[0;34m.\u001b[0m\u001b[0msqrt\u001b[0m\u001b[0;34m(\u001b[0m\u001b[0mx\u001b[0m\u001b[0;34m,\u001b[0m \u001b[0mname\u001b[0m\u001b[0;34m)\u001b[0m\u001b[0;34m\u001b[0m\u001b[0;34m\u001b[0m\u001b[0m\n\u001b[0m\u001b[1;32m   4904\u001b[0m \u001b[0;34m\u001b[0m\u001b[0m\n\u001b[1;32m   4905\u001b[0m \u001b[0;34m\u001b[0m\u001b[0m\n",
            "\u001b[0;32m/usr/local/lib/python3.7/dist-packages/tensorflow/python/ops/gen_math_ops.py\u001b[0m in \u001b[0;36msqrt\u001b[0;34m(x, name)\u001b[0m\n\u001b[1;32m  10035\u001b[0m       \u001b[0;32mreturn\u001b[0m \u001b[0m_result\u001b[0m\u001b[0;34m\u001b[0m\u001b[0;34m\u001b[0m\u001b[0m\n\u001b[1;32m  10036\u001b[0m     \u001b[0;32mexcept\u001b[0m \u001b[0m_core\u001b[0m\u001b[0;34m.\u001b[0m\u001b[0m_NotOkStatusException\u001b[0m \u001b[0;32mas\u001b[0m \u001b[0me\u001b[0m\u001b[0;34m:\u001b[0m\u001b[0;34m\u001b[0m\u001b[0;34m\u001b[0m\u001b[0m\n\u001b[0;32m> 10037\u001b[0;31m       \u001b[0m_ops\u001b[0m\u001b[0;34m.\u001b[0m\u001b[0mraise_from_not_ok_status\u001b[0m\u001b[0;34m(\u001b[0m\u001b[0me\u001b[0m\u001b[0;34m,\u001b[0m \u001b[0mname\u001b[0m\u001b[0;34m)\u001b[0m\u001b[0;34m\u001b[0m\u001b[0;34m\u001b[0m\u001b[0m\n\u001b[0m\u001b[1;32m  10038\u001b[0m     \u001b[0;32mexcept\u001b[0m \u001b[0m_core\u001b[0m\u001b[0;34m.\u001b[0m\u001b[0m_FallbackException\u001b[0m\u001b[0;34m:\u001b[0m\u001b[0;34m\u001b[0m\u001b[0;34m\u001b[0m\u001b[0m\n\u001b[1;32m  10039\u001b[0m       \u001b[0;32mpass\u001b[0m\u001b[0;34m\u001b[0m\u001b[0;34m\u001b[0m\u001b[0m\n",
            "\u001b[0;32m/usr/local/lib/python3.7/dist-packages/tensorflow/python/framework/ops.py\u001b[0m in \u001b[0;36mraise_from_not_ok_status\u001b[0;34m(e, name)\u001b[0m\n\u001b[1;32m   6860\u001b[0m   \u001b[0mmessage\u001b[0m \u001b[0;34m=\u001b[0m \u001b[0me\u001b[0m\u001b[0;34m.\u001b[0m\u001b[0mmessage\u001b[0m \u001b[0;34m+\u001b[0m \u001b[0;34m(\u001b[0m\u001b[0;34m\" name: \"\u001b[0m \u001b[0;34m+\u001b[0m \u001b[0mname\u001b[0m \u001b[0;32mif\u001b[0m \u001b[0mname\u001b[0m \u001b[0;32mis\u001b[0m \u001b[0;32mnot\u001b[0m \u001b[0;32mNone\u001b[0m \u001b[0;32melse\u001b[0m \u001b[0;34m\"\"\u001b[0m\u001b[0;34m)\u001b[0m\u001b[0;34m\u001b[0m\u001b[0;34m\u001b[0m\u001b[0m\n\u001b[1;32m   6861\u001b[0m   \u001b[0;31m# pylint: disable=protected-access\u001b[0m\u001b[0;34m\u001b[0m\u001b[0;34m\u001b[0m\u001b[0;34m\u001b[0m\u001b[0m\n\u001b[0;32m-> 6862\u001b[0;31m   \u001b[0msix\u001b[0m\u001b[0;34m.\u001b[0m\u001b[0mraise_from\u001b[0m\u001b[0;34m(\u001b[0m\u001b[0mcore\u001b[0m\u001b[0;34m.\u001b[0m\u001b[0m_status_to_exception\u001b[0m\u001b[0;34m(\u001b[0m\u001b[0me\u001b[0m\u001b[0;34m.\u001b[0m\u001b[0mcode\u001b[0m\u001b[0;34m,\u001b[0m \u001b[0mmessage\u001b[0m\u001b[0;34m)\u001b[0m\u001b[0;34m,\u001b[0m \u001b[0;32mNone\u001b[0m\u001b[0;34m)\u001b[0m\u001b[0;34m\u001b[0m\u001b[0;34m\u001b[0m\u001b[0m\n\u001b[0m\u001b[1;32m   6863\u001b[0m   \u001b[0;31m# pylint: enable=protected-access\u001b[0m\u001b[0;34m\u001b[0m\u001b[0;34m\u001b[0m\u001b[0;34m\u001b[0m\u001b[0m\n\u001b[1;32m   6864\u001b[0m \u001b[0;34m\u001b[0m\u001b[0m\n",
            "\u001b[0;32m/usr/local/lib/python3.7/dist-packages/six.py\u001b[0m in \u001b[0;36mraise_from\u001b[0;34m(value, from_value)\u001b[0m\n",
            "\u001b[0;31mInvalidArgumentError\u001b[0m: Value for attr 'T' of int32 is not in the list of allowed values: bfloat16, half, float, double, complex64, complex128\n\t; NodeDef: {{node Sqrt}}; Op<name=Sqrt; signature=x:T -> y:T; attr=T:type,allowed=[DT_BFLOAT16, DT_HALF, DT_FLOAT, DT_DOUBLE, DT_COMPLEX64, DT_COMPLEX128]> [Op:Sqrt]"
          ]
        }
      ]
    },
    {
      "cell_type": "code",
      "metadata": {
        "id": "IS8GQ-Y3pbax"
      },
      "source": [
        "squared_tensor = tf.cast(squared_tensor, dtype=tf.float32)\n",
        "root_tensor = tf.sqrt(squared_tensor)\n",
        "root_tensor"
      ],
      "execution_count": null,
      "outputs": []
    },
    {
      "cell_type": "code",
      "metadata": {
        "colab": {
          "base_uri": "https://localhost:8080/",
          "height": 191
        },
        "id": "7BFPpof4puLb",
        "outputId": "89557a1b-c1b7-45da-da9a-b0048d997dc2"
      },
      "source": [
        "log_tensor = tf.math.log(root_tensor)\n",
        "log_tensor"
      ],
      "execution_count": 86,
      "outputs": [
        {
          "output_type": "error",
          "ename": "NameError",
          "evalue": "ignored",
          "traceback": [
            "\u001b[0;31m---------------------------------------------------------------------------\u001b[0m",
            "\u001b[0;31mNameError\u001b[0m                                 Traceback (most recent call last)",
            "\u001b[0;32m<ipython-input-86-496e3aa9ad12>\u001b[0m in \u001b[0;36m<module>\u001b[0;34m()\u001b[0m\n\u001b[0;32m----> 1\u001b[0;31m \u001b[0mlog_tensor\u001b[0m \u001b[0;34m=\u001b[0m \u001b[0mtf\u001b[0m\u001b[0;34m.\u001b[0m\u001b[0mmath\u001b[0m\u001b[0;34m.\u001b[0m\u001b[0mlog\u001b[0m\u001b[0;34m(\u001b[0m\u001b[0mroot_tensor\u001b[0m\u001b[0;34m)\u001b[0m\u001b[0;34m\u001b[0m\u001b[0;34m\u001b[0m\u001b[0m\n\u001b[0m\u001b[1;32m      2\u001b[0m \u001b[0mlog_tensor\u001b[0m\u001b[0;34m\u001b[0m\u001b[0;34m\u001b[0m\u001b[0m\n",
            "\u001b[0;31mNameError\u001b[0m: name 'root_tensor' is not defined"
          ]
        }
      ]
    },
    {
      "cell_type": "markdown",
      "metadata": {
        "id": "1tiaS1ugz_-T"
      },
      "source": [
        "## More On Variables"
      ]
    },
    {
      "cell_type": "code",
      "metadata": {
        "id": "WjsxO-Yi0Eu8"
      },
      "source": [
        "my_variable = tf.Variable([[1,2,3],[3,4,5]])\n",
        "my_variable"
      ],
      "execution_count": null,
      "outputs": []
    },
    {
      "cell_type": "code",
      "metadata": {
        "id": "uuN7UtbE1i4A",
        "colab": {
          "base_uri": "https://localhost:8080/"
        },
        "outputId": "4c28d52d-440c-4b8d-f003-fbefad0c088c"
      },
      "source": [
        "# Change Variable to tensor\n",
        "tf.convert_to_tensor(my_variable)"
      ],
      "execution_count": 87,
      "outputs": [
        {
          "output_type": "execute_result",
          "data": {
            "text/plain": [
              "<tf.Tensor: shape=(2, 3), dtype=int32, numpy=\n",
              "array([[1, 2, 3],\n",
              "       [3, 4, 5]], dtype=int32)>"
            ]
          },
          "metadata": {
            "tags": []
          },
          "execution_count": 87
        }
      ]
    },
    {
      "cell_type": "code",
      "metadata": {
        "colab": {
          "base_uri": "https://localhost:8080/"
        },
        "id": "6LaNIX08rhip",
        "outputId": "250f563e-25de-45bd-b471-0dcbf3435137"
      },
      "source": [
        "# A variable looks and acts like a tensor, and, in fact, is a data structure backed by a tf.Tensor. \n",
        "# Like tensors, they have a dtype and a shape, and can be exported to NumPy.\n",
        "print(\"Data Type: \", my_variable.dtype)\n",
        "print(\"Shape: \", my_variable.shape)\n",
        "print(\"Numpy Array: \", my_variable.numpy())"
      ],
      "execution_count": 88,
      "outputs": [
        {
          "output_type": "stream",
          "text": [
            "Data Type:  <dtype: 'int32'>\n",
            "Shape:  (2, 3)\n",
            "Numpy Array:  [[1 2 3]\n",
            " [3 4 5]]\n"
          ],
          "name": "stdout"
        }
      ]
    },
    {
      "cell_type": "markdown",
      "metadata": {
        "id": "gpChdGnZqGqZ"
      },
      "source": [
        "Tensors created with `tf.Variable()` can be changed in place using methods such as:\n",
        "\n",
        "* [`.assign()`](https://www.tensorflow.org/api_docs/python/tf/Variable#assign) - assign a different value to a particular index of a variable tensor.\n",
        "* [`.assign_add()`](https://www.tensorflow.org/api_docs/python/tf/Variable#assign_add) - add to an existing value and reassign it at a particular index of a variable tensor.\n",
        "* [`.assign_sub()`](https://www.tensorflow.org/api_docs/python/tf/Variable#assign_sub) - subtract to an existing value and reassign it at a particular index of a variable tensor."
      ]
    },
    {
      "cell_type": "code",
      "metadata": {
        "colab": {
          "base_uri": "https://localhost:8080/"
        },
        "id": "19ZcfPWCsm3P",
        "outputId": "da4013fc-9f60-4787-8f9b-12ddda4cf1da"
      },
      "source": [
        "my_variable[0,2].assign(11)\n",
        "my_variable"
      ],
      "execution_count": 89,
      "outputs": [
        {
          "output_type": "execute_result",
          "data": {
            "text/plain": [
              "<tf.Variable 'Variable:0' shape=(2, 3) dtype=int32, numpy=\n",
              "array([[ 1,  2, 11],\n",
              "       [ 3,  4,  5]], dtype=int32)>"
            ]
          },
          "metadata": {
            "tags": []
          },
          "execution_count": 89
        }
      ]
    },
    {
      "cell_type": "code",
      "metadata": {
        "colab": {
          "base_uri": "https://localhost:8080/"
        },
        "id": "bEK7S5pAtsuc",
        "outputId": "052f9606-c7bc-4855-f664-8cd857dc92f5"
      },
      "source": [
        "my_variable.assign_add([[0,0,0],[0,5,0]])\n",
        "my_variable"
      ],
      "execution_count": 90,
      "outputs": [
        {
          "output_type": "execute_result",
          "data": {
            "text/plain": [
              "<tf.Variable 'Variable:0' shape=(2, 3) dtype=int32, numpy=\n",
              "array([[ 1,  2, 11],\n",
              "       [ 3,  9,  5]], dtype=int32)>"
            ]
          },
          "metadata": {
            "tags": []
          },
          "execution_count": 90
        }
      ]
    },
    {
      "cell_type": "code",
      "metadata": {
        "colab": {
          "base_uri": "https://localhost:8080/"
        },
        "id": "M8MUgkRsuJXr",
        "outputId": "dfaa2660-7d36-4746-93c5-b2e5fa096b18"
      },
      "source": [
        "my_variable.assign_sub([[0,0,0],[0,0,5]])\n",
        "my_variable"
      ],
      "execution_count": 91,
      "outputs": [
        {
          "output_type": "execute_result",
          "data": {
            "text/plain": [
              "<tf.Variable 'Variable:0' shape=(2, 3) dtype=int32, numpy=\n",
              "array([[ 1,  2, 11],\n",
              "       [ 3,  9,  0]], dtype=int32)>"
            ]
          },
          "metadata": {
            "tags": []
          },
          "execution_count": 91
        }
      ]
    },
    {
      "cell_type": "code",
      "metadata": {
        "id": "kw1AN_DE3FUm",
        "colab": {
          "base_uri": "https://localhost:8080/"
        },
        "outputId": "b2540991-a76c-4af9-d347-3cdd23f9454b"
      },
      "source": [
        "# If we copy variable into another using tf.Variable it will create new variable\n",
        "a = tf.Variable([1,2,3])\n",
        "b = tf.Variable(a)\n",
        "\n",
        "#adding into a\n",
        "print(a.assign_add([3,4,5]).numpy())\n",
        "print(b.numpy())\n",
        "\n",
        "#subtract from a\n",
        "print(a.assign_sub([1,2,3]).numpy())\n",
        "print(b.numpy())"
      ],
      "execution_count": 92,
      "outputs": [
        {
          "output_type": "stream",
          "text": [
            "[4 6 8]\n",
            "[1 2 3]\n",
            "[3 4 5]\n",
            "[1 2 3]\n"
          ],
          "name": "stdout"
        }
      ]
    },
    {
      "cell_type": "code",
      "metadata": {
        "id": "SR0-U4XF31s2",
        "colab": {
          "base_uri": "https://localhost:8080/"
        },
        "outputId": "25cc1cd6-0e22-42be-8f91-2fa3f9b511bc"
      },
      "source": [
        "# Create a and b; they will have the same name but will be backed by\n",
        "# different tensors.\n",
        "a = tf.Variable(my_tensor, name=\"Mark\")\n",
        "# A new variable with the same name, but different value\n",
        "b = tf.Variable(my_tensor + 1, name=\"Mark\")\n",
        "\n",
        "print(a)\n",
        "print(b)\n",
        "# These are elementwise-unequal, despite having the same name\n",
        "print(a == b)\n"
      ],
      "execution_count": 93,
      "outputs": [
        {
          "output_type": "stream",
          "text": [
            "<tf.Variable 'Mark:0' shape=(2, 3) dtype=int32, numpy=\n",
            "array([[1, 2, 3],\n",
            "       [3, 4, 5]], dtype=int32)>\n",
            "<tf.Variable 'Mark:0' shape=(2, 3) dtype=int32, numpy=\n",
            "array([[2, 3, 4],\n",
            "       [4, 5, 6]], dtype=int32)>\n",
            "tf.Tensor(\n",
            "[[False False False]\n",
            " [False False False]], shape=(2, 3), dtype=bool)\n"
          ],
          "name": "stdout"
        }
      ]
    },
    {
      "cell_type": "code",
      "metadata": {
        "id": "19FgPv_I2XhS",
        "colab": {
          "base_uri": "https://localhost:8080/"
        },
        "outputId": "e9e20001-ac1a-4b49-abc6-6179cea7b4a5"
      },
      "source": [
        "# We cannot change shpare of variable same as tensor\n",
        "# It will create new tensor not reshape existing variable\n",
        "tf.reshape(my_variable,[3,2])"
      ],
      "execution_count": 94,
      "outputs": [
        {
          "output_type": "execute_result",
          "data": {
            "text/plain": [
              "<tf.Tensor: shape=(3, 2), dtype=int32, numpy=\n",
              "array([[ 1,  2],\n",
              "       [11,  3],\n",
              "       [ 9,  0]], dtype=int32)>"
            ]
          },
          "metadata": {
            "tags": []
          },
          "execution_count": 94
        }
      ]
    },
    {
      "cell_type": "code",
      "metadata": {
        "id": "vYnTDOgV2tzO",
        "colab": {
          "base_uri": "https://localhost:8080/"
        },
        "outputId": "c2c7c3ac-67b6-42a4-9480-f8ecf1102508"
      },
      "source": [
        "# Find index of max value\n",
        "tf.argmax(my_variable)"
      ],
      "execution_count": 95,
      "outputs": [
        {
          "output_type": "execute_result",
          "data": {
            "text/plain": [
              "<tf.Tensor: shape=(3,), dtype=int64, numpy=array([1, 1, 0])>"
            ]
          },
          "metadata": {
            "tags": []
          },
          "execution_count": 95
        }
      ]
    },
    {
      "cell_type": "code",
      "metadata": {
        "id": "bJ4E_FEL26kv",
        "colab": {
          "base_uri": "https://localhost:8080/"
        },
        "outputId": "2a9e00c3-3e6c-489d-db53-d1fc597aad4c"
      },
      "source": [
        "# Find max value\n",
        "tf.reduce_max(my_variable).numpy()"
      ],
      "execution_count": 96,
      "outputs": [
        {
          "output_type": "execute_result",
          "data": {
            "text/plain": [
              "11"
            ]
          },
          "metadata": {
            "tags": []
          },
          "execution_count": 96
        }
      ]
    },
    {
      "cell_type": "markdown",
      "metadata": {
        "id": "gUtsGhl-uiss"
      },
      "source": [
        "## Tensors and NumPy\n",
        "\n",
        "We've seen some examples of tensors interact with NumPy arrays, such as, using NumPy arrays to create tensors. \n",
        "\n",
        "Tensors can also be converted to NumPy arrays using:\n",
        "\n",
        "* `np.array()` - pass a tensor to convert to an ndarray (NumPy's main datatype).\n",
        "* `tensor.numpy()` - call on a tensor to convert to an ndarray.\n",
        "\n",
        "Doing this is helpful as it makes tensors iterable as well as allows us to use any of NumPy's methods on them."
      ]
    },
    {
      "cell_type": "code",
      "metadata": {
        "colab": {
          "base_uri": "https://localhost:8080/"
        },
        "id": "fWoqNNlUuk2x",
        "outputId": "d959ccf7-ae0c-419b-86c5-94ed62182f5b"
      },
      "source": [
        "tensor = tf.constant(np.array([3., 5., 9.]))\n",
        "tensor"
      ],
      "execution_count": 97,
      "outputs": [
        {
          "output_type": "execute_result",
          "data": {
            "text/plain": [
              "<tf.Tensor: shape=(3,), dtype=float64, numpy=array([3., 5., 9.])>"
            ]
          },
          "metadata": {
            "tags": []
          },
          "execution_count": 97
        }
      ]
    },
    {
      "cell_type": "code",
      "metadata": {
        "colab": {
          "base_uri": "https://localhost:8080/"
        },
        "id": "peKCHCq2u3k3",
        "outputId": "ea9a3f4a-e6d9-4379-9673-05b422c56058"
      },
      "source": [
        "# Convert back to numpy array using np.array()\n",
        "np.array(tensor), type(np.array(tensor))"
      ],
      "execution_count": 98,
      "outputs": [
        {
          "output_type": "execute_result",
          "data": {
            "text/plain": [
              "(array([3., 5., 9.]), numpy.ndarray)"
            ]
          },
          "metadata": {
            "tags": []
          },
          "execution_count": 98
        }
      ]
    },
    {
      "cell_type": "code",
      "metadata": {
        "colab": {
          "base_uri": "https://localhost:8080/"
        },
        "id": "rUeuuoZxvFlW",
        "outputId": "c154e319-dc59-4d1a-dad5-8db5fba2e09b"
      },
      "source": [
        "# Convert back to numpy array using tensor.numpy()\n",
        "tensor.numpy(), type(tensor.numpy())"
      ],
      "execution_count": 99,
      "outputs": [
        {
          "output_type": "execute_result",
          "data": {
            "text/plain": [
              "(array([3., 5., 9.]), numpy.ndarray)"
            ]
          },
          "metadata": {
            "tags": []
          },
          "execution_count": 99
        }
      ]
    },
    {
      "cell_type": "markdown",
      "metadata": {
        "id": "Mq7gENVtvTAb"
      },
      "source": [
        "By default tensors have dtype=float32, where as NumPy arrays have dtype=float64.\n",
        "\n",
        "This is because neural networks (which are usually built with TensorFlow) can generally work very well with less precision (32-bit rather than 64-bit)."
      ]
    },
    {
      "cell_type": "code",
      "metadata": {
        "colab": {
          "base_uri": "https://localhost:8080/"
        },
        "id": "h9tU0CX-vV6A",
        "outputId": "90e4566e-49b3-4d6c-e4f5-49ab08b8a01a"
      },
      "source": [
        "# Create a tensor from NumPy and from an array\n",
        "numpy_J = tf.constant(np.array([3., 7., 10.])) # will be float64 (due to NumPy)\n",
        "tensor_J = tf.constant([3., 7., 10.]) # will be float32 (due to being TensorFlow default)\n",
        "numpy_J.dtype, tensor_J.dtype"
      ],
      "execution_count": 100,
      "outputs": [
        {
          "output_type": "execute_result",
          "data": {
            "text/plain": [
              "(tf.float64, tf.float32)"
            ]
          },
          "metadata": {
            "tags": []
          },
          "execution_count": 100
        }
      ]
    },
    {
      "cell_type": "markdown",
      "metadata": {
        "id": "5UT-vKA-vZmz"
      },
      "source": [
        "## Using `@tf.function`\n",
        "\n",
        "In your TensorFlow adventures, you might come across Python functions which have the decorator [`@tf.function`](https://www.tensorflow.org/api_docs/python/tf/function).\n",
        "\n",
        "If you aren't sure what Python decorators do, [read RealPython's guide on them](https://realpython.com/primer-on-python-decorators/).\n",
        "\n",
        "But in short, decorators modify a function in one way or another.\n",
        "\n",
        "In the `@tf.function` decorator case, it turns a Python function into a callable TensorFlow graph. Which is a fancy way of saying, if you've written your own Python function, and you decorate it with `@tf.function`, when you export your code (to potentially run on another device), TensorFlow will attempt to convert it into a fast(er) version of itself (by making it part of a computation graph).\n",
        "\n",
        "For more on this, read the [Better performnace with tf.function](https://www.tensorflow.org/guide/function) guide."
      ]
    },
    {
      "cell_type": "code",
      "metadata": {
        "colab": {
          "base_uri": "https://localhost:8080/"
        },
        "id": "L_vdy4YXvd7q",
        "outputId": "37bdd7d2-1cd6-432a-d267-08d75f25b2d2"
      },
      "source": [
        "# Simple Function\n",
        "def func(x, y):\n",
        "  return x ** 2 + y ** 2\n",
        "\n",
        "x = tf.constant([5,6])\n",
        "y = tf.constant([3,9])\n",
        "func(x, y)"
      ],
      "execution_count": 101,
      "outputs": [
        {
          "output_type": "execute_result",
          "data": {
            "text/plain": [
              "<tf.Tensor: shape=(2,), dtype=int32, numpy=array([ 34, 117], dtype=int32)>"
            ]
          },
          "metadata": {
            "tags": []
          },
          "execution_count": 101
        }
      ]
    },
    {
      "cell_type": "code",
      "metadata": {
        "colab": {
          "base_uri": "https://localhost:8080/"
        },
        "id": "CIcLIOaiwQyX",
        "outputId": "390d9c3a-a762-4119-b55c-c6598bf2ffa6"
      },
      "source": [
        "# Create the same function and decorate it with tf.function\n",
        "@tf.function\n",
        "def tf_func(x, y):\n",
        "  return x ** 2 + y ** 2\n",
        "\n",
        "tf_func(x, y)"
      ],
      "execution_count": 102,
      "outputs": [
        {
          "output_type": "execute_result",
          "data": {
            "text/plain": [
              "<tf.Tensor: shape=(2,), dtype=int32, numpy=array([ 34, 117], dtype=int32)>"
            ]
          },
          "metadata": {
            "tags": []
          },
          "execution_count": 102
        }
      ]
    },
    {
      "cell_type": "markdown",
      "metadata": {
        "id": "8xkDcmapwTcY"
      },
      "source": [
        "If you noticed no difference between the above two functions (the decorated one and the non-decorated one) you'd be right.\n",
        "\n",
        "Much of the difference happens behind the scenes. One of the main ones being potential code speed-ups where possible.\n"
      ]
    },
    {
      "cell_type": "markdown",
      "metadata": {
        "id": "ake6MgO_wnpj"
      },
      "source": [
        "## Finding access to GPUs\n",
        "You can check if you've got access to a GPU using [`tf.config.list_physical_devices()`](https://www.tensorflow.org/guide/gpu)."
      ]
    },
    {
      "cell_type": "code",
      "metadata": {
        "colab": {
          "base_uri": "https://localhost:8080/"
        },
        "id": "SzVMyCjdwyQw",
        "outputId": "2a77991b-702d-483e-e039-d1c2f1151f26"
      },
      "source": [
        "print(tf.config.list_physical_devices('GPU'))"
      ],
      "execution_count": 103,
      "outputs": [
        {
          "output_type": "stream",
          "text": [
            "[PhysicalDevice(name='/physical_device:GPU:0', device_type='GPU')]\n"
          ],
          "name": "stdout"
        }
      ]
    },
    {
      "cell_type": "markdown",
      "metadata": {
        "id": "aQQWT-yYw2_z"
      },
      "source": [
        "If the above outputs an empty array (or nothing), it means you don't have access to a GPU (or at least TensorFlow can't find it).\n",
        "\n",
        "If you're running in Google Colab, you can access a GPU by going to *Runtime -> Change Runtime Type -> Select GPU* (**note:** after doing this your notebook will restart and any variables you've saved will be lost).\n",
        "\n",
        "Once you've changed your runtime type, run the cell below."
      ]
    },
    {
      "cell_type": "code",
      "metadata": {
        "colab": {
          "base_uri": "https://localhost:8080/"
        },
        "id": "F_kpW447w6Fs",
        "outputId": "3019f43b-db26-402d-a641-4887de19b9d3"
      },
      "source": [
        "import tensorflow as tf\n",
        "print(tf.config.list_physical_devices('GPU'))"
      ],
      "execution_count": 104,
      "outputs": [
        {
          "output_type": "stream",
          "text": [
            "[PhysicalDevice(name='/physical_device:GPU:0', device_type='GPU')]\n"
          ],
          "name": "stdout"
        }
      ]
    },
    {
      "cell_type": "markdown",
      "metadata": {
        "id": "4t35qQUnxCgx"
      },
      "source": [
        "If you've got access to a GPU, the cell above should output something like:\n",
        "\n",
        "`[PhysicalDevice(name='/physical_device:GPU:0', device_type='GPU')]`\n",
        "\n",
        "You can also find information about your GPU using `!nvidia-smi`."
      ]
    },
    {
      "cell_type": "code",
      "metadata": {
        "colab": {
          "base_uri": "https://localhost:8080/"
        },
        "id": "VJyumHzvxH2a",
        "outputId": "f2d16b3f-9be3-494c-ea6b-c595d912f187"
      },
      "source": [
        "!nvidia-smi"
      ],
      "execution_count": 105,
      "outputs": [
        {
          "output_type": "stream",
          "text": [
            "Sat May  8 18:39:57 2021       \n",
            "+-----------------------------------------------------------------------------+\n",
            "| NVIDIA-SMI 465.19.01    Driver Version: 460.32.03    CUDA Version: 11.2     |\n",
            "|-------------------------------+----------------------+----------------------+\n",
            "| GPU  Name        Persistence-M| Bus-Id        Disp.A | Volatile Uncorr. ECC |\n",
            "| Fan  Temp  Perf  Pwr:Usage/Cap|         Memory-Usage | GPU-Util  Compute M. |\n",
            "|                               |                      |               MIG M. |\n",
            "|===============================+======================+======================|\n",
            "|   0  Tesla T4            Off  | 00000000:00:04.0 Off |                    0 |\n",
            "| N/A   64C    P0    31W /  70W |    224MiB / 15109MiB |      0%      Default |\n",
            "|                               |                      |                  N/A |\n",
            "+-------------------------------+----------------------+----------------------+\n",
            "                                                                               \n",
            "+-----------------------------------------------------------------------------+\n",
            "| Processes:                                                                  |\n",
            "|  GPU   GI   CI        PID   Type   Process name                  GPU Memory |\n",
            "|        ID   ID                                                   Usage      |\n",
            "|=============================================================================|\n",
            "+-----------------------------------------------------------------------------+\n"
          ],
          "name": "stdout"
        }
      ]
    },
    {
      "cell_type": "markdown",
      "metadata": {
        "id": "oGbup5ssxLrH"
      },
      "source": [
        "> Note : If GPU is avialable tensorflow automatically detect it and use it."
      ]
    },
    {
      "cell_type": "markdown",
      "metadata": {
        "id": "zM0456isxW9O"
      },
      "source": [
        "# Practice Exercises"
      ]
    },
    {
      "cell_type": "code",
      "metadata": {
        "id": "g9wghh41zKPR"
      },
      "source": [
        "import tensorflow as tf\n",
        "import numpy as np"
      ],
      "execution_count": 106,
      "outputs": []
    },
    {
      "cell_type": "code",
      "metadata": {
        "id": "lWhIaumhx-Av",
        "colab": {
          "base_uri": "https://localhost:8080/"
        },
        "outputId": "ed13944c-986b-40f5-b868-cca794663d6a"
      },
      "source": [
        "# Create a vector, scalar, matrix and tensor with values of your choosing using tf.constant().\n",
        "scalar = tf.constant(30)\n",
        "vector = tf.constant([30,60])\n",
        "matrix = tf.constant([[10,20],\n",
        "                      [30,40]])\n",
        "tensor = tf.constant(np.random.randint(0, high=100, size=60),shape=(2,3,5,2))\n",
        "\n",
        "print(f\"Scalar : \\n {scalar} \\n\")\n",
        "print(f\"Vector : \\n {vector} \\n\")\n",
        "print(f\"martix : \\n {matrix} \\n\")\n",
        "print(f\"Tensor : \\n {tensor} \\n\")"
      ],
      "execution_count": 107,
      "outputs": [
        {
          "output_type": "stream",
          "text": [
            "Scalar : \n",
            " 30 \n",
            "\n",
            "Vector : \n",
            " [30 60] \n",
            "\n",
            "martix : \n",
            " [[10 20]\n",
            " [30 40]] \n",
            "\n",
            "Tensor : \n",
            " [[[[49 55]\n",
            "   [87  1]\n",
            "   [41 90]\n",
            "   [68 12]\n",
            "   [55 82]]\n",
            "\n",
            "  [[72  9]\n",
            "   [34  9]\n",
            "   [26 90]\n",
            "   [93 54]\n",
            "   [77  5]]\n",
            "\n",
            "  [[97 36]\n",
            "   [30  7]\n",
            "   [72 94]\n",
            "   [ 5 98]\n",
            "   [48 22]]]\n",
            "\n",
            "\n",
            " [[[73 78]\n",
            "   [67 45]\n",
            "   [59 99]\n",
            "   [63 13]\n",
            "   [85 87]]\n",
            "\n",
            "  [[87 37]\n",
            "   [57 52]\n",
            "   [10 81]\n",
            "   [53 71]\n",
            "   [47 30]]\n",
            "\n",
            "  [[35 65]\n",
            "   [14 92]\n",
            "   [96 29]\n",
            "   [52 88]\n",
            "   [38 43]]]] \n",
            "\n"
          ],
          "name": "stdout"
        }
      ]
    },
    {
      "cell_type": "code",
      "metadata": {
        "id": "uFXPrAMsy-rO",
        "colab": {
          "base_uri": "https://localhost:8080/"
        },
        "outputId": "0e6f8ce7-afb1-48b2-bdf1-7a2c5501b147"
      },
      "source": [
        "# Find the shape, rank and size of the tensors you created in 1.\n",
        "\n",
        "def tensor_detail(tensor):\n",
        "  print(f\"Shape: {tensor.shape}\")\n",
        "  print(f\"Rank: {tensor.ndim}\")\n",
        "  print(f\"Size: {tf.size(tensor)}\")\n",
        "  print()\n",
        "\n",
        "tensor_detail(scalar)\n",
        "tensor_detail(vector)\n",
        "tensor_detail(matrix)\n",
        "tensor_detail(tensor)"
      ],
      "execution_count": 108,
      "outputs": [
        {
          "output_type": "stream",
          "text": [
            "Shape: ()\n",
            "Rank: 0\n",
            "Size: 1\n",
            "\n",
            "Shape: (2,)\n",
            "Rank: 1\n",
            "Size: 2\n",
            "\n",
            "Shape: (2, 2)\n",
            "Rank: 2\n",
            "Size: 4\n",
            "\n",
            "Shape: (2, 3, 5, 2)\n",
            "Rank: 4\n",
            "Size: 60\n",
            "\n"
          ],
          "name": "stdout"
        }
      ]
    },
    {
      "cell_type": "code",
      "metadata": {
        "colab": {
          "base_uri": "https://localhost:8080/"
        },
        "id": "Pbw17zTw0GvY",
        "outputId": "0df9e87c-8e05-4fed-b82d-f5df854b84e1"
      },
      "source": [
        "# Create two tensors containing random values between 0 and 1 with shape [5, 300].\n",
        "\n",
        "def create_tensor(shape):\n",
        "  return tf.random.uniform(minval=0, maxval=1, shape=shape)\n",
        "\n",
        "tensor_1 = create_tensor((5,300))\n",
        "tensor_2 = create_tensor((5,300))\n",
        "print(tensor_1)\n",
        "print(\"\\n\", tensor_2)"
      ],
      "execution_count": 109,
      "outputs": [
        {
          "output_type": "stream",
          "text": [
            "tf.Tensor(\n",
            "[[0.3253647  0.1387006  0.64804935 ... 0.8244524  0.4551177  0.6277561 ]\n",
            " [0.49481273 0.41021204 0.7925637  ... 0.140463   0.2930702  0.00153995]\n",
            " [0.2957046  0.2699318  0.9645442  ... 0.32897913 0.6769521  0.5482559 ]\n",
            " [0.62759995 0.14295197 0.55955315 ... 0.46164548 0.1602869  0.6124419 ]\n",
            " [0.3618859  0.34776545 0.9293705  ... 0.15654767 0.7420492  0.08763742]], shape=(5, 300), dtype=float32)\n",
            "\n",
            " tf.Tensor(\n",
            "[[0.59750986 0.30313778 0.99768174 ... 0.658538   0.9211241  0.41844308]\n",
            " [0.34860277 0.9065554  0.9254097  ... 0.35388374 0.7969308  0.7259033 ]\n",
            " [0.5854676  0.64556706 0.18183362 ... 0.75273776 0.29313827 0.5827645 ]\n",
            " [0.5377177  0.5112804  0.6758125  ... 0.558059   0.60013425 0.66264784]\n",
            " [0.48551023 0.0624429  0.14665365 ... 0.97490335 0.18743122 0.68693733]], shape=(5, 300), dtype=float32)\n"
          ],
          "name": "stdout"
        }
      ]
    },
    {
      "cell_type": "code",
      "metadata": {
        "colab": {
          "base_uri": "https://localhost:8080/"
        },
        "id": "FrmepB621YT7",
        "outputId": "4517f81d-188c-4f47-83da-3f776baa41f5"
      },
      "source": [
        "# Multiply the two tensors you created in 3 using matrix multiplication.\n",
        "tf.matmul(tensor_1, tf.transpose(tensor_2))"
      ],
      "execution_count": 110,
      "outputs": [
        {
          "output_type": "execute_result",
          "data": {
            "text/plain": [
              "<tf.Tensor: shape=(5, 5), dtype=float32, numpy=\n",
              "array([[74.55534 , 79.76474 , 78.0599  , 78.66237 , 74.04376 ],\n",
              "       [76.611885, 82.060524, 81.421844, 81.308685, 77.484276],\n",
              "       [76.64205 , 83.911026, 80.73897 , 80.07566 , 76.44371 ],\n",
              "       [72.72066 , 80.515526, 79.37304 , 76.53802 , 71.54925 ],\n",
              "       [74.096436, 79.94893 , 77.14867 , 78.38736 , 74.74268 ]],\n",
              "      dtype=float32)>"
            ]
          },
          "metadata": {
            "tags": []
          },
          "execution_count": 110
        }
      ]
    },
    {
      "cell_type": "code",
      "metadata": {
        "colab": {
          "base_uri": "https://localhost:8080/"
        },
        "id": "aGkjUDaP2EJ6",
        "outputId": "0aa8893e-41df-47ef-97ec-df5405ad84c8"
      },
      "source": [
        "# Multiply the two tensors you created in 3 using dot product.\n",
        "tf.tensordot(tensor_1, tf.transpose(tensor_2), axes=1)"
      ],
      "execution_count": 111,
      "outputs": [
        {
          "output_type": "execute_result",
          "data": {
            "text/plain": [
              "<tf.Tensor: shape=(5, 5), dtype=float32, numpy=\n",
              "array([[74.55534 , 79.76474 , 78.0599  , 78.66237 , 74.04376 ],\n",
              "       [76.611885, 82.060524, 81.421844, 81.308685, 77.484276],\n",
              "       [76.64205 , 83.911026, 80.73897 , 80.07566 , 76.44371 ],\n",
              "       [72.72066 , 80.515526, 79.37304 , 76.53802 , 71.54925 ],\n",
              "       [74.096436, 79.94893 , 77.14867 , 78.38736 , 74.74268 ]],\n",
              "      dtype=float32)>"
            ]
          },
          "metadata": {
            "tags": []
          },
          "execution_count": 111
        }
      ]
    },
    {
      "cell_type": "code",
      "metadata": {
        "colab": {
          "base_uri": "https://localhost:8080/"
        },
        "id": "i04MkF7l2Toq",
        "outputId": "f0f6d6b9-ca45-4ab8-8c93-abd15c895739"
      },
      "source": [
        "# Create a tensor with random values between 0 and 1 with shape [224, 224, 3].\n",
        "tensor_3 = create_tensor((224,224,3))\n",
        "tensor_3"
      ],
      "execution_count": 112,
      "outputs": [
        {
          "output_type": "execute_result",
          "data": {
            "text/plain": [
              "<tf.Tensor: shape=(224, 224, 3), dtype=float32, numpy=\n",
              "array([[[0.9099175 , 0.6676756 , 0.19938636],\n",
              "        [0.3284049 , 0.04517746, 0.5198144 ],\n",
              "        [0.5085689 , 0.3789295 , 0.58378994],\n",
              "        ...,\n",
              "        [0.21674263, 0.5635047 , 0.47372687],\n",
              "        [0.7644787 , 0.10901237, 0.17862225],\n",
              "        [0.8508351 , 0.90439844, 0.73274577]],\n",
              "\n",
              "       [[0.5905173 , 0.7619034 , 0.30757678],\n",
              "        [0.12660551, 0.45299566, 0.26390076],\n",
              "        [0.83228934, 0.6325017 , 0.86080575],\n",
              "        ...,\n",
              "        [0.83879304, 0.6170857 , 0.20510781],\n",
              "        [0.90482044, 0.70842016, 0.2637738 ],\n",
              "        [0.7711698 , 0.84586656, 0.98501253]],\n",
              "\n",
              "       [[0.34203315, 0.9504638 , 0.8225987 ],\n",
              "        [0.60302126, 0.7894051 , 0.75514424],\n",
              "        [0.84680235, 0.50175667, 0.9435731 ],\n",
              "        ...,\n",
              "        [0.5553323 , 0.42468846, 0.06064665],\n",
              "        [0.280002  , 0.473431  , 0.06675506],\n",
              "        [0.36964417, 0.8351555 , 0.3773389 ]],\n",
              "\n",
              "       ...,\n",
              "\n",
              "       [[0.64310145, 0.73654306, 0.46824265],\n",
              "        [0.03893101, 0.78855133, 0.06263912],\n",
              "        [0.4239365 , 0.49282503, 0.20357323],\n",
              "        ...,\n",
              "        [0.88567543, 0.9988965 , 0.86813676],\n",
              "        [0.56885135, 0.9554126 , 0.27804816],\n",
              "        [0.07476485, 0.1346345 , 0.52293205]],\n",
              "\n",
              "       [[0.71417737, 0.93637323, 0.5062294 ],\n",
              "        [0.7343426 , 0.78485584, 0.83252895],\n",
              "        [0.24996853, 0.6774888 , 0.5846344 ],\n",
              "        ...,\n",
              "        [0.14167464, 0.1695689 , 0.20922554],\n",
              "        [0.18798923, 0.17685497, 0.605425  ],\n",
              "        [0.49284256, 0.85536253, 0.02331877]],\n",
              "\n",
              "       [[0.6945864 , 0.12596822, 0.99590445],\n",
              "        [0.30588746, 0.57381487, 0.42850733],\n",
              "        [0.507748  , 0.9616767 , 0.8509238 ],\n",
              "        ...,\n",
              "        [0.07040465, 0.7346666 , 0.7077302 ],\n",
              "        [0.03527081, 0.60656655, 0.21893144],\n",
              "        [0.11796331, 0.40812612, 0.07537138]]], dtype=float32)>"
            ]
          },
          "metadata": {
            "tags": []
          },
          "execution_count": 112
        }
      ]
    },
    {
      "cell_type": "code",
      "metadata": {
        "colab": {
          "base_uri": "https://localhost:8080/"
        },
        "id": "kGdm8m9A2x-U",
        "outputId": "d0c28a6b-01cc-4f10-89ea-b8bde1588399"
      },
      "source": [
        "# Find the min and max values of the tensor you created in 6.\n",
        "print(\"min value: \", tf.reduce_min(tensor_3))\n",
        "print(\"max value: \", tf.reduce_max(tensor_3))"
      ],
      "execution_count": 113,
      "outputs": [
        {
          "output_type": "stream",
          "text": [
            "min value:  tf.Tensor(5.4836273e-06, shape=(), dtype=float32)\n",
            "max value:  tf.Tensor(0.99999785, shape=(), dtype=float32)\n"
          ],
          "name": "stdout"
        }
      ]
    },
    {
      "cell_type": "code",
      "metadata": {
        "colab": {
          "base_uri": "https://localhost:8080/"
        },
        "id": "kcrJjjTB3BGV",
        "outputId": "527230ec-f7ff-482c-f33c-74ee47bf0fe4"
      },
      "source": [
        "# Created a tensor with random values of shape [1, 224, 224, 3] then squeeze it to change the shape to [224, 224, 3].\n",
        "tensor_4 = create_tensor((1, 224, 224, 3))\n",
        "tensor_squeezed = tf.squeeze(tensor_4)\n",
        "\n",
        "print(tensor_4.shape)\n",
        "print(tensor_squeezed.shape)"
      ],
      "execution_count": 114,
      "outputs": [
        {
          "output_type": "stream",
          "text": [
            "(1, 224, 224, 3)\n",
            "(224, 224, 3)\n"
          ],
          "name": "stdout"
        }
      ]
    },
    {
      "cell_type": "code",
      "metadata": {
        "colab": {
          "base_uri": "https://localhost:8080/"
        },
        "id": "qMe6dGYO3VFW",
        "outputId": "783a4986-af15-4a69-b86d-561bcd65bbc4"
      },
      "source": [
        "# Create a tensor with shape [10] using your own choice of values, then find the index which has the maximum value.\n",
        "tensor_5 = tf.constant(np.random.randint(1, high=11, size=10), shape=(10))\n",
        "print(tensor_5)\n",
        "print(tensor_5.shape)"
      ],
      "execution_count": 115,
      "outputs": [
        {
          "output_type": "stream",
          "text": [
            "tf.Tensor([4 1 5 9 7 3 2 7 7 2], shape=(10,), dtype=int64)\n",
            "(10,)\n"
          ],
          "name": "stdout"
        }
      ]
    },
    {
      "cell_type": "code",
      "metadata": {
        "colab": {
          "base_uri": "https://localhost:8080/"
        },
        "id": "hVbF3G1B3rUC",
        "outputId": "47f31c42-6ce3-4b4d-9df1-57e076416f9f"
      },
      "source": [
        "# One-hot encode the tensor you created in 9.\n",
        "\n",
        "encoded_tensor = tf.one_hot(tensor_5, depth=10)\n",
        "print(encoded_tensor)"
      ],
      "execution_count": 116,
      "outputs": [
        {
          "output_type": "stream",
          "text": [
            "tf.Tensor(\n",
            "[[0. 0. 0. 0. 1. 0. 0. 0. 0. 0.]\n",
            " [0. 1. 0. 0. 0. 0. 0. 0. 0. 0.]\n",
            " [0. 0. 0. 0. 0. 1. 0. 0. 0. 0.]\n",
            " [0. 0. 0. 0. 0. 0. 0. 0. 0. 1.]\n",
            " [0. 0. 0. 0. 0. 0. 0. 1. 0. 0.]\n",
            " [0. 0. 0. 1. 0. 0. 0. 0. 0. 0.]\n",
            " [0. 0. 1. 0. 0. 0. 0. 0. 0. 0.]\n",
            " [0. 0. 0. 0. 0. 0. 0. 1. 0. 0.]\n",
            " [0. 0. 0. 0. 0. 0. 0. 1. 0. 0.]\n",
            " [0. 0. 1. 0. 0. 0. 0. 0. 0. 0.]], shape=(10, 10), dtype=float32)\n"
          ],
          "name": "stdout"
        }
      ]
    }
  ]
}