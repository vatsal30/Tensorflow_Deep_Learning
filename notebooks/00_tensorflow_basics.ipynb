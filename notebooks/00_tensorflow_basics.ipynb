{
  "nbformat": 4,
  "nbformat_minor": 0,
  "metadata": {
    "colab": {
      "name": "00_tensorflow.ipynb",
      "provenance": [],
      "toc_visible": true,
      "authorship_tag": "ABX9TyPcpIpR+6i6EtzKB5In/GHe",
      "include_colab_link": true
    },
    "kernelspec": {
      "name": "python3",
      "display_name": "Python 3"
    },
    "language_info": {
      "name": "python"
    }
  },
  "cells": [
    {
      "cell_type": "markdown",
      "metadata": {
        "id": "view-in-github",
        "colab_type": "text"
      },
      "source": [
        "<a href=\"https://colab.research.google.com/github/vatsal30/Tensorflow_Deep_Learning/blob/main/notebooks/00_tensorflow_basics.ipynb\" target=\"_parent\"><img src=\"https://colab.research.google.com/assets/colab-badge.svg\" alt=\"Open In Colab\"/></a>"
      ]
    },
    {
      "cell_type": "markdown",
      "metadata": {
        "id": "JCXkOyQJ280N"
      },
      "source": [
        "# Getting started with TensorFlow\n",
        "\n",
        "## What is Tensorflow?\n",
        "\n",
        "[TensorFlow](https://www.tensorflow.org/) is an end-to-end open source platform for machine learning. It has a comprehensive, flexible ecosystem of tools, libraries and community resources that lets researchers push the state-of-the-art in ML and developers easily build and deploy ML powered applications.\n",
        "\n",
        "## Why TensorFlow?\n"
      ]
    },
    {
      "cell_type": "markdown",
      "metadata": {
        "id": "3K4f8UGJR1B1"
      },
      "source": [
        "# Tensorflow Basics"
      ]
    },
    {
      "cell_type": "markdown",
      "metadata": {
        "id": "L_vLxtk0i2ha"
      },
      "source": [
        "### Tensor Basic and tf.constant()"
      ]
    },
    {
      "cell_type": "code",
      "metadata": {
        "colab": {
          "base_uri": "https://localhost:8080/"
        },
        "id": "ACruG3-bRm_v",
        "outputId": "8e6692d1-f90a-4f25-f192-8e13a45a5f43"
      },
      "source": [
        "import tensorflow as tf\n",
        "print(tf.__version__)"
      ],
      "execution_count": 1,
      "outputs": [
        {
          "output_type": "stream",
          "text": [
            "2.4.1\n"
          ],
          "name": "stdout"
        }
      ]
    },
    {
      "cell_type": "code",
      "metadata": {
        "colab": {
          "base_uri": "https://localhost:8080/"
        },
        "id": "u44KBzZwSE9P",
        "outputId": "e8826152-32db-40b0-cea8-aadb7de282f8"
      },
      "source": [
        "#create tensor with tf.constant()\n",
        "scalar = tf.constant(7)\n",
        "scalar"
      ],
      "execution_count": 2,
      "outputs": [
        {
          "output_type": "execute_result",
          "data": {
            "text/plain": [
              "<tf.Tensor: shape=(), dtype=int32, numpy=7>"
            ]
          },
          "metadata": {
            "tags": []
          },
          "execution_count": 2
        }
      ]
    },
    {
      "cell_type": "code",
      "metadata": {
        "colab": {
          "base_uri": "https://localhost:8080/"
        },
        "id": "1Yk4-hWlSRLE",
        "outputId": "bcbc9eef-9a74-44ff-b8f0-0c39f1a17e82"
      },
      "source": [
        "#check dimension of tensor\n",
        "scalar.ndim"
      ],
      "execution_count": 3,
      "outputs": [
        {
          "output_type": "execute_result",
          "data": {
            "text/plain": [
              "0"
            ]
          },
          "metadata": {
            "tags": []
          },
          "execution_count": 3
        }
      ]
    },
    {
      "cell_type": "code",
      "metadata": {
        "colab": {
          "base_uri": "https://localhost:8080/"
        },
        "id": "pNAJ0ILwVgUV",
        "outputId": "4ab5b30e-19fd-4882-cce8-1f698aa604bc"
      },
      "source": [
        "#Create a vector\n",
        "vector = tf.constant([10,20,30])\n",
        "vector"
      ],
      "execution_count": 4,
      "outputs": [
        {
          "output_type": "execute_result",
          "data": {
            "text/plain": [
              "<tf.Tensor: shape=(3,), dtype=int32, numpy=array([10, 20, 30], dtype=int32)>"
            ]
          },
          "metadata": {
            "tags": []
          },
          "execution_count": 4
        }
      ]
    },
    {
      "cell_type": "code",
      "metadata": {
        "colab": {
          "base_uri": "https://localhost:8080/"
        },
        "id": "xmUteiDlVmvq",
        "outputId": "302d3269-322b-4a93-a4cb-4022d0232354"
      },
      "source": [
        "vector.ndim"
      ],
      "execution_count": 5,
      "outputs": [
        {
          "output_type": "execute_result",
          "data": {
            "text/plain": [
              "1"
            ]
          },
          "metadata": {
            "tags": []
          },
          "execution_count": 5
        }
      ]
    },
    {
      "cell_type": "code",
      "metadata": {
        "colab": {
          "base_uri": "https://localhost:8080/"
        },
        "id": "8RgiB85mVrCd",
        "outputId": "dd29a8da-57a2-4e80-fe96-ad010cb8f36a"
      },
      "source": [
        "matrix = tf.constant([[10,20],\n",
        "                     [20,30]])\n",
        "matrix"
      ],
      "execution_count": 6,
      "outputs": [
        {
          "output_type": "execute_result",
          "data": {
            "text/plain": [
              "<tf.Tensor: shape=(2, 2), dtype=int32, numpy=\n",
              "array([[10, 20],\n",
              "       [20, 30]], dtype=int32)>"
            ]
          },
          "metadata": {
            "tags": []
          },
          "execution_count": 6
        }
      ]
    },
    {
      "cell_type": "code",
      "metadata": {
        "colab": {
          "base_uri": "https://localhost:8080/"
        },
        "id": "osatlYyaVxWO",
        "outputId": "a746c49c-4e82-4293-fc5d-fd79edf7aeb3"
      },
      "source": [
        "matrix.ndim"
      ],
      "execution_count": 7,
      "outputs": [
        {
          "output_type": "execute_result",
          "data": {
            "text/plain": [
              "2"
            ]
          },
          "metadata": {
            "tags": []
          },
          "execution_count": 7
        }
      ]
    },
    {
      "cell_type": "code",
      "metadata": {
        "colab": {
          "base_uri": "https://localhost:8080/"
        },
        "id": "tzaOv2yRV4_F",
        "outputId": "7606f9dc-1fa8-4dcf-d56e-72d8f990d70d"
      },
      "source": [
        "matrix_2 = tf.constant([[1.0,2.4],\n",
        "                        [3.2,3.4],\n",
        "                        [4.5,6.7]], dtype=tf.float16)\n",
        "matrix_2"
      ],
      "execution_count": 8,
      "outputs": [
        {
          "output_type": "execute_result",
          "data": {
            "text/plain": [
              "<tf.Tensor: shape=(3, 2), dtype=float16, numpy=\n",
              "array([[1. , 2.4],\n",
              "       [3.2, 3.4],\n",
              "       [4.5, 6.7]], dtype=float16)>"
            ]
          },
          "metadata": {
            "tags": []
          },
          "execution_count": 8
        }
      ]
    },
    {
      "cell_type": "code",
      "metadata": {
        "colab": {
          "base_uri": "https://localhost:8080/"
        },
        "id": "OHPTm-_FWDwT",
        "outputId": "fd99631d-8332-48b3-f6f4-9466f9d59fed"
      },
      "source": [
        "matrix_2.ndim"
      ],
      "execution_count": 9,
      "outputs": [
        {
          "output_type": "execute_result",
          "data": {
            "text/plain": [
              "2"
            ]
          },
          "metadata": {
            "tags": []
          },
          "execution_count": 9
        }
      ]
    },
    {
      "cell_type": "code",
      "metadata": {
        "colab": {
          "base_uri": "https://localhost:8080/"
        },
        "id": "KqfMYRdfWHz2",
        "outputId": "094c6181-dd8d-4339-f8cd-2238b171d3b3"
      },
      "source": [
        "tensor = tf.constant([[[1,2,3],\n",
        "                       [3,4,5]],\n",
        "                      [[6,7,8],\n",
        "                       [7,8,9]],\n",
        "                      [[1,2,3],\n",
        "                       [3,4,5]],\n",
        "                      [[6,7,8],\n",
        "                       [7,8,9]]])\n",
        "tensor"
      ],
      "execution_count": 10,
      "outputs": [
        {
          "output_type": "execute_result",
          "data": {
            "text/plain": [
              "<tf.Tensor: shape=(4, 2, 3), dtype=int32, numpy=\n",
              "array([[[1, 2, 3],\n",
              "        [3, 4, 5]],\n",
              "\n",
              "       [[6, 7, 8],\n",
              "        [7, 8, 9]],\n",
              "\n",
              "       [[1, 2, 3],\n",
              "        [3, 4, 5]],\n",
              "\n",
              "       [[6, 7, 8],\n",
              "        [7, 8, 9]]], dtype=int32)>"
            ]
          },
          "metadata": {
            "tags": []
          },
          "execution_count": 10
        }
      ]
    },
    {
      "cell_type": "code",
      "metadata": {
        "colab": {
          "base_uri": "https://localhost:8080/"
        },
        "id": "MgY2w7RaWlAo",
        "outputId": "d78f5898-fd47-4293-9ea6-7b2a68fd3ebd"
      },
      "source": [
        "tensor.ndim"
      ],
      "execution_count": 11,
      "outputs": [
        {
          "output_type": "execute_result",
          "data": {
            "text/plain": [
              "3"
            ]
          },
          "metadata": {
            "tags": []
          },
          "execution_count": 11
        }
      ]
    },
    {
      "cell_type": "markdown",
      "metadata": {
        "id": "dCfM9pF1X7cZ"
      },
      "source": [
        "* Scalar: a single number\n",
        "* Vector: a number with direction (eg. wind speed and direction)\n",
        "* Matrix: a 2D array of numbers\n",
        "* Tensor: a n-dimensional array of numbers"
      ]
    },
    {
      "cell_type": "code",
      "metadata": {
        "colab": {
          "base_uri": "https://localhost:8080/"
        },
        "id": "DFQvZxDIX4Lr",
        "outputId": "3d2841aa-e660-44d7-e5e4-4c9567281552"
      },
      "source": [
        "#Basic Math with tensors\n",
        "\n",
        "a = tf.constant([[1,2],\n",
        "                 [3,4]])\n",
        "b = tf.ones([2,2], dtype=tf.int32)\n",
        "print(a)\n",
        "print(b)"
      ],
      "execution_count": 12,
      "outputs": [
        {
          "output_type": "stream",
          "text": [
            "tf.Tensor(\n",
            "[[1 2]\n",
            " [3 4]], shape=(2, 2), dtype=int32)\n",
            "tf.Tensor(\n",
            "[[1 1]\n",
            " [1 1]], shape=(2, 2), dtype=int32)\n"
          ],
          "name": "stdout"
        }
      ]
    },
    {
      "cell_type": "code",
      "metadata": {
        "colab": {
          "base_uri": "https://localhost:8080/"
        },
        "id": "ina6_DwjXyra",
        "outputId": "d05dfa94-5eee-46cc-f2b6-2ca311be67c1"
      },
      "source": [
        "# Addition\n",
        "print((a + b))\n",
        "print(tf.add(a,b))"
      ],
      "execution_count": 13,
      "outputs": [
        {
          "output_type": "stream",
          "text": [
            "tf.Tensor(\n",
            "[[2 3]\n",
            " [4 5]], shape=(2, 2), dtype=int32)\n",
            "tf.Tensor(\n",
            "[[2 3]\n",
            " [4 5]], shape=(2, 2), dtype=int32)\n"
          ],
          "name": "stdout"
        }
      ]
    },
    {
      "cell_type": "code",
      "metadata": {
        "colab": {
          "base_uri": "https://localhost:8080/"
        },
        "id": "B2PNpKvCXPPM",
        "outputId": "953bb129-c3f6-49c7-b473-8c3b8b586203"
      },
      "source": [
        "#Element wise multiplication\n",
        "print(a*b)\n",
        "print(tf.multiply(a,b))"
      ],
      "execution_count": 14,
      "outputs": [
        {
          "output_type": "stream",
          "text": [
            "tf.Tensor(\n",
            "[[1 2]\n",
            " [3 4]], shape=(2, 2), dtype=int32)\n",
            "tf.Tensor(\n",
            "[[1 2]\n",
            " [3 4]], shape=(2, 2), dtype=int32)\n"
          ],
          "name": "stdout"
        }
      ]
    },
    {
      "cell_type": "code",
      "metadata": {
        "colab": {
          "base_uri": "https://localhost:8080/"
        },
        "id": "I0zSUZosa8vC",
        "outputId": "6281fbf0-517c-4421-a452-c9770ab9a55b"
      },
      "source": [
        "#Matrix Multiplication\n",
        "print(a@b)\n",
        "print(tf.matmul(a,b))"
      ],
      "execution_count": 15,
      "outputs": [
        {
          "output_type": "stream",
          "text": [
            "tf.Tensor(\n",
            "[[3 3]\n",
            " [7 7]], shape=(2, 2), dtype=int32)\n",
            "tf.Tensor(\n",
            "[[3 3]\n",
            " [7 7]], shape=(2, 2), dtype=int32)\n"
          ],
          "name": "stdout"
        }
      ]
    },
    {
      "cell_type": "code",
      "metadata": {
        "colab": {
          "base_uri": "https://localhost:8080/"
        },
        "id": "wHHXEB9LbRmn",
        "outputId": "22904e08-e479-4f61-efb0-1332f5f66d56"
      },
      "source": [
        "#Find max Value\n",
        "c = tf.constant([[10 ,20 , 30], [78,32, 42]])\n",
        "\n",
        "print(\"Max value: \", tf.reduce_max(c))"
      ],
      "execution_count": 16,
      "outputs": [
        {
          "output_type": "stream",
          "text": [
            "Max value:  tf.Tensor(78, shape=(), dtype=int32)\n"
          ],
          "name": "stdout"
        }
      ]
    },
    {
      "cell_type": "code",
      "metadata": {
        "colab": {
          "base_uri": "https://localhost:8080/"
        },
        "id": "p84MS-t1bk9Y",
        "outputId": "1c81f213-02b1-4fb6-a6cb-4d43c301161f"
      },
      "source": [
        "#Find max value location\n",
        "tf.argmax(c)"
      ],
      "execution_count": 17,
      "outputs": [
        {
          "output_type": "execute_result",
          "data": {
            "text/plain": [
              "<tf.Tensor: shape=(3,), dtype=int64, numpy=array([1, 1, 1])>"
            ]
          },
          "metadata": {
            "tags": []
          },
          "execution_count": 17
        }
      ]
    },
    {
      "cell_type": "code",
      "metadata": {
        "id": "1Z64P5fgb3u0"
      },
      "source": [
        "rank_4_tensor = tf.zeros([3, 2, 4, 5])"
      ],
      "execution_count": 18,
      "outputs": []
    },
    {
      "cell_type": "code",
      "metadata": {
        "colab": {
          "base_uri": "https://localhost:8080/"
        },
        "id": "R49cNuNycDc6",
        "outputId": "f21bcc04-b891-4be6-9cae-a3edd497b3c2"
      },
      "source": [
        "# Finding Shape\n",
        "rank_4_tensor.shape"
      ],
      "execution_count": 19,
      "outputs": [
        {
          "output_type": "execute_result",
          "data": {
            "text/plain": [
              "TensorShape([3, 2, 4, 5])"
            ]
          },
          "metadata": {
            "tags": []
          },
          "execution_count": 19
        }
      ]
    },
    {
      "cell_type": "code",
      "metadata": {
        "colab": {
          "base_uri": "https://localhost:8080/"
        },
        "id": "Q-63ip4UcGxu",
        "outputId": "c8db5410-211b-4641-faae-6591554652d5"
      },
      "source": [
        "# Finding Size\n",
        "tf.size(rank_4_tensor).numpy()"
      ],
      "execution_count": 20,
      "outputs": [
        {
          "output_type": "execute_result",
          "data": {
            "text/plain": [
              "120"
            ]
          },
          "metadata": {
            "tags": []
          },
          "execution_count": 20
        }
      ]
    },
    {
      "cell_type": "code",
      "metadata": {
        "colab": {
          "base_uri": "https://localhost:8080/"
        },
        "id": "iFeDmC0bcLfT",
        "outputId": "a7871d56-632c-4f48-905c-dfbd148cf6ee"
      },
      "source": [
        "# Number of axes\n",
        "rank_4_tensor.ndim"
      ],
      "execution_count": 21,
      "outputs": [
        {
          "output_type": "execute_result",
          "data": {
            "text/plain": [
              "4"
            ]
          },
          "metadata": {
            "tags": []
          },
          "execution_count": 21
        }
      ]
    },
    {
      "cell_type": "code",
      "metadata": {
        "colab": {
          "base_uri": "https://localhost:8080/"
        },
        "id": "hsA89eTwcZZ4",
        "outputId": "d6d9101e-c971-4b74-baae-d6e23af6791c"
      },
      "source": [
        "# Finding Datatype of Every Element\n",
        "rank_4_tensor.dtype"
      ],
      "execution_count": 22,
      "outputs": [
        {
          "output_type": "execute_result",
          "data": {
            "text/plain": [
              "tf.float32"
            ]
          },
          "metadata": {
            "tags": []
          },
          "execution_count": 22
        }
      ]
    },
    {
      "cell_type": "code",
      "metadata": {
        "colab": {
          "base_uri": "https://localhost:8080/"
        },
        "id": "CUJzLX9Dci3z",
        "outputId": "699e150e-fc70-4551-cea1-52acd9e7374d"
      },
      "source": [
        "#Indexing Single Index\n",
        "rank_1_tensor = tf.constant([0, 1, 1, 2, 3, 5, 8, 13, 21, 34])\n",
        "\n",
        "print(\"First Eleemnt: \", rank_1_tensor[0].numpy())\n",
        "print(\"Last Element: \", rank_1_tensor[-1].numpy())"
      ],
      "execution_count": 23,
      "outputs": [
        {
          "output_type": "stream",
          "text": [
            "First Eleemnt:  0\n",
            "Last Element:  34\n"
          ],
          "name": "stdout"
        }
      ]
    },
    {
      "cell_type": "code",
      "metadata": {
        "colab": {
          "base_uri": "https://localhost:8080/"
        },
        "id": "9wjmMsgMdoop",
        "outputId": "67d85d12-a994-43cc-8cda-a9afb3f307b0"
      },
      "source": [
        "print(\"Everything: \", rank_1_tensor[:].numpy())\n",
        "print(\"Reverse: \", rank_1_tensor[::-1].numpy())\n",
        "print(\"Element 2 to 6: \",rank_1_tensor[1:6].numpy())\n",
        "print(\"Upto 5 Element:\", rank_1_tensor[:5].numpy())"
      ],
      "execution_count": 24,
      "outputs": [
        {
          "output_type": "stream",
          "text": [
            "Everything:  [ 0  1  1  2  3  5  8 13 21 34]\n",
            "Reverse:  [34 21 13  8  5  3  2  1  1  0]\n",
            "Element 2 to 6:  [1 1 2 3 5]\n",
            "Upto 5 Element: [0 1 1 2 3]\n"
          ],
          "name": "stdout"
        }
      ]
    },
    {
      "cell_type": "code",
      "metadata": {
        "colab": {
          "base_uri": "https://localhost:8080/"
        },
        "id": "joLCUng4eFIJ",
        "outputId": "746a8d1a-3a0f-4966-83fb-796da9c0b271"
      },
      "source": [
        "# Multi Index\n",
        "matrix = tf.constant([[1.,2.],\n",
        " [3., 4.],\n",
        " [5., 6.]])\n",
        "matrix"
      ],
      "execution_count": 25,
      "outputs": [
        {
          "output_type": "execute_result",
          "data": {
            "text/plain": [
              "<tf.Tensor: shape=(3, 2), dtype=float32, numpy=\n",
              "array([[1., 2.],\n",
              "       [3., 4.],\n",
              "       [5., 6.]], dtype=float32)>"
            ]
          },
          "metadata": {
            "tags": []
          },
          "execution_count": 25
        }
      ]
    },
    {
      "cell_type": "code",
      "metadata": {
        "colab": {
          "base_uri": "https://localhost:8080/"
        },
        "id": "2jWc4sjyetf9",
        "outputId": "5d9a0507-25d5-4172-bf36-de59b7eabe91"
      },
      "source": [
        "# access any single element\n",
        "print(matrix[2,1].numpy())"
      ],
      "execution_count": 26,
      "outputs": [
        {
          "output_type": "stream",
          "text": [
            "6.0\n"
          ],
          "name": "stdout"
        }
      ]
    },
    {
      "cell_type": "code",
      "metadata": {
        "colab": {
          "base_uri": "https://localhost:8080/"
        },
        "id": "ia2NI5ZJfEg2",
        "outputId": "bac4691a-56f8-46cb-d909-af8edacffc63"
      },
      "source": [
        "#Access Second Row\n",
        "print(matrix[1].numpy())"
      ],
      "execution_count": 27,
      "outputs": [
        {
          "output_type": "stream",
          "text": [
            "[3. 4.]\n"
          ],
          "name": "stdout"
        }
      ]
    },
    {
      "cell_type": "code",
      "metadata": {
        "colab": {
          "base_uri": "https://localhost:8080/"
        },
        "id": "0wg2agvDfS0n",
        "outputId": "70750c4b-951c-4645-ad5f-3896df928773"
      },
      "source": [
        "#Access Second Column\n",
        "print(matrix[:,1].numpy())"
      ],
      "execution_count": 28,
      "outputs": [
        {
          "output_type": "stream",
          "text": [
            "[2. 4. 6.]\n"
          ],
          "name": "stdout"
        }
      ]
    },
    {
      "cell_type": "code",
      "metadata": {
        "colab": {
          "base_uri": "https://localhost:8080/"
        },
        "id": "rmvqcspyfhp_",
        "outputId": "d8e03c6b-e535-4010-842e-c0e3b3961bcc"
      },
      "source": [
        "# Access Last Row\n",
        "print(matrix[-1].numpy())"
      ],
      "execution_count": 29,
      "outputs": [
        {
          "output_type": "stream",
          "text": [
            "[5. 6.]\n"
          ],
          "name": "stdout"
        }
      ]
    },
    {
      "cell_type": "code",
      "metadata": {
        "colab": {
          "base_uri": "https://localhost:8080/"
        },
        "id": "3ifYfZ2OfxrH",
        "outputId": "62da7e47-c8fb-4be4-cbab-736851d02a9b"
      },
      "source": [
        "# Type Conversion\n",
        "x = tf.constant([2.4,3.6,4.2])\n",
        "print(x)\n",
        "x = tf.cast(x, dtype = tf.int32)\n",
        "print(x)"
      ],
      "execution_count": 30,
      "outputs": [
        {
          "output_type": "stream",
          "text": [
            "tf.Tensor([2.4 3.6 4.2], shape=(3,), dtype=float32)\n",
            "tf.Tensor([2 3 4], shape=(3,), dtype=int32)\n"
          ],
          "name": "stdout"
        }
      ]
    },
    {
      "cell_type": "code",
      "metadata": {
        "colab": {
          "base_uri": "https://localhost:8080/"
        },
        "id": "hUHCiuEBhNcP",
        "outputId": "5d157abd-34e9-4296-afdd-ab0b86022439"
      },
      "source": [
        "# BroadCasting: This is same as broadcasting in numpy\n",
        "# under certain conditions, smaller tensors are \"stretched\" automatically to fit larger tensors when running combined operations on them.\n",
        "\n",
        "y = tf.constant(2)\n",
        "z= tf.constant([2,2,2])\n",
        "\n",
        "print(tf.multiply(x,2))\n",
        "print(tf.multiply(x,y))\n",
        "print(tf.multiply(x,z))"
      ],
      "execution_count": 31,
      "outputs": [
        {
          "output_type": "stream",
          "text": [
            "tf.Tensor([4 6 8], shape=(3,), dtype=int32)\n",
            "tf.Tensor([4 6 8], shape=(3,), dtype=int32)\n",
            "tf.Tensor([4 6 8], shape=(3,), dtype=int32)\n"
          ],
          "name": "stdout"
        }
      ]
    },
    {
      "cell_type": "markdown",
      "metadata": {
        "id": "eTq6eQZVjCI-"
      },
      "source": [
        "### tf.Variable()"
      ]
    },
    {
      "cell_type": "code",
      "metadata": {
        "colab": {
          "base_uri": "https://localhost:8080/"
        },
        "id": "uWHkgYNtiGuU",
        "outputId": "21b9be34-cfb8-45bc-98e6-af62416e9ebb"
      },
      "source": [
        "# Cerate Tensors with tf.variable()\n",
        "# A variable here is look like tensor and it is backed by tensor and have same methods as tensors\n",
        "my_tensor = tf.constant([[1,2,3],[3,4,5]])\n",
        "my_variable = tf.Variable([[1,2,3],[3,4,5]])\n",
        "\n",
        "print(my_tensor)\n",
        "print(my_variable)"
      ],
      "execution_count": 32,
      "outputs": [
        {
          "output_type": "stream",
          "text": [
            "tf.Tensor(\n",
            "[[1 2 3]\n",
            " [3 4 5]], shape=(2, 3), dtype=int32)\n",
            "<tf.Variable 'Variable:0' shape=(2, 3) dtype=int32, numpy=\n",
            "array([[1, 2, 3],\n",
            "       [3, 4, 5]], dtype=int32)>\n"
          ],
          "name": "stdout"
        }
      ]
    },
    {
      "cell_type": "code",
      "metadata": {
        "colab": {
          "base_uri": "https://localhost:8080/",
          "height": 210
        },
        "id": "R2Rxm9DyzgRv",
        "outputId": "420343ff-3039-4b06-e2cc-b76732680e68"
      },
      "source": [
        "# you cannot change tensor created by tf.constant\n",
        "# This line will generate an error\n",
        "my_tensor[1,0] = 6 "
      ],
      "execution_count": 33,
      "outputs": [
        {
          "output_type": "error",
          "ename": "TypeError",
          "evalue": "ignored",
          "traceback": [
            "\u001b[0;31m---------------------------------------------------------------------------\u001b[0m",
            "\u001b[0;31mTypeError\u001b[0m                                 Traceback (most recent call last)",
            "\u001b[0;32m<ipython-input-33-ede8497fa15a>\u001b[0m in \u001b[0;36m<module>\u001b[0;34m()\u001b[0m\n\u001b[1;32m      1\u001b[0m \u001b[0;31m# you cannot change tensor created by tf.constant\u001b[0m\u001b[0;34m\u001b[0m\u001b[0;34m\u001b[0m\u001b[0;34m\u001b[0m\u001b[0m\n\u001b[1;32m      2\u001b[0m \u001b[0;31m# This line will generate an error\u001b[0m\u001b[0;34m\u001b[0m\u001b[0;34m\u001b[0m\u001b[0;34m\u001b[0m\u001b[0m\n\u001b[0;32m----> 3\u001b[0;31m \u001b[0mmy_tensor\u001b[0m\u001b[0;34m[\u001b[0m\u001b[0;36m1\u001b[0m\u001b[0;34m,\u001b[0m\u001b[0;36m0\u001b[0m\u001b[0;34m]\u001b[0m \u001b[0;34m=\u001b[0m \u001b[0;36m6\u001b[0m\u001b[0;34m\u001b[0m\u001b[0;34m\u001b[0m\u001b[0m\n\u001b[0m",
            "\u001b[0;31mTypeError\u001b[0m: 'tensorflow.python.framework.ops.EagerTensor' object does not support item assignment"
          ]
        }
      ]
    },
    {
      "cell_type": "code",
      "metadata": {
        "id": "WMTfGPbH0lL6"
      },
      "source": [
        "#If you try to assign Variable\n",
        "my_variable[1,0] = 6"
      ],
      "execution_count": null,
      "outputs": []
    },
    {
      "cell_type": "code",
      "metadata": {
        "id": "edgGGXpf0Ewf"
      },
      "source": [
        "# For assign any value in variable you need to use assign function\n",
        "my_variable[1,0].assign(6)\n",
        "my_variable"
      ],
      "execution_count": null,
      "outputs": []
    },
    {
      "cell_type": "code",
      "metadata": {
        "id": "wGt00cqX0J_e"
      },
      "source": [
        "# A variable looks and acts like a tensor, and, in fact, is a data structure backed by a tf.Tensor. \n",
        "# Like tensors, they have a dtype and a shape, and can be exported to NumPy.\n",
        "print(\"Data Type: \", my_variable.dtype)\n",
        "print(\"Shape: \", my_variable.shape)\n",
        "print(\"Numpy Array: \", my_variable.numpy())\n"
      ],
      "execution_count": null,
      "outputs": []
    },
    {
      "cell_type": "code",
      "metadata": {
        "id": "uuN7UtbE1i4A"
      },
      "source": [
        "# Change Variable to tensor\n",
        "tf.convert_to_tensor(my_variable)"
      ],
      "execution_count": null,
      "outputs": []
    },
    {
      "cell_type": "code",
      "metadata": {
        "id": "19FgPv_I2XhS"
      },
      "source": [
        "# We cannot change shpare of variable same as tensor\n",
        "# It will create new tensor not reshape existing variable\n",
        "tf.reshape(my_variable,[3,2])"
      ],
      "execution_count": null,
      "outputs": []
    },
    {
      "cell_type": "code",
      "metadata": {
        "id": "vYnTDOgV2tzO"
      },
      "source": [
        "# Find index of max value\n",
        "tf.argmax(my_variable)"
      ],
      "execution_count": null,
      "outputs": []
    },
    {
      "cell_type": "code",
      "metadata": {
        "id": "bJ4E_FEL26kv"
      },
      "source": [
        "# Find max value\n",
        "tf.reduce_max(my_variable).numpy()"
      ],
      "execution_count": null,
      "outputs": []
    },
    {
      "cell_type": "code",
      "metadata": {
        "id": "kw1AN_DE3FUm"
      },
      "source": [
        "# If we copy variable into another using tf.Variable it will create new variable\n",
        "a = tf.Variable([1,2,3])\n",
        "b = tf.Variable(a)\n",
        "\n",
        "#adding into a\n",
        "print(a.assign_add([3,4,5]).numpy())\n",
        "print(b.numpy())\n",
        "\n",
        "#subtrac from a\n",
        "print(a.assign_sub([1,2,3]).numpy())\n",
        "print(b.numpy())"
      ],
      "execution_count": null,
      "outputs": []
    },
    {
      "cell_type": "code",
      "metadata": {
        "id": "SR0-U4XF31s2"
      },
      "source": [
        "# Create a and b; they will have the same name but will be backed by\n",
        "# different tensors.\n",
        "a = tf.Variable(my_tensor, name=\"Mark\")\n",
        "# A new variable with the same name, but different value\n",
        "# Note that the scalar add is broadcast\n",
        "b = tf.Variable(my_tensor + 1, name=\"Mark\")\n",
        "\n",
        "print(a)\n",
        "print(b)\n",
        "# These are elementwise-unequal, despite having the same name\n",
        "print(a == b)\n"
      ],
      "execution_count": null,
      "outputs": []
    },
    {
      "cell_type": "markdown",
      "metadata": {
        "id": "H7DiSQB3bmAT"
      },
      "source": [
        "### Creating Random Tensors\n",
        "  Random Tensors are tenosrs of  some arbitrary size  which contain some random numbers."
      ]
    },
    {
      "cell_type": "code",
      "metadata": {
        "id": "eQr6NymE4ksx"
      },
      "source": [
        "random_1 = tf.random.Generator.from_seed(42)\n",
        "random_1 = random_1.normal(shape=(3,2))\n",
        "print(random_1)\n",
        "random_2 = tf.random.normal(shape=(3,2))\n",
        "print(random_2)"
      ],
      "execution_count": null,
      "outputs": []
    },
    {
      "cell_type": "markdown",
      "metadata": {
        "id": "3uUQJu1Reb5s"
      },
      "source": [
        "### Shuffle tenosr Elements"
      ]
    },
    {
      "cell_type": "code",
      "metadata": {
        "id": "_hSFv_hGcyxS"
      },
      "source": [
        "not_shuffled = tf.constant([[10, 7],\n",
        "                            [20, 4],\n",
        "                            [30, 5]])\n",
        "not_shuffled.ndim "
      ],
      "execution_count": null,
      "outputs": []
    },
    {
      "cell_type": "code",
      "metadata": {
        "id": "cESeMMFReyNQ"
      },
      "source": [
        "tf.random.shuffle(not_shuffled)"
      ],
      "execution_count": null,
      "outputs": []
    },
    {
      "cell_type": "markdown",
      "metadata": {
        "id": "bb-qPyxag-uk"
      },
      "source": [
        "### tf.random.seed\n",
        "Operations that rely on a random seed actually derive it from two seeds: the global and operation-level seeds. This sets the global seed.\n",
        "\n",
        "Its interactions with operation-level seeds is as follows:\n",
        "\n",
        "1. If neither the global seed nor the operation seed is set: A randomly picked seed is used for this op.\n",
        "2. If the graph-level seed is set, but the operation seed is not: The system deterministically picks an operation seed in conjunction with the graph-level seed so that it gets a unique random sequence. Within the same version of tensorflow and user code, this sequence is deterministic. However across different versions, this sequence might change. If the code depends on particular seeds to work, specify both graph-level and operation-level seeds explicitly.\n",
        "3. If the operation seed is set, but the global seed is not set: A default global seed and the specified operation seed are used to determine the random sequence.\n",
        "4. If both the global and the operation seed are set: Both seeds are used in conjunction to determine the random sequence.\n",
        "\n",
        "\n"
      ]
    },
    {
      "cell_type": "code",
      "metadata": {
        "id": "fAb04C6zfhyF"
      },
      "source": [
        "# If neither the global seed nor the operation seed is set, \n",
        "# we get different results for every call to the random op and every re-run of the program:\n",
        "print(tf.random.uniform([1]))  # generates 'A1'\n",
        "print(tf.random.uniform([1]))  # generates 'A2'"
      ],
      "execution_count": null,
      "outputs": []
    },
    {
      "cell_type": "code",
      "metadata": {
        "id": "Gm9WOZE4h8jh"
      },
      "source": [
        "# If the global seed is set but the operation seed is not set, \n",
        "# we get different results for every call to the random op, but the same sequence for every re-run of the program:\n",
        "tf.random.set_seed(1234)\n",
        "print(tf.random.uniform([1]))  # generates 'A1'\n",
        "print(tf.random.uniform([1]))  # generates 'A2'"
      ],
      "execution_count": null,
      "outputs": []
    },
    {
      "cell_type": "code",
      "metadata": {
        "id": "cO882sIoiIZ0"
      },
      "source": [
        "# Rerun the program and run below lines it shows same results as above\n",
        "tf.random.set_seed(1234)\n",
        "print(tf.random.uniform([1]))  # generates 'A1'\n",
        "print(tf.random.uniform([1]))  # generates 'A2'"
      ],
      "execution_count": null,
      "outputs": []
    },
    {
      "cell_type": "markdown",
      "metadata": {
        "id": "1oiiTYHQijsu"
      },
      "source": [
        "> Note : `tf.function` acts like a re-run of a program in this case. When the global seed is set but operation seeds are not set, the sequence of random numbers are the same for each tf.function"
      ]
    },
    {
      "cell_type": "code",
      "metadata": {
        "id": "8uT8462wiSjc"
      },
      "source": [
        "# If the operation seed is set,\n",
        "# we get different results for every call to the random op, but the same sequence for every re-run of the program:\n",
        "print(tf.random.uniform([1], seed=1))  # generates 'A1'\n",
        "print(tf.random.uniform([1], seed=1))  # generates 'A2'"
      ],
      "execution_count": null,
      "outputs": []
    },
    {
      "cell_type": "code",
      "metadata": {
        "id": "qaKoJVxnjUNG"
      },
      "source": [
        "# Rerun the program and run below lines it shows same results as above\n",
        "print(tf.random.uniform([1], seed=1))  # generates 'A1'\n",
        "print(tf.random.uniform([1], seed=1))  # generates 'A2'"
      ],
      "execution_count": null,
      "outputs": []
    },
    {
      "cell_type": "code",
      "metadata": {
        "id": "DoBu9UCKjZPG"
      },
      "source": [
        "# If both global and operation level seed are set we get same results for every run\n",
        "tf.random.set_seed(1234)\n",
        "print(tf.random.normal((3,2), seed=1234))"
      ],
      "execution_count": null,
      "outputs": []
    },
    {
      "cell_type": "code",
      "metadata": {
        "id": "EWu2ZX7vjfZ2"
      },
      "source": [
        "# If You restart and run below cell than also it will return same result\n",
        "tf.random.set_seed(1234)\n",
        "print(tf.random.normal((3,2), seed=1234))"
      ],
      "execution_count": null,
      "outputs": []
    },
    {
      "cell_type": "markdown",
      "metadata": {
        "id": "XeJZOi3lk0ET"
      },
      "source": [
        "### Different ways of creating Tensors"
      ]
    },
    {
      "cell_type": "code",
      "metadata": {
        "id": "xh_2QrT7kta0"
      },
      "source": [
        "# creating tensors of all ones\n",
        "tf.ones((10,7))"
      ],
      "execution_count": null,
      "outputs": []
    },
    {
      "cell_type": "code",
      "metadata": {
        "id": "I-zMB7KClgH7"
      },
      "source": [
        "# creating tensors of all zeros\n",
        "tf.zeros((10, 7))"
      ],
      "execution_count": null,
      "outputs": []
    },
    {
      "cell_type": "markdown",
      "metadata": {
        "id": "iiCI1rlIlots"
      },
      "source": [
        "### creating tensors from NumPy array\n",
        "The main difference between NumPy arrays and Tensorflow tensors is that tensors can run on GPUs (Faster Computing).\n",
        "\n",
        "( You can use Jax to use NumPy array direcly to run on GPUs.) "
      ]
    },
    {
      "cell_type": "code",
      "metadata": {
        "id": "jFMG6z-7l-Wo"
      },
      "source": [
        "import numpy as np\n",
        "numpy_A = np.arange(1, 25, dtype=np.int32) \n",
        "numpy_A"
      ],
      "execution_count": null,
      "outputs": []
    },
    {
      "cell_type": "code",
      "metadata": {
        "id": "eoB9cnSvnFmm"
      },
      "source": [
        "A = tf.constant(numpy_A, shape = (2,3,4)) # 2 * 3 * 4 = 24\n",
        "B = tf.constant (numpy_A, shape = (3,8)) # 8 * 3 = 24\n",
        "A, B"
      ],
      "execution_count": null,
      "outputs": []
    },
    {
      "cell_type": "markdown",
      "metadata": {
        "id": "dYr06r8lnMJO"
      },
      "source": [
        "### Getting information from Tensors\n",
        "| Attribute | Code |\n",
        "| :----------: | ---------------- |\n",
        "| Shape | tensor.shape |\n",
        "| Rank | tensor.ndim |\n",
        "| Axis or dimension | tensor[0], tensor[:,-1]... |\n",
        "| Size | tf.size(tensor) |\n",
        "\n",
        "\n"
      ]
    },
    {
      "cell_type": "code",
      "metadata": {
        "id": "NXjzIFTDn5CX"
      },
      "source": [
        "# Creating Rank 4 Tensor \n",
        "rank_4_tensor = tf.zeros(shape = (2,3,4,5))\n",
        "rank_4_tensor"
      ],
      "execution_count": null,
      "outputs": []
    },
    {
      "cell_type": "code",
      "metadata": {
        "id": "GH62JfFB2ya-"
      },
      "source": [
        "rank_4_tensor[0]"
      ],
      "execution_count": null,
      "outputs": []
    },
    {
      "cell_type": "code",
      "metadata": {
        "id": "L43wg0un3Dh3"
      },
      "source": [
        "print(\"Shape : \", rank_4_tensor.shape)\n",
        "print(\"Rank : \", rank_4_tensor.ndim)\n",
        "print(\"Size : \", tf.size(rank_4_tensor).numpy())"
      ],
      "execution_count": null,
      "outputs": []
    },
    {
      "cell_type": "code",
      "metadata": {
        "id": "3nepD0DR3Y2y"
      },
      "source": [
        "print(\"Data type of Every Eleemnt: \", rank_4_tensor.dtype)\n",
        "print(\"Element along 0th axis: \", rank_4_tensor[0])\n",
        "print(\"Element along with last axis: \", rank_4_tensor[-1])"
      ],
      "execution_count": null,
      "outputs": []
    },
    {
      "cell_type": "markdown",
      "metadata": {
        "id": "apQU_sfI30e4"
      },
      "source": [
        "### Indexing Tensors\n",
        "Tensor can be index like Python List"
      ]
    },
    {
      "cell_type": "code",
      "metadata": {
        "id": "jbo6NyY64UWX"
      },
      "source": [
        "rank_4_tensor = tf.random.uniform(shape=(2,3,4,5), minval=0, maxval=120)\n",
        "rank_4_tensor"
      ],
      "execution_count": null,
      "outputs": []
    },
    {
      "cell_type": "code",
      "metadata": {
        "id": "ogd_UI4u4Hyg"
      },
      "source": [
        "# Get First 2 Elemetns of Each Dimension\n",
        "rank_4_tensor[:2, :2, :2, :2]"
      ],
      "execution_count": null,
      "outputs": []
    },
    {
      "cell_type": "code",
      "metadata": {
        "id": "RSPKDNk15Aqo"
      },
      "source": [
        "# Get First Element from Each dimension from each index except the final one\n",
        "rank_4_tensor[ :1, :1, :1, :]"
      ],
      "execution_count": null,
      "outputs": []
    },
    {
      "cell_type": "code",
      "metadata": {
        "id": "5FczR34A5j4B"
      },
      "source": [
        "# create rank 2 tensor\n",
        "rank_2_tensor = tf.constant([[10, 20],\n",
        "                             [20, 30]])\n",
        "rank_2_tensor"
      ],
      "execution_count": null,
      "outputs": []
    },
    {
      "cell_type": "code",
      "metadata": {
        "id": "w8NuHN7R6afA"
      },
      "source": [
        "# Get Last Item of Each Row\n",
        "rank_2_tensor[:, -1]"
      ],
      "execution_count": null,
      "outputs": []
    },
    {
      "cell_type": "code",
      "metadata": {
        "id": "2SnEurUo6jLo"
      },
      "source": [
        "# Adding Extra Diemention to rank 2 tensor\n",
        "rank_3_tensor = rank_2_tensor[..., tf.newaxis]\n",
        "rank_3_tensor"
      ],
      "execution_count": null,
      "outputs": []
    },
    {
      "cell_type": "code",
      "metadata": {
        "id": "Mio8gjZZ60H8"
      },
      "source": [
        "tf.expand_dims(rank_2_tensor, axis=-1)"
      ],
      "execution_count": null,
      "outputs": []
    },
    {
      "cell_type": "markdown",
      "metadata": {
        "id": "S6Zsh_vA85yY"
      },
      "source": [
        "### Manipulating Tensors\n",
        "\n",
        "Finding patterns in tensors (numberical representation of data) requires manipulating them\n",
        "\n",
        "**Basic Operation**\n",
        "\n",
        "We can perform most of the basic mathematical tensor operations directly on tensors using Python operators.\n",
        " `+`, `-`, `*`, `/`."
      ]
    },
    {
      "cell_type": "code",
      "metadata": {
        "id": "pOAMorEU9WN3"
      },
      "source": [
        "a = tf.constant([[10, 20],\n",
        "                 [30, 40]])\n",
        "a, a+10"
      ],
      "execution_count": null,
      "outputs": []
    },
    {
      "cell_type": "markdown",
      "metadata": {
        "id": "34fJzc9i2vnY"
      },
      "source": [
        "Here original tensor is not going to update it will create new copy for resulting tensor."
      ]
    },
    {
      "cell_type": "code",
      "metadata": {
        "id": "5sA8qzm29w1T"
      },
      "source": [
        "a * 10"
      ],
      "execution_count": null,
      "outputs": []
    },
    {
      "cell_type": "code",
      "metadata": {
        "id": "xovepdpS97LB"
      },
      "source": [
        "a - 10"
      ],
      "execution_count": null,
      "outputs": []
    },
    {
      "cell_type": "code",
      "metadata": {
        "id": "-R8zlxuY98C8"
      },
      "source": [
        "a / 10"
      ],
      "execution_count": null,
      "outputs": []
    },
    {
      "cell_type": "code",
      "metadata": {
        "id": "0DX1hDrP98y6"
      },
      "source": [
        "tf.multiply(a, 10)"
      ],
      "execution_count": null,
      "outputs": []
    },
    {
      "cell_type": "code",
      "metadata": {
        "id": "Ps5tING7DQgO"
      },
      "source": [
        "tf.add(a, 10)"
      ],
      "execution_count": null,
      "outputs": []
    },
    {
      "cell_type": "code",
      "metadata": {
        "id": "ObnsfifkDSgz"
      },
      "source": [
        "tf.subtract(a, 10)"
      ],
      "execution_count": null,
      "outputs": []
    },
    {
      "cell_type": "markdown",
      "metadata": {
        "id": "YdLnc2N5DbQ-"
      },
      "source": [
        "**Matrix Multiplication**\n"
      ]
    },
    {
      "cell_type": "code",
      "metadata": {
        "id": "I-hLXI4zDpNA"
      },
      "source": [
        "tf.matmul(a, a)"
      ],
      "execution_count": null,
      "outputs": []
    },
    {
      "cell_type": "code",
      "metadata": {
        "id": "hUmngOFuELKM"
      },
      "source": [
        "# In Python\n",
        "a @ a"
      ],
      "execution_count": null,
      "outputs": []
    },
    {
      "cell_type": "code",
      "metadata": {
        "id": "b9budUtBEQiZ"
      },
      "source": [
        "x = tf.constant([[1, 2],\n",
        "                 [3, 5],\n",
        "                 [7, 2]])\n",
        "y = tf.constant([[5, 2],\n",
        "                 [5, 7],\n",
        "                 [8, 9]])"
      ],
      "execution_count": null,
      "outputs": []
    },
    {
      "cell_type": "code",
      "metadata": {
        "id": "SMI-D57pGBQy"
      },
      "source": [
        "tf.matmul(x, y)"
      ],
      "execution_count": null,
      "outputs": []
    },
    {
      "cell_type": "code",
      "metadata": {
        "id": "s0ICaunqGDxs"
      },
      "source": [
        "x.shape, tf.reshape(y, shape=(2,3)).shape"
      ],
      "execution_count": null,
      "outputs": []
    },
    {
      "cell_type": "code",
      "metadata": {
        "id": "810Es-ZgGJQS"
      },
      "source": [
        "tf.matmul(x, tf.reshape(y, shape=(2,3)))"
      ],
      "execution_count": null,
      "outputs": []
    },
    {
      "cell_type": "code",
      "metadata": {
        "id": "WRZt_46JGIJM"
      },
      "source": [
        "tf.matmul(tf.reshape(x, shape=(2,3)), y)"
      ],
      "execution_count": null,
      "outputs": []
    },
    {
      "cell_type": "code",
      "metadata": {
        "id": "msdLxoOTGdOz"
      },
      "source": [
        "# Transpose OF martix\n",
        "y, tf.transpose(y)"
      ],
      "execution_count": null,
      "outputs": []
    },
    {
      "cell_type": "code",
      "metadata": {
        "id": "StcJn2xcHINQ"
      },
      "source": [
        ""
      ],
      "execution_count": null,
      "outputs": []
    }
  ]
}